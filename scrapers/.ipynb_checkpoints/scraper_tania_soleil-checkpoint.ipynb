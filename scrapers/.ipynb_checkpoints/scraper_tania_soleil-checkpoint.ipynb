{
 "cells": [
  {
   "cell_type": "code",
   "execution_count": 1,
   "metadata": {},
   "outputs": [],
   "source": [
    "import pandas as pd\n",
    "import json\n",
    "import re"
   ]
  },
  {
   "cell_type": "code",
   "execution_count": 9,
   "metadata": {},
   "outputs": [],
   "source": [
    "import epitran\n",
    "epi_ru = epitran.Epitran('rus-Cyrl')"
   ]
  },
  {
   "cell_type": "code",
   "execution_count": 40,
   "metadata": {},
   "outputs": [
    {
     "data": {
      "text/plain": [
       "'##ma'"
      ]
     },
     "execution_count": 40,
     "metadata": {},
     "output_type": "execute_result"
    }
   ],
   "source": [
    "s = epi_ru.transliterate(u'Привет мой милый мальчик. Как дела')\n",
    "# \"_\".join([i for i in s])\n",
    "s"
   ]
  },
  {
   "cell_type": "code",
   "execution_count": 20,
   "metadata": {},
   "outputs": [
    {
     "name": "stderr",
     "output_type": "stream",
     "text": [
      "INFO:pytorch_pretrained_bert.modeling:Better speed can be achieved with apex installed from https://www.github.com/nvidia/apex .\n"
     ]
    }
   ],
   "source": [
    "import pytorch_pretrained_bert"
   ]
  },
  {
   "cell_type": "code",
   "execution_count": 41,
   "metadata": {
    "scrolled": true
   },
   "outputs": [
    {
     "name": "stderr",
     "output_type": "stream",
     "text": [
      "INFO:pytorch_pretrained_bert.tokenization:loading vocabulary file https://s3.amazonaws.com/models.huggingface.co/bert/bert-base-multilingual-cased-vocab.txt from cache at /Users/michaelsolonin/.pytorch_pretrained_bert/96435fa287fbf7e469185f1062386e05a075cadbf6838b74da22bf64b080bc32.99bcd55fc66f4f3360bc49ba472b940b8dcf223ea6a345deb969d607ca900729\n"
     ]
    }
   ],
   "source": [
    "d = pytorch_pretrained_bert.BertTokenizer.\\\n",
    "        from_pretrained(\"bert-base-multilingual-cased\", do_lower_case=False)"
   ]
  },
  {
   "cell_type": "code",
   "execution_count": 109,
   "metadata": {},
   "outputs": [],
   "source": [
    "s = \" \".join(d.tokenize(\"nurse foot my cup hawk square, goat are you choice, jet??\"))"
   ]
  },
  {
   "cell_type": "code",
   "execution_count": 110,
   "metadata": {},
   "outputs": [
    {
     "data": {
      "text/plain": [
       "'nurse foot my cup ha ##w ##k square , go ##at are you choice , jet ? ?'"
      ]
     },
     "execution_count": 110,
     "metadata": {},
     "output_type": "execute_result"
    }
   ],
   "source": [
    "s"
   ]
  },
  {
   "cell_type": "code",
   "execution_count": 112,
   "metadata": {},
   "outputs": [
    {
     "data": {
      "text/plain": [
       "'nɹ̩s fʊt maj kʌp hɑ ##dʌbəlju ##kej skwɛɹ , ɡow ##æt ɑɹ ju t͡ʃojs , d͡ʒɛt ? ?'"
      ]
     },
     "execution_count": 112,
     "metadata": {},
     "output_type": "execute_result"
    }
   ],
   "source": [
    "epi_en.transliterate(s)"
   ]
  },
  {
   "cell_type": "code",
   "execution_count": 113,
   "metadata": {},
   "outputs": [
    {
     "data": {
      "text/plain": [
       "'d͡ʒɛt'"
      ]
     },
     "execution_count": 113,
     "metadata": {},
     "output_type": "execute_result"
    }
   ],
   "source": [
    "epi_en.transliterate(\"jet\")"
   ]
  },
  {
   "cell_type": "code",
   "execution_count": 114,
   "metadata": {},
   "outputs": [
    {
     "data": {
      "text/plain": [
       "['dZ', 'E', 't']"
      ]
     },
     "execution_count": 114,
     "metadata": {},
     "output_type": "execute_result"
    }
   ],
   "source": [
    "epi_en.xsampa_list(\"jet\")"
   ]
  },
  {
   "cell_type": "code",
   "execution_count": 61,
   "metadata": {},
   "outputs": [
    {
     "data": {
      "text/plain": [
       "['__class__',\n",
       " '__delattr__',\n",
       " '__dict__',\n",
       " '__dir__',\n",
       " '__doc__',\n",
       " '__eq__',\n",
       " '__format__',\n",
       " '__ge__',\n",
       " '__getattribute__',\n",
       " '__gt__',\n",
       " '__hash__',\n",
       " '__init__',\n",
       " '__init_subclass__',\n",
       " '__le__',\n",
       " '__lt__',\n",
       " '__module__',\n",
       " '__ne__',\n",
       " '__new__',\n",
       " '__reduce__',\n",
       " '__reduce_ex__',\n",
       " '__repr__',\n",
       " '__setattr__',\n",
       " '__sizeof__',\n",
       " '__str__',\n",
       " '__subclasshook__',\n",
       " '__weakref__',\n",
       " 'epi',\n",
       " 'ft',\n",
       " 'puncnorm',\n",
       " 'reverse_transliterate',\n",
       " 'special',\n",
       " 'strict_trans',\n",
       " 'trans_delimiter',\n",
       " 'trans_list',\n",
       " 'transliterate',\n",
       " 'word_to_tuples',\n",
       " 'xsampa',\n",
       " 'xsampa_list']"
      ]
     },
     "execution_count": 61,
     "metadata": {},
     "output_type": "execute_result"
    }
   ],
   "source": [
    "dir(epi_ru)"
   ]
  },
  {
   "cell_type": "code",
   "execution_count": 34,
   "metadata": {},
   "outputs": [],
   "source": [
    "lst = list(d.vocab.keys())"
   ]
  },
  {
   "cell_type": "code",
   "execution_count": 38,
   "metadata": {},
   "outputs": [
    {
     "data": {
      "text/plain": [
       "True"
      ]
     },
     "execution_count": 38,
     "metadata": {},
     "output_type": "execute_result"
    }
   ],
   "source": [
    "\"##ма\" in lst"
   ]
  },
  {
   "cell_type": "code",
   "execution_count": 31,
   "metadata": {},
   "outputs": [
    {
     "data": {
      "text/plain": [
       "119547"
      ]
     },
     "execution_count": 31,
     "metadata": {},
     "output_type": "execute_result"
    }
   ],
   "source": [
    "len(lst)"
   ]
  },
  {
   "cell_type": "code",
   "execution_count": 2,
   "metadata": {},
   "outputs": [],
   "source": [
    "epi_en = epitran.Epitran('eng-Latn')"
   ]
  },
  {
   "cell_type": "code",
   "execution_count": 7,
   "metadata": {},
   "outputs": [
    {
     "data": {
      "text/plain": [
       "'həlow maj dɪɹ boj, haw ɑɹ ju filɪŋ??'"
      ]
     },
     "execution_count": 7,
     "metadata": {},
     "output_type": "execute_result"
    }
   ],
   "source": [
    "epi_en.transliterate(u\"Hello my dear boy, how are you feeling??\")"
   ]
  },
  {
   "cell_type": "code",
   "execution_count": null,
   "metadata": {},
   "outputs": [],
   "source": []
  },
  {
   "cell_type": "code",
   "execution_count": null,
   "metadata": {},
   "outputs": [],
   "source": []
  },
  {
   "cell_type": "code",
   "execution_count": null,
   "metadata": {},
   "outputs": [],
   "source": []
  },
  {
   "cell_type": "code",
   "execution_count": 125,
   "metadata": {},
   "outputs": [],
   "source": [
    "import json\n",
    "file = open(\"./texts_soleil_v1.json\", \"r\")\n",
    "j = json.load(file)\n",
    "lst = []\n",
    "for i in j:\n",
    "    lst.append([i[\"article\"], i[\"original\"], i[\"url\"]])"
   ]
  },
  {
   "cell_type": "code",
   "execution_count": 126,
   "metadata": {},
   "outputs": [],
   "source": [
    "def what_lang(string):\n",
    "    en_rate = len(re.findall(r\"[a-zA-Z ]\", string)) / len(string)\n",
    "    ru_rate = len(re.findall(r\"[а-яА-Я ]\", string)) / len(string)\n",
    "    if en_rate > ru_rate:\n",
    "        return \"en\"\n",
    "    else:\n",
    "        return \"ru\""
   ]
  },
  {
   "cell_type": "code",
   "execution_count": null,
   "metadata": {},
   "outputs": [],
   "source": []
  },
  {
   "cell_type": "code",
   "execution_count": 127,
   "metadata": {},
   "outputs": [],
   "source": [
    "lst_en_ru = []\n",
    "for i in range(len(df)):\n",
    "    if (what_lang(df.iloc[i].article) == \"en\" and what_lang(df.iloc[i].original) == \"en\") or \\\n",
    "            (what_lang(df.iloc[i].article) == \"ru\" and what_lang(df.iloc[i].original) == \"ru\"):\n",
    "        pass\n",
    "    elif what_lang(df.iloc[i].article) == \"en\":\n",
    "        lst_en_ru.append([df.iloc[i].article, df.iloc[i].original, df.iloc[i].url])\n",
    "    elif what_lang(df.iloc[i].original) == \"en\":\n",
    "        lst_en_ru.append([df.iloc[i].original, df.iloc[i].article, df.iloc[i].url])\n",
    "    else:\n",
    "        pass"
   ]
  },
  {
   "cell_type": "code",
   "execution_count": 128,
   "metadata": {},
   "outputs": [],
   "source": [
    "data = pd.DataFrame(lst_en_ru, columns=[\"en\",\"ru\",\"url\"])"
   ]
  },
  {
   "cell_type": "code",
   "execution_count": 129,
   "metadata": {},
   "outputs": [
    {
     "data": {
      "text/html": [
       "<div>\n",
       "<style scoped>\n",
       "    .dataframe tbody tr th:only-of-type {\n",
       "        vertical-align: middle;\n",
       "    }\n",
       "\n",
       "    .dataframe tbody tr th {\n",
       "        vertical-align: top;\n",
       "    }\n",
       "\n",
       "    .dataframe thead th {\n",
       "        text-align: right;\n",
       "    }\n",
       "</style>\n",
       "<table border=\"1\" class=\"dataframe\">\n",
       "  <thead>\n",
       "    <tr style=\"text-align: right;\">\n",
       "      <th></th>\n",
       "      <th>en</th>\n",
       "      <th>ru</th>\n",
       "      <th>url</th>\n",
       "    </tr>\n",
       "  </thead>\n",
       "  <tbody>\n",
       "    <tr>\n",
       "      <td>0</td>\n",
       "      <td>In a phone-booth, eyes in tears,\\nStands a you...</td>\n",
       "      <td>Мерзнет девочка в автомате,\\nПрячет в зябкое п...</td>\n",
       "      <td>https://www.tania-soleil.com/voznesenskii-merz...</td>\n",
       "    </tr>\n",
       "  </tbody>\n",
       "</table>\n",
       "</div>"
      ],
      "text/plain": [
       "                                                  en  \\\n",
       "0  In a phone-booth, eyes in tears,\\nStands a you...   \n",
       "\n",
       "                                                  ru  \\\n",
       "0  Мерзнет девочка в автомате,\\nПрячет в зябкое п...   \n",
       "\n",
       "                                                 url  \n",
       "0  https://www.tania-soleil.com/voznesenskii-merz...  "
      ]
     },
     "execution_count": 129,
     "metadata": {},
     "output_type": "execute_result"
    }
   ],
   "source": [
    "data[abs(data.en.str.split(\"\\n\").str.len() - data.ru.str.split(\"\\n\").str.len()) != 0]"
   ]
  },
  {
   "cell_type": "code",
   "execution_count": 130,
   "metadata": {},
   "outputs": [
    {
     "data": {
      "text/html": [
       "<div>\n",
       "<style scoped>\n",
       "    .dataframe tbody tr th:only-of-type {\n",
       "        vertical-align: middle;\n",
       "    }\n",
       "\n",
       "    .dataframe tbody tr th {\n",
       "        vertical-align: top;\n",
       "    }\n",
       "\n",
       "    .dataframe thead th {\n",
       "        text-align: right;\n",
       "    }\n",
       "</style>\n",
       "<table border=\"1\" class=\"dataframe\">\n",
       "  <thead>\n",
       "    <tr style=\"text-align: right;\">\n",
       "      <th></th>\n",
       "      <th>en</th>\n",
       "      <th>ru</th>\n",
       "      <th>url</th>\n",
       "    </tr>\n",
       "  </thead>\n",
       "  <tbody>\n",
       "    <tr>\n",
       "      <td>0</td>\n",
       "      <td>In a phone-booth, eyes in tears,\\nStands a you...</td>\n",
       "      <td>Мерзнет девочка в автомате,\\nПрячет в зябкое п...</td>\n",
       "      <td>https://www.tania-soleil.com/voznesenskii-merz...</td>\n",
       "    </tr>\n",
       "  </tbody>\n",
       "</table>\n",
       "</div>"
      ],
      "text/plain": [
       "                                                  en  \\\n",
       "0  In a phone-booth, eyes in tears,\\nStands a you...   \n",
       "\n",
       "                                                  ru  \\\n",
       "0  Мерзнет девочка в автомате,\\nПрячет в зябкое п...   \n",
       "\n",
       "                                                 url  \n",
       "0  https://www.tania-soleil.com/voznesenskii-merz...  "
      ]
     },
     "execution_count": 130,
     "metadata": {},
     "output_type": "execute_result"
    }
   ],
   "source": [
    "data"
   ]
  },
  {
   "cell_type": "code",
   "execution_count": 113,
   "metadata": {},
   "outputs": [
    {
     "name": "stdout",
     "output_type": "stream",
     "text": [
      "In a phone-booth, eyes in tears,\n",
      "Stands a young girl, all distraught,\n",
      "Hides her face, with lipstick smeared,\n",
      "Deep into her flimsy coat.\n",
      "Skinny fingers cup her face.\n",
      "Fingers – sting. And earrings — blaze. \n",
      "All alone she must retreat\n",
      "Back on down the frozen street. \n",
      "It’s the first frost. For the first time.\n",
      "From a phone phrase, it’s the first rime. \n",
      "Frozen marks on the cheeks glow–\n",
      "It’s the first frost of a human woe.\n",
      "Andrey Voznesensky\n",
      "Translated by Andrey Kneller\n",
      "***\n",
      "Мерзнет девочка в автомате,\n",
      "Прячет в зябкое пальтецо\n",
      "Все в слезах и губной помаде\n",
      "Перемазанное лицо. \n",
      "Дышит в худенькие ладошки.\n",
      "Пальцы — льдышки. В ушах — сережки. \n",
      "Ей обратно одной, одной\n",
      "Вдоль по улочке ледяной. \n",
      "Первый лед. Это в первый раз.\n",
      "Первый лед телефонных фраз. \n",
      "Мерзлый след на щеках блестит —\n",
      "Первый лед от людских обид. \n",
      "\n",
      "***\n",
      "https://www.tania-soleil.com/voznesenskii-merznet-devochka-v-avtomate-na-angliiskom/\n"
     ]
    }
   ],
   "source": [
    "c = 6\n",
    "\n",
    "print(data[     \n",
    "        abs(  \n",
    "            data.en.str.split(\"\\n\").str.len() - data.ru.str.split(\"\\n\").str.len()   \n",
    "        ) == 1   \n",
    "        ].   \n",
    "        iloc[c].  \n",
    "        en )\n",
    "print(\"***\")\n",
    "print(data[     \n",
    "        abs(  \n",
    "            data.en.str.split(\"\\n\").str.len() - data.ru.str.split(\"\\n\").str.len()   \n",
    "        ) == 1   \n",
    "        ].   \n",
    "        iloc[c].  \n",
    "        ru )\n",
    "print(\"***\")\n",
    "print(data[     \n",
    "        abs(  \n",
    "            data.en.str.split(\"\\n\").str.len() - data.ru.str.split(\"\\n\").str.len()   \n",
    "        ) == 1   \n",
    "        ].   \n",
    "        iloc[c].  \n",
    "        url )"
   ]
  },
  {
   "cell_type": "code",
   "execution_count": 107,
   "metadata": {},
   "outputs": [
    {
     "data": {
      "text/plain": [
       "<matplotlib.axes._subplots.AxesSubplot at 0x11e867490>"
      ]
     },
     "execution_count": 107,
     "metadata": {},
     "output_type": "execute_result"
    },
    {
     "data": {
      "image/png": "[encoded data removed]",
      "text/plain": [
       "<Figure size 432x288 with 1 Axes>"
      ]
     },
     "metadata": {
      "needs_background": "light"
     },
     "output_type": "display_data"
    }
   ],
   "source": [
    "p = data.en.str.split(\"\\n\").str.len() - data.ru.str.split(\"\\n\").str.len()\n",
    "p[p!=0].hist(bins=50)"
   ]
  },
  {
   "cell_type": "code",
   "execution_count": null,
   "metadata": {},
   "outputs": [],
   "source": []
  },
  {
   "cell_type": "code",
   "execution_count": null,
   "metadata": {},
   "outputs": [],
   "source": []
  },
  {
   "cell_type": "code",
   "execution_count": null,
   "metadata": {},
   "outputs": [],
   "source": []
  },
  {
   "cell_type": "code",
   "execution_count": 43,
   "metadata": {},
   "outputs": [],
   "source": [
    "import json"
   ]
  },
  {
   "cell_type": "code",
   "execution_count": 44,
   "metadata": {},
   "outputs": [],
   "source": [
    "file = open(\"texts_ruverses.json\", \"r\")\n",
    "j = json.load(file)\n",
    "lst = []\n",
    "for i in j:\n",
    "    lst.append([i[\"article\"], i[\"original\"], i[\"text\"]])"
   ]
  },
  {
   "cell_type": "code",
   "execution_count": 45,
   "metadata": {},
   "outputs": [],
   "source": [
    "df = pd.DataFrame(lst, columns=[\"article\",\"original\",\"text\"])\n",
    "df = df[df.text.str.contains(\"английский\")].reset_index(drop=True)"
   ]
  },
  {
   "cell_type": "code",
   "execution_count": 46,
   "metadata": {},
   "outputs": [],
   "source": [
    "df.original = df.original.apply(lambda x: re.sub(\"\\n+\", \"\\n\", x).strip())\n",
    "df.article = df.article.apply(lambda x: re.sub(\"\\n+\", \"\\n\", x).strip())"
   ]
  },
  {
   "cell_type": "code",
   "execution_count": 48,
   "metadata": {},
   "outputs": [
    {
     "data": {
      "text/html": [
       "<div>\n",
       "<style scoped>\n",
       "    .dataframe tbody tr th:only-of-type {\n",
       "        vertical-align: middle;\n",
       "    }\n",
       "\n",
       "    .dataframe tbody tr th {\n",
       "        vertical-align: top;\n",
       "    }\n",
       "\n",
       "    .dataframe thead th {\n",
       "        text-align: right;\n",
       "    }\n",
       "</style>\n",
       "<table border=\"1\" class=\"dataframe\">\n",
       "  <thead>\n",
       "    <tr style=\"text-align: right;\">\n",
       "      <th></th>\n",
       "      <th>article</th>\n",
       "      <th>original</th>\n",
       "      <th>text</th>\n",
       "    </tr>\n",
       "  </thead>\n",
       "  <tbody>\n",
       "    <tr>\n",
       "      <td>0</td>\n",
       "      <td>I'm fond of the old speech.\\nThere's a charm i...</td>\n",
       "      <td>Влечет меня старинный слог.\\nЕсть обаянье в др...</td>\n",
       "      <td>Перевод стихотворения Беллы Ахмадулиной «Влече...</td>\n",
       "    </tr>\n",
       "    <tr>\n",
       "      <td>17</td>\n",
       "      <td>I love, Marina, that you were, like all, \\ntha...</td>\n",
       "      <td>Люблю, Марина, что тебя, как всех,\\nчто, — как...</td>\n",
       "      <td>Перевод стихотворения Беллы Ахмадулиной «Уроки...</td>\n",
       "    </tr>\n",
       "    <tr>\n",
       "      <td>53</td>\n",
       "      <td>O, you, my life, enough of fuss,\\nEnough compl...</td>\n",
       "      <td>О, жизнь моя! Не надо суеты,\\nНе надо жалоб, —...</td>\n",
       "      <td>Перевод стихотворения Георгия Адамовича «О, жи...</td>\n",
       "    </tr>\n",
       "    <tr>\n",
       "      <td>65</td>\n",
       "      <td>Thank you for everything. For the war,\\nFor th...</td>\n",
       "      <td>За все, за все спасибо. За войну,\\nЗа революци...</td>\n",
       "      <td>Перевод стихотворения Георгия Адамовича «За вс...</td>\n",
       "    </tr>\n",
       "    <tr>\n",
       "      <td>100</td>\n",
       "      <td>My soul is borne out on the wind.\\nThrough the...</td>\n",
       "      <td>Душа откуда-то приносится Ветрами,\\n        ‎Ч...</td>\n",
       "      <td>Перевод стихотворения Константина Бальмонта «С...</td>\n",
       "    </tr>\n",
       "    <tr>\n",
       "      <td>...</td>\n",
       "      <td>...</td>\n",
       "      <td>...</td>\n",
       "      <td>...</td>\n",
       "    </tr>\n",
       "    <tr>\n",
       "      <td>4311</td>\n",
       "      <td>How's life with the other     woman? \\nSimpler...</td>\n",
       "      <td>Как живётся вам с другою, —\\nПроще ведь? — Уда...</td>\n",
       "      <td>Перевод стихотворения Марины Цветаевой «Попытк...</td>\n",
       "    </tr>\n",
       "    <tr>\n",
       "      <td>4315</td>\n",
       "      <td>Oh, table, on which I write!\\nI thank you with...</td>\n",
       "      <td>5\\nМой письменный верный стол!\\nСпасибо за то,...</td>\n",
       "      <td>Перевод стихотворения Марины Цветаевой «Стол. ...</td>\n",
       "    </tr>\n",
       "    <tr>\n",
       "      <td>4321</td>\n",
       "      <td>Fair enough: you people have eaten me,\\nI — wr...</td>\n",
       "      <td>6\\nКвиты: вами я объедена,\\nМною — живописаны....</td>\n",
       "      <td>Перевод стихотворения Марины Цветаевой «Стол. ...</td>\n",
       "    </tr>\n",
       "    <tr>\n",
       "      <td>4322</td>\n",
       "      <td>The underground snake crawls,\\nCrawls, carries...</td>\n",
       "      <td>Ползёт подземный змей,\\nПолзёт, везёт людей.\\n...</td>\n",
       "      <td>Перевод стихотворения Марины Цветаевой «Читате...</td>\n",
       "    </tr>\n",
       "    <tr>\n",
       "      <td>4331</td>\n",
       "      <td>Thinking of something, carelessly,\\nSomething ...</td>\n",
       "      <td>7\\nВ мыслях об ином, инаком,\\nИ ненайденном, к...</td>\n",
       "      <td>Перевод стихотворения Марины Цветаевой «Стихи ...</td>\n",
       "    </tr>\n",
       "  </tbody>\n",
       "</table>\n",
       "<p>238 rows × 3 columns</p>\n",
       "</div>"
      ],
      "text/plain": [
       "                                                article  \\\n",
       "0     I'm fond of the old speech.\\nThere's a charm i...   \n",
       "17    I love, Marina, that you were, like all, \\ntha...   \n",
       "53    O, you, my life, enough of fuss,\\nEnough compl...   \n",
       "65    Thank you for everything. For the war,\\nFor th...   \n",
       "100   My soul is borne out on the wind.\\nThrough the...   \n",
       "...                                                 ...   \n",
       "4311  How's life with the other     woman? \\nSimpler...   \n",
       "4315  Oh, table, on which I write!\\nI thank you with...   \n",
       "4321  Fair enough: you people have eaten me,\\nI — wr...   \n",
       "4322  The underground snake crawls,\\nCrawls, carries...   \n",
       "4331  Thinking of something, carelessly,\\nSomething ...   \n",
       "\n",
       "                                               original  \\\n",
       "0     Влечет меня старинный слог.\\nЕсть обаянье в др...   \n",
       "17    Люблю, Марина, что тебя, как всех,\\nчто, — как...   \n",
       "53    О, жизнь моя! Не надо суеты,\\nНе надо жалоб, —...   \n",
       "65    За все, за все спасибо. За войну,\\nЗа революци...   \n",
       "100   Душа откуда-то приносится Ветрами,\\n        ‎Ч...   \n",
       "...                                                 ...   \n",
       "4311  Как живётся вам с другою, —\\nПроще ведь? — Уда...   \n",
       "4315  5\\nМой письменный верный стол!\\nСпасибо за то,...   \n",
       "4321  6\\nКвиты: вами я объедена,\\nМною — живописаны....   \n",
       "4322  Ползёт подземный змей,\\nПолзёт, везёт людей.\\n...   \n",
       "4331  7\\nВ мыслях об ином, инаком,\\nИ ненайденном, к...   \n",
       "\n",
       "                                                   text  \n",
       "0     Перевод стихотворения Беллы Ахмадулиной «Влече...  \n",
       "17    Перевод стихотворения Беллы Ахмадулиной «Уроки...  \n",
       "53    Перевод стихотворения Георгия Адамовича «О, жи...  \n",
       "65    Перевод стихотворения Георгия Адамовича «За вс...  \n",
       "100   Перевод стихотворения Константина Бальмонта «С...  \n",
       "...                                                 ...  \n",
       "4311  Перевод стихотворения Марины Цветаевой «Попытк...  \n",
       "4315  Перевод стихотворения Марины Цветаевой «Стол. ...  \n",
       "4321  Перевод стихотворения Марины Цветаевой «Стол. ...  \n",
       "4322  Перевод стихотворения Марины Цветаевой «Читате...  \n",
       "4331  Перевод стихотворения Марины Цветаевой «Стихи ...  \n",
       "\n",
       "[238 rows x 3 columns]"
      ]
     },
     "execution_count": 48,
     "metadata": {},
     "output_type": "execute_result"
    }
   ],
   "source": [
    "df[abs(df.article.str.split(\"\\n\").str.len() - df.original.str.split(\"\\n\").str.len()) == 1]"
   ]
  },
  {
   "cell_type": "code",
   "execution_count": 59,
   "metadata": {},
   "outputs": [
    {
     "name": "stdout",
     "output_type": "stream",
     "text": [
      "Tender-grey the day was, grey as sorrow, and\n",
      "Pallid grew the evening, like a woman's hand.\n",
      "In the house at evening they had hid their hearts,\n",
      "Faint with tender sorrow, — grief that ne'er departs.\n",
      "Hands were clasped together, eyes forebore to meet,\n",
      "Unto glistening shoulders laughing lips retreat.\n",
      "Garb that bares the shoulders, serpent-like array,\n",
      "White as scaly raiment in the waning day.\n",
      "O'er the table-cover brow to brow inclined;\n",
      "O'er the glowing faces locks of hair were twined.\n",
      "Beat of hearts grew swifter, glances sore oppressed,\n",
      "In their thoughts the garden, sultry, deep, at rest.\n",
      "Mutely they together, as in covenant, stirred;\n",
      "Woman's white apparel on the steps was heard.\n",
      "Mutely in the garden, tracelessly they fled,\n",
      "Softly in the heavens, shame its flush outspread.\n",
      "Then, perchance, a star fell, with a trail of red.\n",
      "___\n",
      "***\n",
      "День был нежно-серый, серый, как тоска.\n",
      "Вечер стал матовый, как женская рука.\n",
      "В комнатах вечерних прятали сердца,\n",
      "Усталые от нежной тоски без конца.\n",
      "Пожимали руки, избегали встреч,\n",
      "Укрывали смехи белизною плеч.\n",
      "Длинный вырез платья, платье, как змея,\n",
      "В сумерках белее платья чешуя.\n",
      "Над скатертью в столовой наклонились ниц,\n",
      "Касаясь прическами пылающих лиц.\n",
      "Стуки сердца чаще, напряженней взгляд,\n",
      "В мыслях — он, глубокий, нежный, душный сад.\n",
      "И молча, как по знаку, двинулись вниз.\n",
      "На ступеньках шорох белых женских риз.\n",
      "Молча потонули в саду без следа.\n",
      "Небо тихо вспыхнуло заревом стыда.\n",
      "Может быть, скатилась красная звезда.\n"
     ]
    }
   ],
   "source": [
    "c = 40\n",
    "\n",
    "print(df[     \n",
    "        abs(  \n",
    "            df.article.str.split(\"\\n\").str.len() - df.original.str.split(\"\\n\").str.len()   \n",
    "        ) == 1   \n",
    "        ].   \n",
    "        iloc[c].  \n",
    "        article )\n",
    "print(\"***\")\n",
    "print(df[     \n",
    "        abs(  \n",
    "            df.article.str.split(\"\\n\").str.len() - df.original.str.split(\"\\n\").str.len()   \n",
    "        ) == 1   \n",
    "        ].   \n",
    "        iloc[c].  \n",
    "        original )"
   ]
  },
  {
   "cell_type": "code",
   "execution_count": 8,
   "metadata": {},
   "outputs": [],
   "source": [
    "p = df.article.str.split(\"\\n\").str.len() - df.original.str.split(\"\\n\").str.len()"
   ]
  },
  {
   "cell_type": "code",
   "execution_count": 9,
   "metadata": {},
   "outputs": [
    {
     "data": {
      "text/plain": [
       "0       -2\n",
       "1       -1\n",
       "5      -12\n",
       "7       -6\n",
       "14      -1\n",
       "        ..\n",
       "4326    -3\n",
       "4327    -3\n",
       "4328    -1\n",
       "4330    -1\n",
       "4333     4\n",
       "Length: 1007, dtype: int64"
      ]
     },
     "execution_count": 9,
     "metadata": {},
     "output_type": "execute_result"
    }
   ],
   "source": [
    "p[p != 0]"
   ]
  },
  {
   "cell_type": "code",
   "execution_count": 11,
   "metadata": {},
   "outputs": [
    {
     "data": {
      "text/plain": [
       "<matplotlib.axes._subplots.AxesSubplot at 0x1161376d0>"
      ]
     },
     "execution_count": 11,
     "metadata": {},
     "output_type": "execute_result"
    },
    {
     "data": {
      "image/png": "[encoded data removed]",
      "text/plain": [
       "<Figure size 432x288 with 1 Axes>"
      ]
     },
     "metadata": {
      "needs_background": "light"
     },
     "output_type": "display_data"
    }
   ],
   "source": [
    "p[p != 0].hist(bins=100, )"
   ]
  },
  {
   "cell_type": "code",
   "execution_count": 162,
   "metadata": {},
   "outputs": [
    {
     "name": "stdout",
     "output_type": "stream",
     "text": [
      "The Watermelon\n",
      "The gale is straining its guts; our old tub\n",
      "Heads out into the risky business of the Sea of Azov.\n",
      "Watermelons piled on top of each other, and the hold is overloaded,\n",
      "And the wharf is covered with melons.\n",
      "In the pre-dawn chill we don’t get our first shot of booze,\n",
      "Instead we have to yawn through a tedious watch,\n",
      "We’ll be at sea for three days and three nights;\n",
      "We’ve already unfurled the sails...\n",
      "A breaker smashes into a gray-bearded whitecap,\n",
      "So that spray scatters all over the place,\n",
      "I pick out a melon that’s as resonant as a tambourine,\n",
      "With a knife I carve out a heart on it...\n",
      "An empty sun is setting in the brine,\n",
      "And waves have shoved off the moon...\n",
      "The gale’s blowing hard!\n",
      "Punch away!\n",
      "Let’s go!\n",
      "Little bark, get your sails spread and shaking!\n",
      "The sea is full of thick whitecaps,\n",
      "It’s dark in the hold, and the melons chafe against each other...\n",
      "The wind whistles boatswain-style, through two fingers,\n",
      "And the dark clouds are knocked together into thick clusters,\n",
      "And the rudder is fidgeting, the planking creaks,\n",
      "And the sails of canvas have to be reefed.\n",
      "Smash straight through the waves!\n",
      "Through the rain sail by guesswork!\n",
      "Driven on in the whistling foam,\n",
      "We yaw our way blindly...\n",
      "All out of kilter and sobbing aloud,\n",
      "Our wings of canvas wheeze and snort.\n",
      "We’re drawn into a wild merry-go-round,\n",
      "And the sea stomps [its feet] like an outdoor market,\n",
      "We’re tossed on a sandbar,\n",
      "We’re running aground,\n",
      "This looks like our last season of fishing!\n",
      "The sea is full of shaggy-goat whitecaps,\n",
      "The melons chafe against each other, and it’s dark in the hold...\n",
      "I have not yet composed my last song,\n",
      "But I sense the chill of death...\n",
      "I’ve played cards, I’ve lived as a vagabond,\n",
      "Time to settle accounts with the sea,\n",
      "Now my merry life I’m not likely to preserve,\n",
      "The helm’s torn away, there’s a leak in the hull!\n",
      "An empty sun rises over the sea,\n",
      "In order to thaw and warm the air;\n",
      "Our little bark has vanished, and on the waves floats\n",
      "A melon with a heart carved into it...\n",
      "A breaker smashes into a thick whitecap,\n",
      "A shoal of mackerel flashes past,\n",
      "The melon rocks shore-bound on ripples,\n",
      "And sails its way to the shore...\n",
      "Here it will make an end to its journey;\n",
      "The wind and the tossing are done,\n",
      "A Cossack girl whom I love\n",
      "Picks up the melon with the heart carved into it...\n",
      "And there’s no one there to let her know\n",
      "That she holds my heart in her hands!\n",
      "The Watermelon\n",
      "While the gale blows out bluster,\n",
      "Our rust-bucket freighter\n",
      "Is Sea-of-Azov bound;\n",
      "We’re risking our ass.\n",
      "Our cargo is melons, all fat watermelons,\n",
      "The wharf is a pile of melon on melon,\n",
      "The hold of the ship is a melon morass.\n",
      "In the nippiness pre-dawn we have to stand watch,\n",
      "So we miss our first booze in the morn,\n",
      "For three days and nights\n",
      "We’ll play surf-swell hopscotch;\n",
      "We’ve unfurled our sails\n",
      "And the tempest we scorn.\n",
      "A gray-bearded snow-cap collides with a wave,\n",
      "So that spindrift and spume fill the air;\n",
      "I thump me a melon, one fit to engrave,\n",
      "And I carve out a heart on its green derrière.\n",
      "The desiccate sun sets way low in the brine,\n",
      "And the billows are jostling\n",
      "The moon as she quails,\n",
      "The squall’s punching dirty, below the beltline,\n",
      "Watch out for his backhand!\n",
      "Cast off into dreamland!\n",
      "Wee three-master skiff,\n",
      "Get to shaking your sails!\n",
      "The white-caps are rolling, the elements whinge,\n",
      "So dark in the hold, where the chafed melons cringe. . .\n",
      "The wind with two fingers in mouth, like a boatswain,\n",
      "Whistles shrill shrieks, and its cries resonate,  \n",
      "While shuddering, hunkered-down clouds congregate,\n",
      "And the rudder’s a-dither,\n",
      "The planking all wails,\n",
      "The hands by the halyards\n",
      "Stand by to reef sails.\n",
      "Through waves shatter-smash!\n",
      "Through the rain go a-groping!\n",
      "We’re driven along with the quavering foam,\n",
      "Blindly we pitch and we yaw, barely coping,\n",
      "While wing-flapping mizzenmast\n",
      "Sobs out its moan.\n",
      "A merry-go-round is the ride that we’re on,\n",
      "The querulous ocean is bitching,\n",
      "We’re tossed toward a sandbar and running aground,\n",
      "Looks like our last chance to go fishing!\n",
      "The sea is all white-caps, the billows unhinged,\n",
      "So dark in the hold, where the chafed melons cringe.\n",
      "I’m still writing my songs,\n",
      "And my life’s not yet done,\n",
      "But I sense a forlorn dissolution,\n",
      "I’ve gambled at cards, and I’ve lived like a bum,\n",
      "And the sea brings my just retribution.\n",
      "No more soaring up high like a free-flying gull,\n",
      "For the tiller’s ripped off, there’s a leak in the hull!\n",
      "* * *\n",
      "With desiccate sun over ocean swells risen,\n",
      "The kind that thaws air and warms boats,\n",
      "Nowhere to be seen is our little skiff’s mizzen,\n",
      "Just a heart-engraved melon upon the waves floats.\n",
      "A gray-bearded snow-cap collides with a wave,\n",
      "A mackerel shoal flickers-flash past,\n",
      "Shore-bound through the ripples drifts melon engraved,\n",
      "And, eluding all hazards, he makes landfall at last.\n",
      "So then, at the end of his perilous cruise,\n",
      "The wind-blown mad tossings all bypassed,\n",
      "Who picks up the melon and gazes bemused?\n",
      "A sweetheart of mine, she’s a fine Cossack lass.\n",
      "And there’s no one to tell her, the news to impart,\n",
      "That warm in her fair hands she’s holding my heart!\n"
     ]
    }
   ],
   "source": [
    "print(df.article.iloc[110])"
   ]
  },
  {
   "cell_type": "code",
   "execution_count": 163,
   "metadata": {},
   "outputs": [
    {
     "name": "stdout",
     "output_type": "stream",
     "text": [
      "Свежак надрывается. Прет на рожон \n",
      "Азовского моря корыто. \n",
      "Арбуз на арбузе — и трюм нагружен, \n",
      "Арбузами пристань покрыта. \n",
      "Не пить первача в дорассветную стыдь, \n",
      "На скучном зевать карауле, \n",
      "Три дня и три ночи придется проплыть —\n",
      "И мы паруса развернули... \n",
      "В густой бородач ударяет бурун, \n",
      "Чтоб брызгами вдрызг разлететься; \n",
      "Я выберу звонкий, как бубен, кавун —\n",
      "И ножиком вырежу сердце... \n",
      "Пустынное солнце садится в рассол, \n",
      "И выпихнут месяц волнами... \n",
      "Свежак задувает! \n",
      "Наотмашь! \n",
      "Пошел! \n",
      "Дубок, шевели парусами! \n",
      "Густыми барашками море полно, \n",
      "И трутся арбузы, и в трюме темно... \n",
      "В два пальца, по-боцмански, ветер свистит, \n",
      "И тучи сколочены плотно. \n",
      "И ерзает руль, и обшивка трещит, \n",
      "И забраны в рифы полотна. \n",
      "Сквозь волны — навылет! \n",
      "Сквозь дождь — наугад! \n",
      "В свистящем гонимые мыле, \n",
      "Мы рыщем на ощупь... \n",
      "Навзрыд и не в лад \n",
      "Храпят полотняные крылья. \n",
      "Мы втянуты в дикую карусель. \n",
      "И море топочет как рынок, \n",
      "На мель нас кидает, \n",
      "Нас гонит на мель \n",
      "Последняя наша путина! \n",
      "Козлами кудлатыми море полно, \n",
      "И трутся арбузы, и в трюме темно... \n",
      "Я песни последней еще не сложил, \n",
      "А смертную чую прохладу... \n",
      "Я в карты играл, я бродягою жил, \n",
      "И море приносит награду, — \n",
      "Мне жизни веселой теперь не сберечь —\n",
      "И руль оторвало, и в кузове течь!.. \n",
      "Пустынное солнце над морем встает, \n",
      "Чтоб воздуху таять и греться; \n",
      "Не видно дубка, и по волнам плывет \n",
      "Кавун с нарисованным сердцем... \n",
      "В густой бородач ударяет бурун, \n",
      "Скумбрийная стая играет, \n",
      "Низовый на зыби качает кавун —\n",
      "И к берегу он подплывает... \n",
      "Конец путешествию здесь он найдет, \n",
      "Окончены ветер и качка, —\n",
      "Кавун с нарисованным сердцем берет \n",
      "Любимая мною казачка... \n",
      "И некому здесь надоумить ее, \n",
      "Что в руки взяла она сердце мое!..\n"
     ]
    }
   ],
   "source": [
    "print(df.original.iloc[110])"
   ]
  },
  {
   "cell_type": "code",
   "execution_count": 146,
   "metadata": {},
   "outputs": [
    {
     "name": "stdout",
     "output_type": "stream",
     "text": [
      "I'm fond of the old speech.\n",
      "There's a charm in the ancient words.\n",
      "Compared to the nowaday's one, it\n",
      "could be much more sharp and modern.\n",
      "And to exclaim:\"The half of empire for horse!\" —\n",
      "What's the irascibility and generosity!\n",
      "But the futility of my last force\n",
      "Will bless me also.\n",
      "One time I'll wake up in the dark,\n",
      "Losing forever that vain battle,\n",
      "And to my memory the thought will come,\n",
      "Decision of the old madman.\n",
      "Oh, what will be the half of empire for me!\n",
      "As a learned child of the century,\n",
      "I'll take a horse, the horse I'll give\n",
      "For a half-moment with one man,\n",
      "whom I do love. And God with you,\n",
      "Oh, my horse, my horse, the horse zealous.\n",
      "The bridle I'll weaken gratuitously —\n",
      "then you will reach your dear herd.\n",
      "You'll reach, you'll reach your  herd in steppe,\n",
      "The deserted one, rusty sheet.\n",
      "And I've turned tired of the vanity\n",
      "of that victories and defeats.\n",
      "I'm pity with a horse! With love I'm pity!\n",
      "In the medieval manner there lies to feet\n",
      "the trace of a horseshoe, precise,\n",
      "only a trace of horse I see.\n"
     ]
    }
   ],
   "source": [
    "print(df.article.loc[1])"
   ]
  },
  {
   "cell_type": "code",
   "execution_count": 143,
   "metadata": {},
   "outputs": [
    {
     "data": {
      "text/html": [
       "<div>\n",
       "<style scoped>\n",
       "    .dataframe tbody tr th:only-of-type {\n",
       "        vertical-align: middle;\n",
       "    }\n",
       "\n",
       "    .dataframe tbody tr th {\n",
       "        vertical-align: top;\n",
       "    }\n",
       "\n",
       "    .dataframe thead th {\n",
       "        text-align: right;\n",
       "    }\n",
       "</style>\n",
       "<table border=\"1\" class=\"dataframe\">\n",
       "  <thead>\n",
       "    <tr style=\"text-align: right;\">\n",
       "      <th></th>\n",
       "      <th>article</th>\n",
       "      <th>original</th>\n",
       "      <th>text</th>\n",
       "    </tr>\n",
       "  </thead>\n",
       "  <tbody>\n",
       "    <tr>\n",
       "      <td>0</td>\n",
       "      <td>Fifteen boys and maybe more,\\nor feuer than fi...</td>\n",
       "      <td>Пятнадцать мальчиков, а может быть и больше,\\n...</td>\n",
       "      <td>Перевод стихотворения Беллы Ахмадулиной «Пятна...</td>\n",
       "    </tr>\n",
       "    <tr>\n",
       "      <td>1</td>\n",
       "      <td>I'm fond of the old speech.\\nThere's a charm i...</td>\n",
       "      <td>Влечет меня старинный слог.\\nЕсть обаянье в др...</td>\n",
       "      <td>Перевод стихотворения Беллы Ахмадулиной «Влече...</td>\n",
       "    </tr>\n",
       "    <tr>\n",
       "      <td>2</td>\n",
       "      <td>Laughing, delighting, and rebelling\\nIn all he...</td>\n",
       "      <td>Смеясь, ликуя и бунтуя, \\nв своей безвыходной ...</td>\n",
       "      <td>Перевод стихотворения Беллы Ахмадулиной «Смеяс...</td>\n",
       "    </tr>\n",
       "    <tr>\n",
       "      <td>3</td>\n",
       "      <td>There is a freedom blissful in a twilight\\nFro...</td>\n",
       "      <td>Есть в сумерках блаженная свобода \\nот явных ч...</td>\n",
       "      <td>Перевод стихотворения Беллы Ахмадулиной «Сумер...</td>\n",
       "    </tr>\n",
       "    <tr>\n",
       "      <td>4</td>\n",
       "      <td>Winter, to me your gestures are\\ncold and care...</td>\n",
       "      <td>О жест зимы ко мне, \\nхолодный и прилежный. \\n...</td>\n",
       "      <td>Перевод стихотворения Беллы Ахмадулиной «Зима»...</td>\n",
       "    </tr>\n",
       "    <tr>\n",
       "      <td>...</td>\n",
       "      <td>...</td>\n",
       "      <td>...</td>\n",
       "      <td>...</td>\n",
       "    </tr>\n",
       "    <tr>\n",
       "      <td>4341</td>\n",
       "      <td>All repeat the first line\\nAnd all the well-wo...</td>\n",
       "      <td>Арсению Александровичу Тарковскому \\n«Я стол н...</td>\n",
       "      <td>Перевод стихотворения Марины Цветаевой «Всё по...</td>\n",
       "    </tr>\n",
       "    <tr>\n",
       "      <td>4342</td>\n",
       "      <td>— Your years — Mountain,\\nYour time — Tsars.\\n...</td>\n",
       "      <td>— Годы твои — гора,\\nВремя твоё — &amp;lt;царей.&amp;g...</td>\n",
       "      <td>Перевод стихотворения Марины Цветаевой «Годы т...</td>\n",
       "    </tr>\n",
       "    <tr>\n",
       "      <td>4343</td>\n",
       "      <td>He is gone — I cannot eat:\\nThe taste — of sta...</td>\n",
       "      <td>Ушёл — не ем:\\nПуст — хлеба вкус.\\nВсё — мел.\\...</td>\n",
       "      <td>Перевод стихотворения Марины Цветаевой «Ушёл —...</td>\n",
       "    </tr>\n",
       "    <tr>\n",
       "      <td>4344</td>\n",
       "      <td>Unmoved by bullets, confrontations,\\nUnmoved b...</td>\n",
       "      <td>Его и пуля не берёт,\\nИ песня не берёт!\\nТак и...</td>\n",
       "      <td>Перевод стихотворения Марины Цветаевой «Народ»...</td>\n",
       "    </tr>\n",
       "    <tr>\n",
       "      <td>4345</td>\n",
       "      <td>Between two — a hot fur! A Hand — hot fluff!\\n...</td>\n",
       "      <td>Двух — жарче меха! рук — жарче пуха!\\nКруг — в...</td>\n",
       "      <td>Перевод стихотворения Марины Цветаевой «Двух —...</td>\n",
       "    </tr>\n",
       "  </tbody>\n",
       "</table>\n",
       "<p>4346 rows × 3 columns</p>\n",
       "</div>"
      ],
      "text/plain": [
       "                                                article  \\\n",
       "0     Fifteen boys and maybe more,\\nor feuer than fi...   \n",
       "1     I'm fond of the old speech.\\nThere's a charm i...   \n",
       "2     Laughing, delighting, and rebelling\\nIn all he...   \n",
       "3     There is a freedom blissful in a twilight\\nFro...   \n",
       "4     Winter, to me your gestures are\\ncold and care...   \n",
       "...                                                 ...   \n",
       "4341  All repeat the first line\\nAnd all the well-wo...   \n",
       "4342  — Your years — Mountain,\\nYour time — Tsars.\\n...   \n",
       "4343  He is gone — I cannot eat:\\nThe taste — of sta...   \n",
       "4344  Unmoved by bullets, confrontations,\\nUnmoved b...   \n",
       "4345  Between two — a hot fur! A Hand — hot fluff!\\n...   \n",
       "\n",
       "                                               original  \\\n",
       "0     Пятнадцать мальчиков, а может быть и больше,\\n...   \n",
       "1     Влечет меня старинный слог.\\nЕсть обаянье в др...   \n",
       "2     Смеясь, ликуя и бунтуя, \\nв своей безвыходной ...   \n",
       "3     Есть в сумерках блаженная свобода \\nот явных ч...   \n",
       "4     О жест зимы ко мне, \\nхолодный и прилежный. \\n...   \n",
       "...                                                 ...   \n",
       "4341  Арсению Александровичу Тарковскому \\n«Я стол н...   \n",
       "4342  — Годы твои — гора,\\nВремя твоё — &lt;царей.&g...   \n",
       "4343  Ушёл — не ем:\\nПуст — хлеба вкус.\\nВсё — мел.\\...   \n",
       "4344  Его и пуля не берёт,\\nИ песня не берёт!\\nТак и...   \n",
       "4345  Двух — жарче меха! рук — жарче пуха!\\nКруг — в...   \n",
       "\n",
       "                                                   text  \n",
       "0     Перевод стихотворения Беллы Ахмадулиной «Пятна...  \n",
       "1     Перевод стихотворения Беллы Ахмадулиной «Влече...  \n",
       "2     Перевод стихотворения Беллы Ахмадулиной «Смеяс...  \n",
       "3     Перевод стихотворения Беллы Ахмадулиной «Сумер...  \n",
       "4     Перевод стихотворения Беллы Ахмадулиной «Зима»...  \n",
       "...                                                 ...  \n",
       "4341  Перевод стихотворения Марины Цветаевой «Всё по...  \n",
       "4342  Перевод стихотворения Марины Цветаевой «Годы т...  \n",
       "4343  Перевод стихотворения Марины Цветаевой «Ушёл —...  \n",
       "4344  Перевод стихотворения Марины Цветаевой «Народ»...  \n",
       "4345  Перевод стихотворения Марины Цветаевой «Двух —...  \n",
       "\n",
       "[4346 rows x 3 columns]"
      ]
     },
     "execution_count": 143,
     "metadata": {},
     "output_type": "execute_result"
    }
   ],
   "source": [
    "df"
   ]
  },
  {
   "cell_type": "code",
   "execution_count": null,
   "metadata": {},
   "outputs": [],
   "source": []
  },
  {
   "cell_type": "code",
   "execution_count": null,
   "metadata": {},
   "outputs": [],
   "source": []
  },
  {
   "cell_type": "code",
   "execution_count": 121,
   "metadata": {},
   "outputs": [],
   "source": [
    "df = pd.DataFrame(lst, columns=[\"article\",\"original\",\"text\"])"
   ]
  },
  {
   "cell_type": "code",
   "execution_count": 122,
   "metadata": {},
   "outputs": [],
   "source": [
    "df = df[df.text.str.contains(\"английский\")].reset_index(drop=True)"
   ]
  },
  {
   "cell_type": "code",
   "execution_count": 123,
   "metadata": {},
   "outputs": [
    {
     "data": {
      "text/html": [
       "<div>\n",
       "<style scoped>\n",
       "    .dataframe tbody tr th:only-of-type {\n",
       "        vertical-align: middle;\n",
       "    }\n",
       "\n",
       "    .dataframe tbody tr th {\n",
       "        vertical-align: top;\n",
       "    }\n",
       "\n",
       "    .dataframe thead th {\n",
       "        text-align: right;\n",
       "    }\n",
       "</style>\n",
       "<table border=\"1\" class=\"dataframe\">\n",
       "  <thead>\n",
       "    <tr style=\"text-align: right;\">\n",
       "      <th></th>\n",
       "      <th>article</th>\n",
       "      <th>original</th>\n",
       "      <th>text</th>\n",
       "    </tr>\n",
       "  </thead>\n",
       "  <tbody>\n",
       "    <tr>\n",
       "      <td>3</td>\n",
       "      <td>I'm fond of the old speech.\\nThere's a charm i...</td>\n",
       "      <td>Влечет меня старинный слог.\\nЕсть обаянье в др...</td>\n",
       "      <td>Перевод стихотворения Беллы Ахмадулиной «Влече...</td>\n",
       "    </tr>\n",
       "    <tr>\n",
       "      <td>4</td>\n",
       "      <td>Fifteen boys and maybe more,\\nor feuer than fi...</td>\n",
       "      <td>Пятнадцать мальчиков, а может быть и больше,\\n...</td>\n",
       "      <td>Перевод стихотворения Беллы Ахмадулиной «Пятна...</td>\n",
       "    </tr>\n",
       "    <tr>\n",
       "      <td>5</td>\n",
       "      <td>Along my street for so many years \\nI hear ste...</td>\n",
       "      <td>По улице моей который год\\nзвучат шаги — мои д...</td>\n",
       "      <td>Перевод стихотворения Беллы Ахмадулиной «По ул...</td>\n",
       "    </tr>\n",
       "    <tr>\n",
       "      <td>6</td>\n",
       "      <td>Along my street, these steady steps resound  \\...</td>\n",
       "      <td>По улице моей который год\\nзвучат шаги — мои д...</td>\n",
       "      <td>Перевод стихотворения Беллы Ахмадулиной «По ул...</td>\n",
       "    </tr>\n",
       "    <tr>\n",
       "      <td>7</td>\n",
       "      <td>(fragment)\\nOver my street for many-many years...</td>\n",
       "      <td>По улице моей который год\\nзвучат шаги — мои д...</td>\n",
       "      <td>Перевод стихотворения Беллы Ахмадулиной «По ул...</td>\n",
       "    </tr>\n",
       "    <tr>\n",
       "      <td>...</td>\n",
       "      <td>...</td>\n",
       "      <td>...</td>\n",
       "      <td>...</td>\n",
       "    </tr>\n",
       "    <tr>\n",
       "      <td>4365</td>\n",
       "      <td>The underground snake crawls,\\nCrawls, carries...</td>\n",
       "      <td>Ползёт подземный змей,\\nПолзёт, везёт людей.\\n...</td>\n",
       "      <td>Перевод стихотворения Марины Цветаевой «Читате...</td>\n",
       "    </tr>\n",
       "    <tr>\n",
       "      <td>4366</td>\n",
       "      <td>Between two — a hot fur! A Hand — hot fluff!\\n...</td>\n",
       "      <td>Двух — жарче меха! рук — жарче пуха!\\nКруг — в...</td>\n",
       "      <td>Перевод стихотворения Марины Цветаевой «Двух —...</td>\n",
       "    </tr>\n",
       "    <tr>\n",
       "      <td>4367</td>\n",
       "      <td>— Your years — Mountain,\\nYour time — Tsars.\\n...</td>\n",
       "      <td>— Годы твои — гора,\\nВремя твоё — &amp;lt;царей.&amp;g...</td>\n",
       "      <td>Перевод стихотворения Марины Цветаевой «Годы т...</td>\n",
       "    </tr>\n",
       "    <tr>\n",
       "      <td>4368</td>\n",
       "      <td>He is gone — I cannot eat:\\nThe taste — of sta...</td>\n",
       "      <td>Ушёл — не ем:\\nПуст — хлеба вкус.\\nВсё — мел.\\...</td>\n",
       "      <td>Перевод стихотворения Марины Цветаевой «Ушёл —...</td>\n",
       "    </tr>\n",
       "    <tr>\n",
       "      <td>4369</td>\n",
       "      <td>To A. Tarkovsky\\nI laid the table for six...*\\...</td>\n",
       "      <td>Арсению Александровичу Тарковскому \\n«Я стол н...</td>\n",
       "      <td>Перевод стихотворения Марины Цветаевой «Всё по...</td>\n",
       "    </tr>\n",
       "  </tbody>\n",
       "</table>\n",
       "<p>4214 rows × 3 columns</p>\n",
       "</div>"
      ],
      "text/plain": [
       "                                                article  \\\n",
       "3     I'm fond of the old speech.\\nThere's a charm i...   \n",
       "4     Fifteen boys and maybe more,\\nor feuer than fi...   \n",
       "5     Along my street for so many years \\nI hear ste...   \n",
       "6     Along my street, these steady steps resound  \\...   \n",
       "7     (fragment)\\nOver my street for many-many years...   \n",
       "...                                                 ...   \n",
       "4365  The underground snake crawls,\\nCrawls, carries...   \n",
       "4366  Between two — a hot fur! A Hand — hot fluff!\\n...   \n",
       "4367  — Your years — Mountain,\\nYour time — Tsars.\\n...   \n",
       "4368  He is gone — I cannot eat:\\nThe taste — of sta...   \n",
       "4369  To A. Tarkovsky\\nI laid the table for six...*\\...   \n",
       "\n",
       "                                               original  \\\n",
       "3     Влечет меня старинный слог.\\nЕсть обаянье в др...   \n",
       "4     Пятнадцать мальчиков, а может быть и больше,\\n...   \n",
       "5     По улице моей который год\\nзвучат шаги — мои д...   \n",
       "6     По улице моей который год\\nзвучат шаги — мои д...   \n",
       "7     По улице моей который год\\nзвучат шаги — мои д...   \n",
       "...                                                 ...   \n",
       "4365  Ползёт подземный змей,\\nПолзёт, везёт людей.\\n...   \n",
       "4366  Двух — жарче меха! рук — жарче пуха!\\nКруг — в...   \n",
       "4367  — Годы твои — гора,\\nВремя твоё — &lt;царей.&g...   \n",
       "4368  Ушёл — не ем:\\nПуст — хлеба вкус.\\nВсё — мел.\\...   \n",
       "4369  Арсению Александровичу Тарковскому \\n«Я стол н...   \n",
       "\n",
       "                                                   text  \n",
       "3     Перевод стихотворения Беллы Ахмадулиной «Влече...  \n",
       "4     Перевод стихотворения Беллы Ахмадулиной «Пятна...  \n",
       "5     Перевод стихотворения Беллы Ахмадулиной «По ул...  \n",
       "6     Перевод стихотворения Беллы Ахмадулиной «По ул...  \n",
       "7     Перевод стихотворения Беллы Ахмадулиной «По ул...  \n",
       "...                                                 ...  \n",
       "4365  Перевод стихотворения Марины Цветаевой «Читате...  \n",
       "4366  Перевод стихотворения Марины Цветаевой «Двух —...  \n",
       "4367  Перевод стихотворения Марины Цветаевой «Годы т...  \n",
       "4368  Перевод стихотворения Марины Цветаевой «Ушёл —...  \n",
       "4369  Перевод стихотворения Марины Цветаевой «Всё по...  \n",
       "\n",
       "[4214 rows x 3 columns]"
      ]
     },
     "execution_count": 123,
     "metadata": {},
     "output_type": "execute_result"
    }
   ],
   "source": [
    "df[~df.original.str.contains(\"\\n\\n\")]"
   ]
  },
  {
   "cell_type": "code",
   "execution_count": 130,
   "metadata": {},
   "outputs": [
    {
     "data": {
      "text/html": [
       "<div>\n",
       "<style scoped>\n",
       "    .dataframe tbody tr th:only-of-type {\n",
       "        vertical-align: middle;\n",
       "    }\n",
       "\n",
       "    .dataframe tbody tr th {\n",
       "        vertical-align: top;\n",
       "    }\n",
       "\n",
       "    .dataframe thead th {\n",
       "        text-align: right;\n",
       "    }\n",
       "</style>\n",
       "<table border=\"1\" class=\"dataframe\">\n",
       "  <thead>\n",
       "    <tr style=\"text-align: right;\">\n",
       "      <th></th>\n",
       "      <th>article</th>\n",
       "      <th>original</th>\n",
       "      <th>text</th>\n",
       "    </tr>\n",
       "  </thead>\n",
       "  <tbody>\n",
       "    <tr>\n",
       "      <td>1531</td>\n",
       "      <td>A night, a street, a lamp, a drugstore,\\nA mea...</td>\n",
       "      <td>Ночь, улица, фонарь, аптека,\\nБессмысленный и ...</td>\n",
       "      <td>Перевод стихотворения Александра Блока «Ночь, ...</td>\n",
       "    </tr>\n",
       "    <tr>\n",
       "      <td>1536</td>\n",
       "      <td>Night, square, apothecary, lantern,\\nIts meani...</td>\n",
       "      <td>Ночь, улица, фонарь, аптека,\\nБессмысленный и ...</td>\n",
       "      <td>Перевод стихотворения Александра Блока «Ночь, ...</td>\n",
       "    </tr>\n",
       "    <tr>\n",
       "      <td>1537</td>\n",
       "      <td>Night, street, lamp, drugstore,\\nA dull and me...</td>\n",
       "      <td>Ночь, улица, фонарь, аптека,\\nБессмысленный и ...</td>\n",
       "      <td>Перевод стихотворения Александра Блока «Ночь, ...</td>\n",
       "    </tr>\n",
       "    <tr>\n",
       "      <td>1538</td>\n",
       "      <td>Night, street, apothecary, lamppost,\\nDim ligh...</td>\n",
       "      <td>Ночь, улица, фонарь, аптека,\\nБессмысленный и ...</td>\n",
       "      <td>Перевод стихотворения Александра Блока «Ночь, ...</td>\n",
       "    </tr>\n",
       "    <tr>\n",
       "      <td>1539</td>\n",
       "      <td>Night. Street. Lamplight. Pharmacy. \\nA dim se...</td>\n",
       "      <td>Ночь, улица, фонарь, аптека,\\nБессмысленный и ...</td>\n",
       "      <td>Перевод стихотворения Александра Блока «Ночь, ...</td>\n",
       "    </tr>\n",
       "    <tr>\n",
       "      <td>1540</td>\n",
       "      <td>But pointlessly the light shines dimly —\\nThe ...</td>\n",
       "      <td>Ночь, улица, фонарь, аптека,\\nБессмысленный и ...</td>\n",
       "      <td>Перевод стихотворения Александра Блока «Ночь, ...</td>\n",
       "    </tr>\n",
       "    <tr>\n",
       "      <td>1541</td>\n",
       "      <td>Night, streets, the lantern, the drugstore,\\nT...</td>\n",
       "      <td>Ночь, улица, фонарь, аптека,\\nБессмысленный и ...</td>\n",
       "      <td>Перевод стихотворения Александра Блока «Ночь, ...</td>\n",
       "    </tr>\n",
       "    <tr>\n",
       "      <td>1542</td>\n",
       "      <td>The night, street, chemist shop, &amp;amp; lantern...</td>\n",
       "      <td>Ночь, улица, фонарь, аптека,\\nБессмысленный и ...</td>\n",
       "      <td>Перевод стихотворения Александра Блока «Ночь, ...</td>\n",
       "    </tr>\n",
       "    <tr>\n",
       "      <td>1543</td>\n",
       "      <td>Night. Streetlamp. Street.  The chemist's stor...</td>\n",
       "      <td>Ночь, улица, фонарь, аптека,\\nБессмысленный и ...</td>\n",
       "      <td>Перевод стихотворения Александра Блока «Ночь, ...</td>\n",
       "    </tr>\n",
       "    <tr>\n",
       "      <td>1544</td>\n",
       "      <td>The night, the street, the lamp, the chemist's...</td>\n",
       "      <td>Ночь, улица, фонарь, аптека,\\nБессмысленный и ...</td>\n",
       "      <td>Перевод стихотворения Александра Блока «Ночь, ...</td>\n",
       "    </tr>\n",
       "    <tr>\n",
       "      <td>1545</td>\n",
       "      <td>The street, the night, the lamp and snow,  \\nT...</td>\n",
       "      <td>Ночь, улица, фонарь, аптека,\\nБессмысленный и ...</td>\n",
       "      <td>Перевод стихотворения Александра Блока «Ночь, ...</td>\n",
       "    </tr>\n",
       "    <tr>\n",
       "      <td>1546</td>\n",
       "      <td>The night, the pharmacy, the street,\\nThe poin...</td>\n",
       "      <td>Ночь, улица, фонарь, аптека,\\nБессмысленный и ...</td>\n",
       "      <td>Перевод стихотворения Александра Блока «Ночь, ...</td>\n",
       "    </tr>\n",
       "  </tbody>\n",
       "</table>\n",
       "</div>"
      ],
      "text/plain": [
       "                                                article  \\\n",
       "1531  A night, a street, a lamp, a drugstore,\\nA mea...   \n",
       "1536  Night, square, apothecary, lantern,\\nIts meani...   \n",
       "1537  Night, street, lamp, drugstore,\\nA dull and me...   \n",
       "1538  Night, street, apothecary, lamppost,\\nDim ligh...   \n",
       "1539  Night. Street. Lamplight. Pharmacy. \\nA dim se...   \n",
       "1540  But pointlessly the light shines dimly —\\nThe ...   \n",
       "1541  Night, streets, the lantern, the drugstore,\\nT...   \n",
       "1542  The night, street, chemist shop, &amp; lantern...   \n",
       "1543  Night. Streetlamp. Street.  The chemist's stor...   \n",
       "1544  The night, the street, the lamp, the chemist's...   \n",
       "1545  The street, the night, the lamp and snow,  \\nT...   \n",
       "1546  The night, the pharmacy, the street,\\nThe poin...   \n",
       "\n",
       "                                               original  \\\n",
       "1531  Ночь, улица, фонарь, аптека,\\nБессмысленный и ...   \n",
       "1536  Ночь, улица, фонарь, аптека,\\nБессмысленный и ...   \n",
       "1537  Ночь, улица, фонарь, аптека,\\nБессмысленный и ...   \n",
       "1538  Ночь, улица, фонарь, аптека,\\nБессмысленный и ...   \n",
       "1539  Ночь, улица, фонарь, аптека,\\nБессмысленный и ...   \n",
       "1540  Ночь, улица, фонарь, аптека,\\nБессмысленный и ...   \n",
       "1541  Ночь, улица, фонарь, аптека,\\nБессмысленный и ...   \n",
       "1542  Ночь, улица, фонарь, аптека,\\nБессмысленный и ...   \n",
       "1543  Ночь, улица, фонарь, аптека,\\nБессмысленный и ...   \n",
       "1544  Ночь, улица, фонарь, аптека,\\nБессмысленный и ...   \n",
       "1545  Ночь, улица, фонарь, аптека,\\nБессмысленный и ...   \n",
       "1546  Ночь, улица, фонарь, аптека,\\nБессмысленный и ...   \n",
       "\n",
       "                                                   text  \n",
       "1531  Перевод стихотворения Александра Блока «Ночь, ...  \n",
       "1536  Перевод стихотворения Александра Блока «Ночь, ...  \n",
       "1537  Перевод стихотворения Александра Блока «Ночь, ...  \n",
       "1538  Перевод стихотворения Александра Блока «Ночь, ...  \n",
       "1539  Перевод стихотворения Александра Блока «Ночь, ...  \n",
       "1540  Перевод стихотворения Александра Блока «Ночь, ...  \n",
       "1541  Перевод стихотворения Александра Блока «Ночь, ...  \n",
       "1542  Перевод стихотворения Александра Блока «Ночь, ...  \n",
       "1543  Перевод стихотворения Александра Блока «Ночь, ...  \n",
       "1544  Перевод стихотворения Александра Блока «Ночь, ...  \n",
       "1545  Перевод стихотворения Александра Блока «Ночь, ...  \n",
       "1546  Перевод стихотворения Александра Блока «Ночь, ...  "
      ]
     },
     "execution_count": 130,
     "metadata": {},
     "output_type": "execute_result"
    }
   ],
   "source": [
    "df[df.text.str.contains(\"Ночь, улица\")]"
   ]
  },
  {
   "cell_type": "code",
   "execution_count": null,
   "metadata": {},
   "outputs": [],
   "source": []
  },
  {
   "cell_type": "code",
   "execution_count": 125,
   "metadata": {},
   "outputs": [
    {
     "name": "stdout",
     "output_type": "stream",
     "text": [
      "Влечет меня старинный слог.\n",
      "Есть обаянье в древней речи.\n",
      "Она бывает наших слов\n",
      "и современнее и резче.\n",
      "Вскричать: \"Полцарства за коня!\" —\n",
      "какая вспыльчивость и щедрость!\n",
      "Но снизойдет и на меня\n",
      "последнего задора тщетность.\n",
      "Когда-нибудь очнусь во мгле,\n",
      "навеки проиграв сраженье,\n",
      "и вот придет на память мне\n",
      "безумца древнего решенье.\n",
      "О, что полцарства для меня!\n",
      "Дитя, наученное веком,\n",
      "возьму коня, отдам коня\n",
      "за полмгновенья с человеком,\n",
      "любимым мною. Бог с тобой,\n",
      "о конь мой, конь мой,\n",
      "конь ретивый.\n",
      "Я безвозмездно повод твой\n",
      "ослаблю — и табун родимый\n",
      "нагонишь ты, нагонишь там,\n",
      "в степи пустой и порыжелой.\n",
      "А мне наскучил тарарам\n",
      "этих побед и поражений.\n",
      "Мне жаль коня! Мне жаль любви!\n",
      "И на манер средневековый\n",
      "ложится под ноги мои\n",
      "лишь след, оставленный подковой.\n"
     ]
    }
   ],
   "source": [
    "print(df[~df.original.str.contains(\"\\n\\n\")].original.iloc[0])"
   ]
  },
  {
   "cell_type": "code",
   "execution_count": 118,
   "metadata": {},
   "outputs": [
    {
     "name": "stdout",
     "output_type": "stream",
     "text": [
      "О жест зимы ко мне, \n",
      "холодный и прилежный. \n",
      "Да, что-то есть в зиме \n",
      "от медицины нежной. \n",
      "\n",
      "Иначе как же вдруг \n",
      "из темноты и муки \n",
      "доверчивый недуг \n",
      "к ней обращает руки? \n",
      "\n",
      "О милая, колдуй, \n",
      "заденет лоб мой снова \n",
      "целебный поцелуй \n",
      "колечка ледяного. \n",
      "\n",
      "И все сильней соблазн \n",
      "встречать обман доверьем, \n",
      "смотреть в глаза собак \n",
      "и приникать, к деревьям. \n",
      "\n",
      "Прощать, как бы играть, \n",
      "с разбега, с поворота, \n",
      "и, завершив прощать, \n",
      "простить еще кого-то. \n",
      "\n",
      "Сравняться с зимним днем, \n",
      "с его пустым овалом, \n",
      "и быть всегда при нем \n",
      "его оттенком, малым. \n",
      "\n",
      "Свести себя на нет, \n",
      "чтоб вызвать за стеною \n",
      "не тень мою, а свет, \n",
      "не заслоненный мною.\n"
     ]
    }
   ],
   "source": [
    "print(df.original.iloc[0])"
   ]
  },
  {
   "cell_type": "code",
   "execution_count": 115,
   "metadata": {},
   "outputs": [
    {
     "data": {
      "text/plain": [
       "108.10617848970251"
      ]
     },
     "execution_count": 115,
     "metadata": {},
     "output_type": "execute_result"
    }
   ],
   "source": [
    "df.original.str.split(\"\\s\").str.len().mean()"
   ]
  },
  {
   "cell_type": "code",
   "execution_count": null,
   "metadata": {},
   "outputs": [],
   "source": [
    "О жест зимы ко мне, \n",
    "холодный и прилежный. \n",
    "Да, что-то есть в зиме \n",
    "от медицины нежной. \n",
    "\n",
    "Иначе как же вдруг \n",
    "из темноты и муки \n",
    "доверчивый недуг \n",
    "к ней обращает руки? \n",
    "\n",
    "О милая, колдуй, \n",
    "заденет лоб мой снова \n",
    "целебный поцелуй \n",
    "колечка ледяного. \n",
    "\n",
    "И все сильней соблазн \n",
    "встречать обман доверьем, \n",
    "смотреть в глаза собак \n",
    "и приникать, к деревьям. \n",
    "\n",
    "Прощать, как бы играть, \n",
    "с разбега, с поворота, \n",
    "и, завершив прощать, \n",
    "простить еще кого-то. \n",
    "\n",
    "Сравняться с зимним днем, \n",
    "с его пустым овалом, \n",
    "и быть всегда при нем \n",
    "его оттенком, малым. \n",
    "\n",
    "Свести себя на нет, \n",
    "чтоб вызвать за стеною \n",
    "не тень мою, а свет, \n",
    "не заслоненный мною."
   ]
  },
  {
   "cell_type": "code",
   "execution_count": null,
   "metadata": {},
   "outputs": [],
   "source": []
  },
  {
   "cell_type": "code",
   "execution_count": 71,
   "metadata": {
    "scrolled": true
   },
   "outputs": [
    {
     "data": {
      "text/plain": [
       "['Winter, to me your gestures are\\ncold and careful: yes, in\\nwinter there is something\\ngentle as medicine,\\nor why else would sickness\\nput out trusting hands\\ninto that season, from its own\\ntorture and darkness?\\nWeave your magic then\\nmy love, let the kiss\\nof one curl of ice\\nbrush over my forehead.\\nSoon I shall trust any\\ndeception, and look without fear\\ninto the eyes of dogs, as I\\npress close to the trees:\\nAnd forgive, playfully, with a\\nrun, turn and jump; and\\nafter a bout of forgiveness\\nforgive again,\\nbecome like a winter’s day:\\nempty and oval, though\\nin comparison to such\\npresence, always small.\\nI shall turn to nothing, and\\nso call over the wall,\\nnot some shadow of myself, but light\\nI shall not block at all.',\n",
       " 'О жест зимы ко мне, \\nхолодный и прилежный. \\nДа, что-то есть в зиме \\nот медицины нежной. \\n\\nИначе как же вдруг \\nиз темноты и муки \\nдоверчивый недуг \\nк ней обращает руки? \\n\\nО милая, колдуй, \\nзаденет лоб мой снова \\nцелебный поцелуй \\nколечка ледяного. \\n\\nИ все сильней соблазн \\nвстречать обман доверьем, \\nсмотреть в глаза собак \\nи приникать, к деревьям. \\n\\nПрощать, как бы играть, \\nс разбега, с поворота, \\nи, завершив прощать, \\nпростить еще кого-то. \\n\\nСравняться с зимним днем, \\nс его пустым овалом, \\nи быть всегда при нем \\nего оттенком, малым. \\n\\nСвести себя на нет, \\nчтоб вызвать за стеною \\nне тень мою, а свет, \\nне заслоненный мною.',\n",
       " 'Перевод стихотворения Беллы Ахмадулиной «Зима» на английский.']"
      ]
     },
     "execution_count": 71,
     "metadata": {},
     "output_type": "execute_result"
    }
   ],
   "source": [
    "lst[1]"
   ]
  },
  {
   "cell_type": "code",
   "execution_count": 61,
   "metadata": {
    "scrolled": true
   },
   "outputs": [
    {
     "name": "stdout",
     "output_type": "stream",
     "text": [
      "Пятнадцать мальчиков, а может быть и больше,\n",
      "а может быть, и меньше, чем пятнадцать,\n",
      "испуганными голосами\n",
      "мне говорили:\n",
      "\"Пойдем в кино или в музей изобразительных искусств\".\n",
      "Я отвечала им примерно вот что:\n",
      "\"Мне некогда\".\n",
      "Пятнадцать мальчиков дарили мне подснежники.\n",
      "Пятнадцать мальчиков надломленными голосами\n",
      "мне говорили:\n",
      "\"Я никогда тебя не разлюблю\".\n",
      "Я отвечала им примерно вот что:\n",
      "\"Посмотрим\".\n",
      "Пятнадцать мальчиков теперь живут спокойно.\n",
      "Они исполнили тяжелую повинность\n",
      "подснежников, отчаянья и писем.\n",
      "Их любят девушки -\n",
      "иные красивее, чем я,\n",
      "иные некрасивее.\n",
      "Пятнадцать мальчиков преувеличенно свободно, а подчас злорадно\n",
      "приветствуют меня при встрече,\n",
      "приветствуют во мне при встрече\n",
      "свое освобождение, нормальный сон и пищу...\n",
      "Напрасно ты идешь, последний мальчик.\n",
      "Поставлю я твои подснежники в стакан,\n",
      "и коренастые их стебли обрастут\n",
      "серебряными пузырьками...\n",
      "Но, видишь ли, и ты меня разлюбишь,\n",
      "и, победив себя, ты будешь говорить со мной надменно,\n",
      "как будто победил меня,\n",
      "а я пойду по улице, по улице...\n"
     ]
    }
   ],
   "source": [
    "print(lst[0])"
   ]
  },
  {
   "cell_type": "code",
   "execution_count": 47,
   "metadata": {},
   "outputs": [
    {
     "data": {
      "text/plain": [
       "'<p>a .. sad as,dad,\\nASD a</p>b'"
      ]
     },
     "execution_count": 47,
     "metadata": {},
     "output_type": "execute_result"
    }
   ],
   "source": [
    "import re\n",
    "\n",
    "string = \"<p>a .. sad as,dad,\\r\\nASD a</p>b\"\n",
    "\n",
    "re.sub(r\"\\r\\n\", r\"\\n\", string)"
   ]
  },
  {
   "cell_type": "code",
   "execution_count": 34,
   "metadata": {
    "scrolled": false
   },
   "outputs": [
    {
     "data": {
      "text/plain": [
       "['Перевод стихотворения Беллы Ахмадулиной «Зима» на английский.',\n",
       " 'Перевод стихотворения Беллы Ахмадулиной «Пятнадцать мальчиков» на испанский.',\n",
       " 'Перевод стихотворения Беллы Ахмадулиной «Пятнадцать мальчиков» на английский.',\n",
       " 'Перевод стихотворения Беллы Ахмадулиной «Смеясь, ликуя и бунтуя...» на английский.',\n",
       " 'Перевод стихотворения Беллы Ахмадулиной «Сумерки» на итальянский.',\n",
       " 'Перевод стихотворения Беллы Ахмадулиной «Сумерки» на английский.',\n",
       " 'Перевод стихотворения Беллы Ахмадулиной «Влечет меня старинный слог...» на английский.',\n",
       " 'Перевод стихотворения Беллы Ахмадулиной «Влечет меня старинный слог...» на армянский.',\n",
       " 'Перевод стихотворения Беллы Ахмадулиной «По улице моей который год...» на английский.',\n",
       " 'Перевод стихотворения Беллы Ахмадулиной «По улице моей который год...» на английский.',\n",
       " 'Перевод стихотворения Беллы Ахмадулиной «По улице моей который год...» на английский.',\n",
       " 'Перевод стихотворения Беллы Ахмадулиной «По улице моей который год...» на французский.',\n",
       " 'Перевод стихотворения Беллы Ахмадулиной «Декабрь» на английский.',\n",
       " 'Перевод стихотворения Беллы Ахмадулиной «Апрель» на английский.',\n",
       " 'Перевод стихотворения Беллы Ахмадулиной «Апрель» на французский.',\n",
       " 'Перевод стихотворения Беллы Ахмадулиной «По улице моей который год...» на армянский.',\n",
       " 'Перевод стихотворения Беллы Ахмадулиной «Прощание» на английский.',\n",
       " 'Перевод стихотворения Беллы Ахмадулиной «Однажды, покачнувшись на краю...» на английский.',\n",
       " 'Перевод стихотворения Беллы Ахмадулиной «Прощание» на английский.',\n",
       " 'Перевод стихотворения Беллы Ахмадулиной «Однажды, покачнувшись на краю...» на итальянский.',\n",
       " 'Перевод стихотворения Беллы Ахмадулиной «Ночь» на английский.',\n",
       " 'Перевод стихотворения Беллы Ахмадулиной «Газированная вода» на английский.',\n",
       " 'Перевод стихотворения Беллы Ахмадулиной «Мотороллер» на английский.',\n",
       " 'Перевод стихотворения Беллы Ахмадулиной «Клянусь» на английский.',\n",
       " 'Перевод стихотворения Беллы Ахмадулиной «Уроки музыки» на английский.',\n",
       " 'Перевод стихотворения Беллы Ахмадулиной «Уроки музыки» на английский.',\n",
       " 'Перевод стихотворения Беллы Ахмадулиной «Грузинских женщин имена» на английский.',\n",
       " 'Перевод стихотворения Беллы Ахмадулиной «Грузинских женщин имена» на французский.',\n",
       " 'Перевод стихотворения Беллы Ахмадулиной «Грузинских женщин имена» на французский.',\n",
       " 'Перевод стихотворения Беллы Ахмадулиной «Беги, бегун» на английский.',\n",
       " 'Перевод стихотворения Беллы Ахмадулиной «Бьют часы, возвестившие осень...» на английский.',\n",
       " 'Перевод стихотворения Беллы Ахмадулиной «Ночь перед выступлением» на английский.',\n",
       " 'Перевод стихотворения Беллы Ахмадулиной «Заклинание» на итальянский.',\n",
       " 'Перевод стихотворения Беллы Ахмадулиной «Снимок» на английский.',\n",
       " 'Перевод стихотворения Беллы Ахмадулиной «Абхазские похороны» на английский.',\n",
       " 'Перевод стихотворения Беллы Ахмадулиной «Ёлка в больничном коридоре» на английский.',\n",
       " 'Перевод стихотворения Иннокентия Анненского «Notturno» на английский.',\n",
       " 'Перевод стихотворения Иннокентия Анненского «Среди миров» на английский.',\n",
       " 'Перевод стихотворения Беллы Ахмадулиной «Посвящение вослед» на английский.',\n",
       " 'Перевод стихотворения Иннокентия Анненского «Среди миров» на английский.',\n",
       " 'Перевод стихотворения Беллы Ахмадулиной «Заклинание» на английский.',\n",
       " 'Перевод стихотворения Иннокентия Анненского «На воде» на английский.',\n",
       " 'Перевод стихотворения Иннокентия Анненского «Палимая огнём недвижного светила...» на английский.',\n",
       " 'Перевод стихотворения Иннокентия Анненского «На воде» на английский.',\n",
       " 'Перевод стихотворения Иннокентия Анненского «Осенний романс» на английский.',\n",
       " 'Перевод стихотворения Иннокентия Анненского «Тоска» на английский.',\n",
       " 'Перевод стихотворения Иннокентия Анненского «Зимние лилии» на английский.',\n",
       " 'Перевод стихотворения Иннокентия Анненского «Бессонница ребёнка» на английский.',\n",
       " 'Перевод стихотворения Иннокентия Анненского «Сентябрь» на английский.',\n",
       " 'Перевод стихотворения Иннокентия Анненского «Девиз Таинственной похож...» на английский.',\n",
       " 'Перевод стихотворения Иннокентия Анненского «Идеал» на английский.',\n",
       " 'Перевод стихотворения Иннокентия Анненского «Сентябрь» на английский.',\n",
       " 'Перевод стихотворения Иннокентия Анненского «Свечку внесли» на английский.',\n",
       " 'Перевод стихотворения Иннокентия Анненского «Pace» на английский.',\n",
       " 'Перевод стихотворения Георгия Адамовича «На чужую тему» на английский.',\n",
       " 'Перевод стихотворения Иннокентия Анненского «Буддийская месса в Париже» на английский.',\n",
       " 'Перевод стихотворения Иннокентия Анненского «Ямбы» на английский.',\n",
       " 'Перевод стихотворения Георгия Адамовича «Стихам своим я знаю цену...» на английский.',\n",
       " 'Перевод стихотворения Георгия Адамовича «Окно, рассвет... едва видны, как тени...» на английский.',\n",
       " 'Перевод стихотворения Георгия Адамовича «Рассвет и дождь. В саду густой туман...» на английский.',\n",
       " 'Перевод стихотворения Георгия Адамовича «Невыносимы становятся сумерки» на английский.',\n",
       " 'Перевод стихотворения Георгия Адамовича «Один сказал: «Нам этой жизни мало»...» на английский.',\n",
       " 'Перевод стихотворения Георгия Адамовича «Жизнь! Что мне надо от тебя, — не знаю...» на английский.',\n",
       " 'Перевод стихотворения Георгия Адамовича «О, жизнь моя! Не надо суеты...» на английский.',\n",
       " 'Перевод стихотворения Георгия Адамовича «Когда мы в Россию вернёмся…» на английский.',\n",
       " 'Перевод стихотворения Константина Бальмонта «Свеча горит и меркнет и вновь горит сильней...» на английский.',\n",
       " 'Перевод стихотворения Георгия Адамовича «О, сердце разрывается на части» на английский.',\n",
       " 'Перевод стихотворения Георгия Адамовича «За слово, что помнил когда-то...» на английский.',\n",
       " 'Перевод стихотворения Георгия Адамовича «Навеки блаженство нам Бог обещает...» на английский.',\n",
       " 'Перевод стихотворения Георгия Адамовича «Ни с кем не говори. Не пей вина» на английский.',\n",
       " 'Перевод стихотворения Константина Бальмонта «Я мечтою ловил уходящие тени…» на английский.',\n",
       " 'Перевод стихотворения Константина Бальмонта «Мне ненавистен гул гигантских городов...» на английский.',\n",
       " 'Перевод стихотворения Константина Бальмонта «Мне ненавистен гул гигантских городов...» на испанский.',\n",
       " 'Перевод стихотворения Константина Бальмонта «Лунный свет» на английский.',\n",
       " 'Перевод стихотворения Константина Бальмонта «Я мечтою ловил уходящие тени…» на английский.',\n",
       " 'Перевод стихотворения Константина Бальмонта «Пройдут века веков» на английский.',\n",
       " 'Перевод стихотворения Георгия Адамовича «За все, за все спасибо. За войну...» на английский.',\n",
       " 'Перевод стихотворения Константина Бальмонта «Камыши» на английский.',\n",
       " 'Перевод стихотворения Константина Бальмонта «Подводные растенья» на английский.',\n",
       " 'Перевод стихотворения Константина Бальмонта «О, волны морские, родная стихия моя...» на английский.',\n",
       " 'Перевод стихотворения Константина Бальмонта «Я — изысканность русской медлительной речи...» на английский.',\n",
       " 'Перевод стихотворения Константина Бальмонта «Русалка» на английский.',\n",
       " 'Перевод стихотворения Константина Бальмонта «Гимн огню» на английский.',\n",
       " 'Перевод стихотворения Константина Бальмонта «Русалка» на немецкий.',\n",
       " 'Перевод стихотворения Константина Бальмонта «Я буду ждать» на английский.',\n",
       " 'Перевод стихотворения Константина Бальмонта «Я не знаю мудрости, годной для других...» на английский.',\n",
       " 'Перевод стихотворения Константина Бальмонта «Я в этот мир пришёл, чтоб видеть Солнце...» на английский.',\n",
       " 'Перевод стихотворения Константина Бальмонта «Мой друг, есть радость и любовь» на английский.',\n",
       " 'Перевод стихотворения Константина Бальмонта «Мой друг, есть радость и любовь» на английский.',\n",
       " 'Перевод стихотворения Константина Бальмонта «Ведьма» на английский.',\n",
       " 'Перевод стихотворения Иннокентия Анненского «В вагоне» на английский.',\n",
       " 'Перевод стихотворения Иннокентия Анненского «Весенний романс» на английский.',\n",
       " 'Перевод стихотворения Иннокентия Анненского «Весенний романс» на английский.',\n",
       " 'Перевод стихотворения Константина Бальмонта «Завет бытия» на английский.',\n",
       " 'Перевод стихотворения Константина Бальмонта «Голос Дьявола» на английский.',\n",
       " 'Перевод стихотворения Константина Бальмонта «Мои песнопенья» на английский.',\n",
       " 'Перевод стихотворения Иннокентия Анненского «Чёрная весна (Тает)» на английский.',\n",
       " 'Перевод стихотворения Иннокентия Анненского «Чёрная весна (Тает)» на английский.',\n",
       " 'Перевод стихотворения Константина Бальмонта «Светлый мир» на английский.',\n",
       " 'Перевод стихотворения Иннокентия Анненского «Старая шарманка» на английский.',\n",
       " 'Перевод стихотворения Иннокентия Анненского «Шарики детские» на английский.',\n",
       " 'Перевод стихотворения Константина Бальмонта «Вода» на английский.',\n",
       " 'Перевод стихотворения Иннокентия Анненского «Старая шарманка» на английский.',\n",
       " 'Перевод стихотворения Иннокентия Анненского «О нет, не стан, пусть он так нежно-зыбок...» на английский.',\n",
       " 'Перевод стихотворения Константина Бальмонта «Псалом Безмолвия свершается сгорая» на английский.',\n",
       " 'Перевод стихотворения Иннокентия Анненского «Смычок и струны» на английский.',\n",
       " 'Перевод стихотворения Иннокентия Анненского «Кулачишка» на английский.',\n",
       " 'Перевод стихотворения Константина Бальмонта «Только» на английский.',\n",
       " 'Перевод стихотворения Эдуарда Багрицкого «Дерибасовская ночью (Весна)» на английский.',\n",
       " 'Перевод стихотворения Эдуарда Багрицкого «Я сладко изнемог от тишины и снов» на английский.',\n",
       " 'Перевод стихотворения Эдуарда Багрицкого «Я сладко изнемог от тишины и снов» на английский.',\n",
       " 'Перевод стихотворения Эдуарда Багрицкого «Я сладко изнемог от тишины и снов» на английский.',\n",
       " 'Перевод стихотворения Константина Бальмонта «С ветрами» на английский.',\n",
       " 'Перевод стихотворения Иннокентия Анненского «Смычок и струны» на английский.',\n",
       " 'Перевод стихотворения Константина Бальмонта «Просветы» на английский.',\n",
       " 'Перевод стихотворения Иннокентия Анненского «Ноша жизни светла и легка мне...» на английский.',\n",
       " 'Перевод стихотворения Эдуарда Багрицкого «Баллада о Виттингтоне» на английский.',\n",
       " 'Перевод стихотворения Эдуарда Багрицкого «Арбуз» на английский.',\n",
       " 'Перевод стихотворения Эдуарда Багрицкого «Контрабандисты» на английский.',\n",
       " 'Перевод стихотворения Эдуарда Багрицкого «ТВС» на английский.',\n",
       " 'Перевод стихотворения Эдуарда Багрицкого «О Пушкине» на английский.',\n",
       " 'Перевод стихотворения Константина Бальмонта «Как ночь» на английский.',\n",
       " 'Перевод стихотворения Эдуарда Багрицкого «Весна, ветеринар и я» на английский.',\n",
       " 'Перевод стихотворения Эдуарда Багрицкого «Происхождение» на английский.',\n",
       " 'Перевод стихотворения Эдуарда Багрицкого «От черного хлеба и верной жены...» на английский.',\n",
       " 'Перевод стихотворения Иннокентия Анненского «Серебряный полдень» на английский.',\n",
       " 'Перевод стихотворения Иннокентия Анненского «Умирание» на английский.',\n",
       " 'Перевод стихотворения Иннокентия Анненского «То было на Валлен-Коски» на английский.',\n",
       " 'Перевод стихотворения Иннокентия Анненского «Поэту» на английский.',\n",
       " 'Перевод стихотворения Иннокентия Анненского «Среди миров» на английский.',\n",
       " 'Перевод стихотворения Иннокентия Анненского «Среди миров» на английский.',\n",
       " 'Перевод стихотворения Иннокентия Анненского «Среди миров» на английский.',\n",
       " 'Перевод стихотворения Иннокентия Анненского «Среди миров» на английский.',\n",
       " 'Перевод стихотворения Иннокентия Анненского «Среди миров» на английский.',\n",
       " 'Перевод стихотворения Иннокентия Анненского «Среди миров» на английский.',\n",
       " 'Перевод стихотворения Иннокентия Анненского «Среди миров» на английский.',\n",
       " 'Перевод стихотворения Иннокентия Анненского «Среди миров» на английский.',\n",
       " 'Перевод стихотворения Иннокентия Анненского «Среди миров» на английский.',\n",
       " 'Перевод стихотворения Иннокентия Анненского «Среди миров» на немецкий.',\n",
       " 'Перевод стихотворения Иннокентия Анненского «Не могу понять, не знаю…» на английский.',\n",
       " 'Перевод стихотворения Иннокентия Анненского «Среди миров» на французский.',\n",
       " 'Перевод стихотворения Иннокентия Анненского «Среди миров» на испанский.',\n",
       " 'Перевод стихотворения Иннокентия Анненского «Среди миров» на итальянский.',\n",
       " 'Перевод стихотворения Иннокентия Анненского «Моя тоска» на английский.',\n",
       " 'Перевод стихотворения Иннокентия Анненского «Среди миров» на армянский.',\n",
       " 'Перевод стихотворения Иннокентия Анненского «После концерта» на английский.',\n",
       " 'Перевод стихотворения Иннокентия Анненского «Гармония» на английский.',\n",
       " 'Перевод стихотворения Иннокентия Анненского «Дети» на английский.',\n",
       " 'Перевод стихотворения Иннокентия Анненского «Аметисты» на немецкий.',\n",
       " 'Перевод стихотворения Иннокентия Анненского «Аметисты» на английский.',\n",
       " 'Перевод стихотворения Эдуарда Багрицкого «Февраль» на английский.',\n",
       " 'Перевод стихотворения Иннокентия Анненского «Аметисты» на английский.',\n",
       " 'Перевод стихотворения Иннокентия Анненского «Бронзовый поэт» на английский.',\n",
       " 'Перевод стихотворения Иннокентия Анненского «Петербург» на английский.',\n",
       " 'Перевод стихотворения Иннокентия Анненского «Петербург» на английский.',\n",
       " 'Перевод стихотворения Иннокентия Анненского «Маки» на английский.']"
      ]
     },
     "execution_count": 34,
     "metadata": {},
     "output_type": "execute_result"
    }
   ],
   "source": [
    "lst"
   ]
  },
  {
   "cell_type": "code",
   "execution_count": null,
   "metadata": {},
   "outputs": [],
   "source": []
  }
 ],
 "metadata": {
  "kernelspec": {
   "display_name": "Python 3",
   "language": "python",
   "name": "python3"
  },
  "language_info": {
   "codemirror_mode": {
    "name": "ipython",
    "version": 3
   },
   "file_extension": ".py",
   "mimetype": "text/x-python",
   "name": "python",
   "nbconvert_exporter": "python",
   "pygments_lexer": "ipython3",
   "version": "3.7.4"
  }
 },
 "nbformat": 4,
 "nbformat_minor": 2
}

{
 "cells": [
  {
   "cell_type": "code",
   "execution_count": 1,
   "metadata": {},
   "outputs": [],
   "source": [
    "import json\n",
    "import pandas as pd\n",
    "import re"
   ]
  },
  {
   "cell_type": "code",
   "execution_count": 65,
   "metadata": {},
   "outputs": [
    {
     "data": {
      "text/plain": [
       "Index(['en', 'ru', 'url'], dtype='object')"
      ]
     },
     "execution_count": 65,
     "metadata": {},
     "output_type": "execute_result"
    }
   ],
   "source": [
    "ruver = pd.read_csv(\"ruverses_fin.csv\")\n",
    "ruver.columns"
   ]
  },
  {
   "cell_type": "code",
   "execution_count": 66,
   "metadata": {},
   "outputs": [
    {
     "data": {
      "text/plain": [
       "Index(['text_ru', 'text_en', 'author', 'url'], dtype='object')"
      ]
     },
     "execution_count": 66,
     "metadata": {},
     "output_type": "execute_result"
    }
   ],
   "source": [
    "akyla = pd.read_csv(\"akyla_fin.csv\")\n",
    "akyla.columns"
   ]
  },
  {
   "cell_type": "code",
   "execution_count": 67,
   "metadata": {},
   "outputs": [
    {
     "data": {
      "text/plain": [
       "Index(['ru', 'en', 'url'], dtype='object')"
      ]
     },
     "execution_count": 67,
     "metadata": {},
     "output_type": "execute_result"
    }
   ],
   "source": [
    "cha = pd.read_csv(\"chastushki_fin.csv\")\n",
    "cha.columns"
   ]
  },
  {
   "cell_type": "code",
   "execution_count": 68,
   "metadata": {},
   "outputs": [
    {
     "data": {
      "text/plain": [
       "Index(['ru', 'en', 'url'], dtype='object')"
      ]
     },
     "execution_count": 68,
     "metadata": {},
     "output_type": "execute_result"
    }
   ],
   "source": [
    "guber = pd.read_csv(\"guber_fin.csv\")\n",
    "guber.columns"
   ]
  },
  {
   "cell_type": "code",
   "execution_count": 69,
   "metadata": {},
   "outputs": [
    {
     "data": {
      "text/plain": [
       "Index(['text_ru', 'text_en', 'url'], dtype='object')"
      ]
     },
     "execution_count": 69,
     "metadata": {},
     "output_type": "execute_result"
    }
   ],
   "source": [
    "eng_po = pd.read_csv(\"eng_poetry_fin.csv\")\n",
    "eng_po.columns"
   ]
  },
  {
   "cell_type": "code",
   "execution_count": 70,
   "metadata": {},
   "outputs": [
    {
     "data": {
      "text/plain": [
       "Index(['en', 'ru', 'url', 'source'], dtype='object')"
      ]
     },
     "execution_count": 70,
     "metadata": {},
     "output_type": "execute_result"
    }
   ],
   "source": [
    "tania = pd.read_csv(\"tania_fin.csv\")\n",
    "tania.columns"
   ]
  },
  {
   "cell_type": "code",
   "execution_count": 71,
   "metadata": {},
   "outputs": [],
   "source": [
    "ruver[\"ebuchest\"] = 0.05\n",
    "akyla[\"ebuchest\"] = 0\n",
    "cha[\"ebuchest\"] = 0\n",
    "guber[\"ebuchest\"] = 0\n",
    "eng_po[\"ebuchest\"] = 0.5"
   ]
  },
  {
   "cell_type": "code",
   "execution_count": 72,
   "metadata": {},
   "outputs": [],
   "source": [
    "tania[\"ebuchest\"] = None\n",
    "for idx, (en, ru, url, source, eb) in tania.iterrows():\n",
    "    if source == \"song\":\n",
    "        tania[\"ebuchest\"].iloc[idx] = 0.1\n",
    "    elif source == \"en\":\n",
    "        tania[\"ebuchest\"].iloc[idx] = 0.2\n",
    "    else:\n",
    "        tania[\"ebuchest\"].iloc[idx] = 0"
   ]
  },
  {
   "cell_type": "code",
   "execution_count": 73,
   "metadata": {},
   "outputs": [],
   "source": [
    "akyla = akyla[[\"text_en\", \"text_ru\", \"url\", \"ebuchest\"]]\n",
    "akyla.columns = ruver.columns"
   ]
  },
  {
   "cell_type": "code",
   "execution_count": 75,
   "metadata": {},
   "outputs": [],
   "source": [
    "cha = cha[[\"en\", \"ru\", \"url\", \"ebuchest\"]]\n",
    "cha.columns = ruver.columns"
   ]
  },
  {
   "cell_type": "code",
   "execution_count": 77,
   "metadata": {},
   "outputs": [],
   "source": [
    "guber = guber[[\"en\", \"ru\", \"url\", \"ebuchest\"]]\n",
    "guber.columns = ruver.columns"
   ]
  },
  {
   "cell_type": "code",
   "execution_count": 79,
   "metadata": {},
   "outputs": [],
   "source": [
    "eng_po = eng_po[[\"text_en\", \"text_ru\", \"url\", \"ebuchest\"]]\n",
    "eng_po.columns = ruver.columns"
   ]
  },
  {
   "cell_type": "code",
   "execution_count": 81,
   "metadata": {},
   "outputs": [],
   "source": [
    "tania = tania[[\"en\", \"ru\", \"url\", \"ebuchest\"]]\n",
    "tania.columns = ruver.columns"
   ]
  },
  {
   "cell_type": "code",
   "execution_count": 84,
   "metadata": {},
   "outputs": [],
   "source": [
    "final = pd.concat([ruver, akyla, cha, guber, eng_po, tania]).reset_index(drop=True)"
   ]
  },
  {
   "cell_type": "code",
   "execution_count": 86,
   "metadata": {},
   "outputs": [],
   "source": [
    "final.to_csv(\"dataset_poems_nonprocessed.csv\", index = False)"
   ]
  },
  {
   "cell_type": "code",
   "execution_count": 92,
   "metadata": {},
   "outputs": [
    {
     "data": {
      "text/plain": [
       "8983"
      ]
     },
     "execution_count": 92,
     "metadata": {},
     "output_type": "execute_result"
    }
   ],
   "source": [
    "len(final)"
   ]
  },
  {
   "cell_type": "code",
   "execution_count": 93,
   "metadata": {},
   "outputs": [
    {
     "data": {
      "text/plain": [
       "61736.5"
      ]
     },
     "execution_count": 93,
     "metadata": {},
     "output_type": "execute_result"
    }
   ],
   "source": [
    "final.ru.str.split(\"\\n\").str.len().sum() / 4"
   ]
  },
  {
   "cell_type": "code",
   "execution_count": 91,
   "metadata": {},
   "outputs": [
    {
     "data": {
      "text/plain": [
       "243258"
      ]
     },
     "execution_count": 91,
     "metadata": {},
     "output_type": "execute_result"
    }
   ],
   "source": [
    "final.en.str.split(\"\\n\").str.len().sum()"
   ]
  },
  {
   "cell_type": "code",
   "execution_count": 94,
   "metadata": {},
   "outputs": [],
   "source": [
    "final.ru = final.ru.apply(lambda x: re.sub(r\"\\r\\n\", \"\\n\", x))\n",
    "final.ru = final.ru.apply(lambda x: re.sub(r\"\\n\\s+\", \"\\n\", x))\n",
    "final.ru = final.ru.apply(lambda x: re.sub(r\"\\s+\\n\", \"\\n\", x))\n",
    "final.ru = final.ru.apply(lambda x: re.sub(r\"\\n+\", \"\\n\", x))\n",
    "final.ru = final.ru.apply(lambda x: re.sub(r\"^\\n\", \"\", x))\n",
    "final.ru = final.ru.apply(lambda x: re.sub(r\"\\n$\", \"\", x))\n",
    "\n",
    "final.en = final.en.apply(lambda x: re.sub(r\"\\r\\n\", \"\\n\", x))\n",
    "final.en = final.en.apply(lambda x: re.sub(r\"\\n\\s+\", \"\\n\", x))\n",
    "final.en = final.en.apply(lambda x: re.sub(r\"\\s+\\n\", \"\\n\", x))\n",
    "final.en = final.en.apply(lambda x: re.sub(r\"\\n+\", \"\\n\", x))\n",
    "final.en = final.en.apply(lambda x: re.sub(r\"^\\n\", \"\", x))\n",
    "final.en = final.en.apply(lambda x: re.sub(r\"\\n$\", \"\", x))"
   ]
  },
  {
   "cell_type": "code",
   "execution_count": 95,
   "metadata": {},
   "outputs": [
    {
     "data": {
      "text/html": [
       "<div>\n",
       "<style scoped>\n",
       "    .dataframe tbody tr th:only-of-type {\n",
       "        vertical-align: middle;\n",
       "    }\n",
       "\n",
       "    .dataframe tbody tr th {\n",
       "        vertical-align: top;\n",
       "    }\n",
       "\n",
       "    .dataframe thead th {\n",
       "        text-align: right;\n",
       "    }\n",
       "</style>\n",
       "<table border=\"1\" class=\"dataframe\">\n",
       "  <thead>\n",
       "    <tr style=\"text-align: right;\">\n",
       "      <th></th>\n",
       "      <th>en</th>\n",
       "      <th>ru</th>\n",
       "      <th>url</th>\n",
       "      <th>ebuchest</th>\n",
       "    </tr>\n",
       "  </thead>\n",
       "  <tbody>\n",
       "    <tr>\n",
       "      <td>0</td>\n",
       "      <td>There is a freedom blissful in a twilight\\nFro...</td>\n",
       "      <td>Есть в сумерках блаженная свобода\\nот явных чи...</td>\n",
       "      <td>https://ruverses.com/bella-akhmadulina/twiligh...</td>\n",
       "      <td>0.05</td>\n",
       "    </tr>\n",
       "    <tr>\n",
       "      <td>1</td>\n",
       "      <td>Laughing, delighting, and rebelling\\nIn all he...</td>\n",
       "      <td>Смеясь, ликуя и бунтуя,\\nв своей безвыходной т...</td>\n",
       "      <td>https://ruverses.com/bella-akhmadulina/laughin...</td>\n",
       "      <td>0.05</td>\n",
       "    </tr>\n",
       "    <tr>\n",
       "      <td>2</td>\n",
       "      <td>Winter, to me your gestures are\\ncold and care...</td>\n",
       "      <td>О жест зимы ко мне,\\nхолодный и прилежный.\\nДа...</td>\n",
       "      <td>https://ruverses.com/bella-akhmadulina/winter/</td>\n",
       "      <td>0.05</td>\n",
       "    </tr>\n",
       "    <tr>\n",
       "      <td>3</td>\n",
       "      <td>Along my street, these steady steps resound\\nY...</td>\n",
       "      <td>По улице моей который год\\nзвучат шаги — мои д...</td>\n",
       "      <td>https://ruverses.com/bella-akhmadulina/along-m...</td>\n",
       "      <td>0.05</td>\n",
       "    </tr>\n",
       "    <tr>\n",
       "      <td>4</td>\n",
       "      <td>Here're the girls — they wish to love,\\nHere'r...</td>\n",
       "      <td>Вот девочки — им хочется любви.\\nВот мальчики ...</td>\n",
       "      <td>https://ruverses.com/bella-akhmadulina/april/2...</td>\n",
       "      <td>0.05</td>\n",
       "    </tr>\n",
       "    <tr>\n",
       "      <td>...</td>\n",
       "      <td>...</td>\n",
       "      <td>...</td>\n",
       "      <td>...</td>\n",
       "      <td>...</td>\n",
       "    </tr>\n",
       "    <tr>\n",
       "      <td>8978</td>\n",
       "      <td>Wait for me – and I'll return.\\nOnly wait for ...</td>\n",
       "      <td>Жди меня, и я вернусь.\\nТолько очень жди,\\nЖди...</td>\n",
       "      <td>no</td>\n",
       "      <td>0</td>\n",
       "    </tr>\n",
       "    <tr>\n",
       "      <td>8979</td>\n",
       "      <td>Wait for me, and I'll come back.\\nOnly wait fo...</td>\n",
       "      <td>Жди меня, и я вернусь.\\nТолько очень жди,\\nЖди...</td>\n",
       "      <td>no</td>\n",
       "      <td>0</td>\n",
       "    </tr>\n",
       "    <tr>\n",
       "      <td>8980</td>\n",
       "      <td>Not long ago, when I was at a dinner,\\nI heard...</td>\n",
       "      <td>Недавно тост я слышал на пиру,\\nИ вот он здесь...</td>\n",
       "      <td>no</td>\n",
       "      <td>0</td>\n",
       "    </tr>\n",
       "    <tr>\n",
       "      <td>8981</td>\n",
       "      <td>Eyes of gray—the sodden quay,\\nDriving rain an...</td>\n",
       "      <td>Серые глаза — рассвет,\\nПароходная сирена,\\nДо...</td>\n",
       "      <td>no</td>\n",
       "      <td>0</td>\n",
       "    </tr>\n",
       "    <tr>\n",
       "      <td>8982</td>\n",
       "      <td>The Doorkeepers of Zion,\\nThey do not always s...</td>\n",
       "      <td>Привратники Сиона\\nНе вечно на часах\\nСтоят в ...</td>\n",
       "      <td>no</td>\n",
       "      <td>0</td>\n",
       "    </tr>\n",
       "  </tbody>\n",
       "</table>\n",
       "<p>8983 rows × 4 columns</p>\n",
       "</div>"
      ],
      "text/plain": [
       "                                                     en  \\\n",
       "0     There is a freedom blissful in a twilight\\nFro...   \n",
       "1     Laughing, delighting, and rebelling\\nIn all he...   \n",
       "2     Winter, to me your gestures are\\ncold and care...   \n",
       "3     Along my street, these steady steps resound\\nY...   \n",
       "4     Here're the girls — they wish to love,\\nHere'r...   \n",
       "...                                                 ...   \n",
       "8978  Wait for me – and I'll return.\\nOnly wait for ...   \n",
       "8979  Wait for me, and I'll come back.\\nOnly wait fo...   \n",
       "8980  Not long ago, when I was at a dinner,\\nI heard...   \n",
       "8981  Eyes of gray—the sodden quay,\\nDriving rain an...   \n",
       "8982  The Doorkeepers of Zion,\\nThey do not always s...   \n",
       "\n",
       "                                                     ru  \\\n",
       "0     Есть в сумерках блаженная свобода\\nот явных чи...   \n",
       "1     Смеясь, ликуя и бунтуя,\\nв своей безвыходной т...   \n",
       "2     О жест зимы ко мне,\\nхолодный и прилежный.\\nДа...   \n",
       "3     По улице моей который год\\nзвучат шаги — мои д...   \n",
       "4     Вот девочки — им хочется любви.\\nВот мальчики ...   \n",
       "...                                                 ...   \n",
       "8978  Жди меня, и я вернусь.\\nТолько очень жди,\\nЖди...   \n",
       "8979  Жди меня, и я вернусь.\\nТолько очень жди,\\nЖди...   \n",
       "8980  Недавно тост я слышал на пиру,\\nИ вот он здесь...   \n",
       "8981  Серые глаза — рассвет,\\nПароходная сирена,\\nДо...   \n",
       "8982  Привратники Сиона\\nНе вечно на часах\\nСтоят в ...   \n",
       "\n",
       "                                                    url ebuchest  \n",
       "0     https://ruverses.com/bella-akhmadulina/twiligh...     0.05  \n",
       "1     https://ruverses.com/bella-akhmadulina/laughin...     0.05  \n",
       "2        https://ruverses.com/bella-akhmadulina/winter/     0.05  \n",
       "3     https://ruverses.com/bella-akhmadulina/along-m...     0.05  \n",
       "4     https://ruverses.com/bella-akhmadulina/april/2...     0.05  \n",
       "...                                                 ...      ...  \n",
       "8978                                                 no        0  \n",
       "8979                                                 no        0  \n",
       "8980                                                 no        0  \n",
       "8981                                                 no        0  \n",
       "8982                                                 no        0  \n",
       "\n",
       "[8983 rows x 4 columns]"
      ]
     },
     "execution_count": 95,
     "metadata": {},
     "output_type": "execute_result"
    }
   ],
   "source": [
    "final"
   ]
  },
  {
   "cell_type": "code",
   "execution_count": 99,
   "metadata": {},
   "outputs": [
    {
     "name": "stdout",
     "output_type": "stream",
     "text": [
      "Wait for me – and I'll return.\n",
      "Only wait for me,\n",
      "Wait, when dark clouds loom and yearn\n",
      "Wait torrentially.\n",
      "Wait, when snows sweep through the steppe,\n",
      "Wait, on days serene,\n",
      "Wait, when others do not keep\n",
      "Faith in what has been.\n",
      "Wait, when over many leagues\n",
      "Letters don't arrive,\n",
      "Wait when waiting long fatigues –\n",
      "But keep our fire alive.\n",
      "Wait for me – and I'll return.\n",
      "Don’t aid and abet\n",
      "Those whose counsels overturn:\n",
      "“It's time to forget.”\n",
      "Let my son and mother trust\n",
      "Neighbours who conspire\n",
      "Let their waiting turn to dust,\n",
      "Sitting by the fire,\n",
      "Drinking cups of bitter wine\n",
      "Remembering the soul...\n",
      "Wait and when it comes to mine\n",
      "Do not drain the bowl.\n",
      "Wait for me – and I'll return,\n",
      "Tantalising fate.\n",
      "Let the sceptics crash and burn\n",
      "Those who can’t relate.\n",
      "They don’t know, who can’t hang fire:\n",
      "In the midst of strife\n",
      "With your faith and love entire\n",
      "You have saved my life.\n",
      "We’ll know how I cheated fate\n",
      "Only you and I –\n",
      "Simply, you knew how to wait,\n",
      "And that’s what saved your guy.\n"
     ]
    }
   ],
   "source": [
    "print(final[abs(final.en.str.split(\"\\n\").str.len() - final.ru.str.split(\"\\n\").str.len()) == 0].iloc[-1].en)"
   ]
  },
  {
   "cell_type": "code",
   "execution_count": 105,
   "metadata": {},
   "outputs": [],
   "source": [
    "final = final.drop_duplicates(subset=[\"en\", \"ru\"], keep=\"first\")"
   ]
  },
  {
   "cell_type": "code",
   "execution_count": 107,
   "metadata": {},
   "outputs": [
    {
     "data": {
      "text/html": [
       "<div>\n",
       "<style scoped>\n",
       "    .dataframe tbody tr th:only-of-type {\n",
       "        vertical-align: middle;\n",
       "    }\n",
       "\n",
       "    .dataframe tbody tr th {\n",
       "        vertical-align: top;\n",
       "    }\n",
       "\n",
       "    .dataframe thead th {\n",
       "        text-align: right;\n",
       "    }\n",
       "</style>\n",
       "<table border=\"1\" class=\"dataframe\">\n",
       "  <thead>\n",
       "    <tr style=\"text-align: right;\">\n",
       "      <th></th>\n",
       "      <th>en</th>\n",
       "      <th>ru</th>\n",
       "      <th>url</th>\n",
       "      <th>ebuchest</th>\n",
       "    </tr>\n",
       "  </thead>\n",
       "  <tbody>\n",
       "    <tr>\n",
       "      <td>0</td>\n",
       "      <td>There is a freedom blissful in a twilight\\nFro...</td>\n",
       "      <td>Есть в сумерках блаженная свобода\\nот явных чи...</td>\n",
       "      <td>https://ruverses.com/bella-akhmadulina/twiligh...</td>\n",
       "      <td>0.05</td>\n",
       "    </tr>\n",
       "    <tr>\n",
       "      <td>1</td>\n",
       "      <td>Laughing, delighting, and rebelling\\nIn all he...</td>\n",
       "      <td>Смеясь, ликуя и бунтуя,\\nв своей безвыходной т...</td>\n",
       "      <td>https://ruverses.com/bella-akhmadulina/laughin...</td>\n",
       "      <td>0.05</td>\n",
       "    </tr>\n",
       "    <tr>\n",
       "      <td>2</td>\n",
       "      <td>Winter, to me your gestures are\\ncold and care...</td>\n",
       "      <td>О жест зимы ко мне,\\nхолодный и прилежный.\\nДа...</td>\n",
       "      <td>https://ruverses.com/bella-akhmadulina/winter/</td>\n",
       "      <td>0.05</td>\n",
       "    </tr>\n",
       "    <tr>\n",
       "      <td>3</td>\n",
       "      <td>Along my street, these steady steps resound\\nY...</td>\n",
       "      <td>По улице моей который год\\nзвучат шаги — мои д...</td>\n",
       "      <td>https://ruverses.com/bella-akhmadulina/along-m...</td>\n",
       "      <td>0.05</td>\n",
       "    </tr>\n",
       "    <tr>\n",
       "      <td>4</td>\n",
       "      <td>Here're the girls — they wish to love,\\nHere'r...</td>\n",
       "      <td>Вот девочки — им хочется любви.\\nВот мальчики ...</td>\n",
       "      <td>https://ruverses.com/bella-akhmadulina/april/2...</td>\n",
       "      <td>0.05</td>\n",
       "    </tr>\n",
       "    <tr>\n",
       "      <td>...</td>\n",
       "      <td>...</td>\n",
       "      <td>...</td>\n",
       "      <td>...</td>\n",
       "      <td>...</td>\n",
       "    </tr>\n",
       "    <tr>\n",
       "      <td>8972</td>\n",
       "      <td>If you can keep your head when all about you\\n...</td>\n",
       "      <td>О, если ты спокоен, не растерян,\\nКогда теряют...</td>\n",
       "      <td>no</td>\n",
       "      <td>0</td>\n",
       "    </tr>\n",
       "    <tr>\n",
       "      <td>8973</td>\n",
       "      <td>If you can keep your head when all about you\\n...</td>\n",
       "      <td>Когда ты твёрд, а весь народ растерян\\nИ валит...</td>\n",
       "      <td>no</td>\n",
       "      <td>0</td>\n",
       "    </tr>\n",
       "    <tr>\n",
       "      <td>8975</td>\n",
       "      <td>Wait for me, and I'll be back,\\nShould you wai...</td>\n",
       "      <td>Жди меня, и я вернусь.\\nТолько очень жди,\\nЖди...</td>\n",
       "      <td>no</td>\n",
       "      <td>0</td>\n",
       "    </tr>\n",
       "    <tr>\n",
       "      <td>8976</td>\n",
       "      <td>Wait for me, and I'll return,\\nNever to depart...</td>\n",
       "      <td>Жди меня, и я вернусь.\\nТолько очень жди,\\nЖди...</td>\n",
       "      <td>no</td>\n",
       "      <td>0</td>\n",
       "    </tr>\n",
       "    <tr>\n",
       "      <td>8977</td>\n",
       "      <td>Wait for me – and I'll return.\\nOnly wait for ...</td>\n",
       "      <td>Жди меня, и я вернусь.\\nТолько очень жди,\\nЖди...</td>\n",
       "      <td>no</td>\n",
       "      <td>0</td>\n",
       "    </tr>\n",
       "  </tbody>\n",
       "</table>\n",
       "<p>7153 rows × 4 columns</p>\n",
       "</div>"
      ],
      "text/plain": [
       "                                                     en  \\\n",
       "0     There is a freedom blissful in a twilight\\nFro...   \n",
       "1     Laughing, delighting, and rebelling\\nIn all he...   \n",
       "2     Winter, to me your gestures are\\ncold and care...   \n",
       "3     Along my street, these steady steps resound\\nY...   \n",
       "4     Here're the girls — they wish to love,\\nHere'r...   \n",
       "...                                                 ...   \n",
       "8972  If you can keep your head when all about you\\n...   \n",
       "8973  If you can keep your head when all about you\\n...   \n",
       "8975  Wait for me, and I'll be back,\\nShould you wai...   \n",
       "8976  Wait for me, and I'll return,\\nNever to depart...   \n",
       "8977  Wait for me – and I'll return.\\nOnly wait for ...   \n",
       "\n",
       "                                                     ru  \\\n",
       "0     Есть в сумерках блаженная свобода\\nот явных чи...   \n",
       "1     Смеясь, ликуя и бунтуя,\\nв своей безвыходной т...   \n",
       "2     О жест зимы ко мне,\\nхолодный и прилежный.\\nДа...   \n",
       "3     По улице моей который год\\nзвучат шаги — мои д...   \n",
       "4     Вот девочки — им хочется любви.\\nВот мальчики ...   \n",
       "...                                                 ...   \n",
       "8972  О, если ты спокоен, не растерян,\\nКогда теряют...   \n",
       "8973  Когда ты твёрд, а весь народ растерян\\nИ валит...   \n",
       "8975  Жди меня, и я вернусь.\\nТолько очень жди,\\nЖди...   \n",
       "8976  Жди меня, и я вернусь.\\nТолько очень жди,\\nЖди...   \n",
       "8977  Жди меня, и я вернусь.\\nТолько очень жди,\\nЖди...   \n",
       "\n",
       "                                                    url ebuchest  \n",
       "0     https://ruverses.com/bella-akhmadulina/twiligh...     0.05  \n",
       "1     https://ruverses.com/bella-akhmadulina/laughin...     0.05  \n",
       "2        https://ruverses.com/bella-akhmadulina/winter/     0.05  \n",
       "3     https://ruverses.com/bella-akhmadulina/along-m...     0.05  \n",
       "4     https://ruverses.com/bella-akhmadulina/april/2...     0.05  \n",
       "...                                                 ...      ...  \n",
       "8972                                                 no        0  \n",
       "8973                                                 no        0  \n",
       "8975                                                 no        0  \n",
       "8976                                                 no        0  \n",
       "8977                                                 no        0  \n",
       "\n",
       "[7153 rows x 4 columns]"
      ]
     },
     "execution_count": 107,
     "metadata": {},
     "output_type": "execute_result"
    }
   ],
   "source": [
    "final[abs(final.en.str.split(\"\\n\").str.len() - final.ru.str.split(\"\\n\").str.len()) == 0]"
   ]
  },
  {
   "cell_type": "code",
   "execution_count": 108,
   "metadata": {},
   "outputs": [
    {
     "name": "stdout",
     "output_type": "stream",
     "text": [
      "Подушка уже горяча\n",
      "С обеих сторон.\n",
      "Вот и вторая свеча\n",
      "Гаснет, и крик ворон\n",
      "Становится всё слышней.\n",
      "Я эту ночь не спала,\n",
      "Поздно думать о сне...\n",
      "Как нестерпимо бела\n",
      "Штора на белом окне.\n",
      "Здравствуй!\n",
      "***\n",
      "Now the pillow’s\n",
      "Hot on both sides.\n",
      "A second candle\n",
      "Dies, the ravens cry\n",
      "Endlessly.\n",
      "No sleep all night,\n",
      "Too late to think of sleep...\n",
      "How unbearably white\n",
      "The blind’s white deep.\n",
      "Hello, Morning!\n"
     ]
    }
   ],
   "source": [
    "c = 150\n",
    "print(final[abs(final.en.str.split(\"\\n\").str.len() - final.ru.str.split(\"\\n\").str.len()) == 0].loc[c].ru)\n",
    "print(\"***\")\n",
    "print(final[abs(final.en.str.split(\"\\n\").str.len() - final.ru.str.split(\"\\n\").str.len()) == 0].loc[c].en)"
   ]
  },
  {
   "cell_type": "code",
   "execution_count": null,
   "metadata": {},
   "outputs": [],
   "source": [
    "sep = \"\\n\\n\\n#new_poem#\\n\"\n",
    "translation_sep = \"\\n#translation#\\n\"\n",
    "url_sep = \"\\n#url#\\n\"\n",
    "diff_sep = \"\\n#diff#\\n\"\n",
    "\n",
    "with open(\"final_lookup.txt\", \"w\") as file:\n",
    "    for idx, (en, ru, url) in problem.iterrows():\n",
    "        \n",
    "        file.write(sep)\n",
    "        file.write(ru)\n",
    "        file.write(translation_sep)\n",
    "        file.write(en)\n",
    "        file.write(url_sep)\n",
    "        file.write(url)"
   ]
  }
 ],
 "metadata": {
  "kernelspec": {
   "display_name": "Python 3",
   "language": "python",
   "name": "python3"
  },
  "language_info": {
   "codemirror_mode": {
    "name": "ipython",
    "version": 3
   },
   "file_extension": ".py",
   "mimetype": "text/x-python",
   "name": "python",
   "nbconvert_exporter": "python",
   "pygments_lexer": "ipython3",
   "version": "3.7.4"
  }
 },
 "nbformat": 4,
 "nbformat_minor": 2
}

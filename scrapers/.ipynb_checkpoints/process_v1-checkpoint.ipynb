{
 "cells": [
  {
   "cell_type": "code",
   "execution_count": 1,
   "metadata": {},
   "outputs": [],
   "source": [
    "import json\n",
    "import pandas as pd\n",
    "import re\n",
    "from mosestokenizer import *\n",
    "import unicodedata\n",
    "from collections import Counter\n",
    "import numpy as np"
   ]
  },
  {
   "cell_type": "code",
   "execution_count": 2,
   "metadata": {},
   "outputs": [],
   "source": [
    "def what_lang(string):\n",
    "    en_rate = len(re.findall(r\"[a-zA-Z ]\", string)) / len(string)\n",
    "    ru_rate = len(re.findall(r\"[а-яА-Я ]\", string)) / len(string)\n",
    "    if en_rate > ru_rate:\n",
    "        return \"en\"\n",
    "    else:\n",
    "        return \"ru\""
   ]
  },
  {
   "cell_type": "code",
   "execution_count": 6,
   "metadata": {},
   "outputs": [],
   "source": [
    "data = pd.read_csv(\"dataset_poems_nonprocessed.csv\")"
   ]
  },
  {
   "cell_type": "code",
   "execution_count": 7,
   "metadata": {},
   "outputs": [
    {
     "name": "stdout",
     "output_type": "stream",
     "text": [
      "4559 5657 5665 6663 7842 8125 "
     ]
    }
   ],
   "source": [
    "lst_en_ru = []\n",
    "for i in range(len(data)):\n",
    "    if (what_lang(data.iloc[i].en) == \"en\" and what_lang(data.iloc[i].ru) == \"en\") or \\\n",
    "            (what_lang(data.iloc[i].en) == \"ru\" and what_lang(data.iloc[i].ru) == \"ru\"):\n",
    "        print(i ,end = \" \")\n",
    "    elif what_lang(data.iloc[i].en) == \"en\":\n",
    "        lst_en_ru.append([data.iloc[i].en, data.iloc[i].ru, data.iloc[i].url, data.iloc[i].ebuchest])\n",
    "    elif what_lang(data.iloc[i].ru) == \"en\":\n",
    "        lst_en_ru.append([data.iloc[i].ru, data.iloc[i].en, data.iloc[i].url, data.iloc[i].ebuchest])\n",
    "    else:\n",
    "        print(\"\\nfuck \", i)\n",
    "        pass"
   ]
  },
  {
   "cell_type": "code",
   "execution_count": 8,
   "metadata": {},
   "outputs": [],
   "source": [
    "df = pd.DataFrame(lst_en_ru, columns=[\"en\",\"ru\",\"url\", \"eb\"])"
   ]
  },
  {
   "cell_type": "code",
   "execution_count": 9,
   "metadata": {},
   "outputs": [],
   "source": [
    "df.ru = df.ru.apply(lambda x: re.sub(r\"\\t+\", \" \", x))\n",
    "df.ru = df.ru.apply(lambda x: re.sub(r\" +\", \" \", x))\n",
    "df.ru = df.ru.apply(lambda x: re.sub(r\"^ +\", \"\", x))\n",
    "df.ru = df.ru.apply(lambda x: re.sub(r\" +&\", \"\", x))\n",
    "df.ru = df.ru.apply(lambda x: re.sub(r\"\\r\\n\", \"\\n\", x))\n",
    "df.ru = df.ru.apply(lambda x: re.sub(r\"\\n\\s+\", \"\\n\", x))\n",
    "df.ru = df.ru.apply(lambda x: re.sub(r\"\\s+\\n\", \"\\n\", x))\n",
    "df.ru = df.ru.apply(lambda x: re.sub(r\"\\n+\", \"\\n\", x))\n",
    "df.ru = df.ru.apply(lambda x: re.sub(r\"^\\n\", \"\", x))\n",
    "df.ru = df.ru.apply(lambda x: re.sub(r\"\\n$\", \"\", x))"
   ]
  },
  {
   "cell_type": "code",
   "execution_count": 10,
   "metadata": {},
   "outputs": [],
   "source": [
    "df.en = df.en.apply(lambda x: re.sub(r\"\\t+\", \" \", x))\n",
    "df.en = df.en.apply(lambda x: re.sub(r\" +\", \" \", x))\n",
    "df.en = df.en.apply(lambda x: re.sub(r\"^ +\", \"\", x))\n",
    "df.en = df.en.apply(lambda x: re.sub(r\" +&\", \"\", x))\n",
    "df.en = df.en.apply(lambda x: re.sub(r\"\\r\\n\", \"\\n\", x))\n",
    "df.en = df.en.apply(lambda x: re.sub(r\"\\n\\s+\", \"\\n\", x))\n",
    "df.en = df.en.apply(lambda x: re.sub(r\"\\s+\\n\", \"\\n\", x))\n",
    "df.en = df.en.apply(lambda x: re.sub(r\"\\n+\", \"\\n\", x))\n",
    "df.en = df.en.apply(lambda x: re.sub(r\"^\\n\", \"\", x))\n",
    "df.en = df.en.apply(lambda x: re.sub(r\"\\n$\", \"\", x))"
   ]
  },
  {
   "cell_type": "code",
   "execution_count": 11,
   "metadata": {},
   "outputs": [],
   "source": [
    "df = df.drop_duplicates(subset=[\"en\", \"ru\"], keep=\"first\")"
   ]
  },
  {
   "cell_type": "code",
   "execution_count": 12,
   "metadata": {},
   "outputs": [],
   "source": [
    "df.ru = df.ru.apply(lambda x: x.replace(\"/p>\", \"\"))\n",
    "df.en = df.en.apply(lambda x: x.replace(\"/p>\", \"\"))\n",
    "\n",
    "df.ru = df.ru.apply(lambda x: re.sub('&amp;', '&', x))\n",
    "df.en = df.en.apply(lambda x: re.sub('&amp;', '&', x))\n",
    "\n",
    "df.ru = df.ru.apply(lambda x: re.sub('#', '', x))\n",
    "df.en = df.en.apply(lambda x: re.sub('#', '', x))"
   ]
  },
  {
   "cell_type": "code",
   "execution_count": null,
   "metadata": {},
   "outputs": [],
   "source": [
    "def clean(string):\n",
    "    string = re.sub(r\"([^\\w ])\", r\" \\1\", string)\n",
    "    string = re.sub(r\"([^ \\w])\", r\"\\1 \", string)\n",
    "    return string"
   ]
  },
  {
   "cell_type": "code",
   "execution_count": 13,
   "metadata": {},
   "outputs": [],
   "source": [
    "def strip_accents(s):\n",
    "    return ''.join(c for c in unicodedata.normalize('NFD', s)\n",
    "                  if unicodedata.category(c) != 'Mn' or ord(c)==774 or ord(c)==776 or ord(c)==775)"
   ]
  },
  {
   "cell_type": "code",
   "execution_count": 14,
   "metadata": {},
   "outputs": [],
   "source": [
    "def process_ru(string):\n",
    "    normalize_ru = MosesPunctuationNormalizer('ru')\n",
    "    string = strip_accents(string)\n",
    "    string = string.lower()\n",
    "    string = normalize_ru(string.replace(\"\\n\", \" # \"))\n",
    "    return string"
   ]
  },
  {
   "cell_type": "code",
   "execution_count": 15,
   "metadata": {},
   "outputs": [],
   "source": [
    "def process_en(string):\n",
    "    normalize_en = MosesPunctuationNormalizer('en')\n",
    "#     string = strip_accents(string)\n",
    "    string = string.lower()\n",
    "    string = normalize_en(string.replace(\"\\n\", \" # \"))\n",
    "    return string"
   ]
  },
  {
   "cell_type": "code",
   "execution_count": 16,
   "metadata": {},
   "outputs": [
    {
     "data": {
      "text/html": [
       "<div>\n",
       "<style scoped>\n",
       "    .dataframe tbody tr th:only-of-type {\n",
       "        vertical-align: middle;\n",
       "    }\n",
       "\n",
       "    .dataframe tbody tr th {\n",
       "        vertical-align: top;\n",
       "    }\n",
       "\n",
       "    .dataframe thead th {\n",
       "        text-align: right;\n",
       "    }\n",
       "</style>\n",
       "<table border=\"1\" class=\"dataframe\">\n",
       "  <thead>\n",
       "    <tr style=\"text-align: right;\">\n",
       "      <th></th>\n",
       "      <th>en</th>\n",
       "      <th>ru</th>\n",
       "      <th>url</th>\n",
       "      <th>eb</th>\n",
       "    </tr>\n",
       "  </thead>\n",
       "  <tbody>\n",
       "    <tr>\n",
       "      <td>0</td>\n",
       "      <td>There is a freedom blissful in a twilight\\nFro...</td>\n",
       "      <td>Есть в сумерках блаженная свобода\\nот явных чи...</td>\n",
       "      <td>https://ruverses.com/bella-akhmadulina/twiligh...</td>\n",
       "      <td>0.05</td>\n",
       "    </tr>\n",
       "    <tr>\n",
       "      <td>1</td>\n",
       "      <td>Laughing, delighting, and rebelling\\nIn all he...</td>\n",
       "      <td>Смеясь, ликуя и бунтуя,\\nв своей безвыходной т...</td>\n",
       "      <td>https://ruverses.com/bella-akhmadulina/laughin...</td>\n",
       "      <td>0.05</td>\n",
       "    </tr>\n",
       "    <tr>\n",
       "      <td>2</td>\n",
       "      <td>Winter, to me your gestures are\\ncold and care...</td>\n",
       "      <td>О жест зимы ко мне,\\nхолодный и прилежный.\\nДа...</td>\n",
       "      <td>https://ruverses.com/bella-akhmadulina/winter/</td>\n",
       "      <td>0.05</td>\n",
       "    </tr>\n",
       "    <tr>\n",
       "      <td>3</td>\n",
       "      <td>Along my street, these steady steps resound\\nY...</td>\n",
       "      <td>По улице моей который год\\nзвучат шаги — мои д...</td>\n",
       "      <td>https://ruverses.com/bella-akhmadulina/along-m...</td>\n",
       "      <td>0.05</td>\n",
       "    </tr>\n",
       "    <tr>\n",
       "      <td>4</td>\n",
       "      <td>Here're the girls — they wish to love,\\nHere'r...</td>\n",
       "      <td>Вот девочки — им хочется любви.\\nВот мальчики ...</td>\n",
       "      <td>https://ruverses.com/bella-akhmadulina/april/2...</td>\n",
       "      <td>0.05</td>\n",
       "    </tr>\n",
       "    <tr>\n",
       "      <td>...</td>\n",
       "      <td>...</td>\n",
       "      <td>...</td>\n",
       "      <td>...</td>\n",
       "      <td>...</td>\n",
       "    </tr>\n",
       "    <tr>\n",
       "      <td>8971</td>\n",
       "      <td>Wait for me – and I'll return.\\nOnly wait for ...</td>\n",
       "      <td>Жди меня, и я вернусь.\\nТолько очень жди,\\nЖди...</td>\n",
       "      <td>no</td>\n",
       "      <td>0.00</td>\n",
       "    </tr>\n",
       "    <tr>\n",
       "      <td>8973</td>\n",
       "      <td>Wait for me, and I'll come back.\\nOnly wait fo...</td>\n",
       "      <td>Жди меня, и я вернусь.\\nТолько очень жди,\\nЖди...</td>\n",
       "      <td>no</td>\n",
       "      <td>0.00</td>\n",
       "    </tr>\n",
       "    <tr>\n",
       "      <td>8974</td>\n",
       "      <td>Not long ago, when I was at a dinner,\\nI heard...</td>\n",
       "      <td>Недавно тост я слышал на пиру,\\nИ вот он здесь...</td>\n",
       "      <td>no</td>\n",
       "      <td>0.00</td>\n",
       "    </tr>\n",
       "    <tr>\n",
       "      <td>8975</td>\n",
       "      <td>Eyes of gray—the sodden quay,\\nDriving rain an...</td>\n",
       "      <td>Серые глаза — рассвет,\\nПароходная сирена,\\nДо...</td>\n",
       "      <td>no</td>\n",
       "      <td>0.00</td>\n",
       "    </tr>\n",
       "    <tr>\n",
       "      <td>8976</td>\n",
       "      <td>The Doorkeepers of Zion,\\nThey do not always s...</td>\n",
       "      <td>Привратники Сиона\\nНе вечно на часах\\nСтоят в ...</td>\n",
       "      <td>no</td>\n",
       "      <td>0.00</td>\n",
       "    </tr>\n",
       "  </tbody>\n",
       "</table>\n",
       "<p>8895 rows × 4 columns</p>\n",
       "</div>"
      ],
      "text/plain": [
       "                                                     en  \\\n",
       "0     There is a freedom blissful in a twilight\\nFro...   \n",
       "1     Laughing, delighting, and rebelling\\nIn all he...   \n",
       "2     Winter, to me your gestures are\\ncold and care...   \n",
       "3     Along my street, these steady steps resound\\nY...   \n",
       "4     Here're the girls — they wish to love,\\nHere'r...   \n",
       "...                                                 ...   \n",
       "8971  Wait for me – and I'll return.\\nOnly wait for ...   \n",
       "8973  Wait for me, and I'll come back.\\nOnly wait fo...   \n",
       "8974  Not long ago, when I was at a dinner,\\nI heard...   \n",
       "8975  Eyes of gray—the sodden quay,\\nDriving rain an...   \n",
       "8976  The Doorkeepers of Zion,\\nThey do not always s...   \n",
       "\n",
       "                                                     ru  \\\n",
       "0     Есть в сумерках блаженная свобода\\nот явных чи...   \n",
       "1     Смеясь, ликуя и бунтуя,\\nв своей безвыходной т...   \n",
       "2     О жест зимы ко мне,\\nхолодный и прилежный.\\nДа...   \n",
       "3     По улице моей который год\\nзвучат шаги — мои д...   \n",
       "4     Вот девочки — им хочется любви.\\nВот мальчики ...   \n",
       "...                                                 ...   \n",
       "8971  Жди меня, и я вернусь.\\nТолько очень жди,\\nЖди...   \n",
       "8973  Жди меня, и я вернусь.\\nТолько очень жди,\\nЖди...   \n",
       "8974  Недавно тост я слышал на пиру,\\nИ вот он здесь...   \n",
       "8975  Серые глаза — рассвет,\\nПароходная сирена,\\nДо...   \n",
       "8976  Привратники Сиона\\nНе вечно на часах\\nСтоят в ...   \n",
       "\n",
       "                                                    url    eb  \n",
       "0     https://ruverses.com/bella-akhmadulina/twiligh...  0.05  \n",
       "1     https://ruverses.com/bella-akhmadulina/laughin...  0.05  \n",
       "2        https://ruverses.com/bella-akhmadulina/winter/  0.05  \n",
       "3     https://ruverses.com/bella-akhmadulina/along-m...  0.05  \n",
       "4     https://ruverses.com/bella-akhmadulina/april/2...  0.05  \n",
       "...                                                 ...   ...  \n",
       "8971                                                 no  0.00  \n",
       "8973                                                 no  0.00  \n",
       "8974                                                 no  0.00  \n",
       "8975                                                 no  0.00  \n",
       "8976                                                 no  0.00  \n",
       "\n",
       "[8895 rows x 4 columns]"
      ]
     },
     "execution_count": 16,
     "metadata": {},
     "output_type": "execute_result"
    }
   ],
   "source": [
    "df"
   ]
  },
  {
   "cell_type": "code",
   "execution_count": 17,
   "metadata": {},
   "outputs": [],
   "source": [
    "df.en = df.en.apply(strip_accents)\n",
    "df.en = df.en.apply(process_en)\n",
    "df.ru = df.ru.apply(process_ru)"
   ]
  },
  {
   "cell_type": "code",
   "execution_count": 18,
   "metadata": {},
   "outputs": [],
   "source": [
    "c_ru = Counter()\n",
    "c_en = Counter()\n",
    "for idx, (en, ru, url, eb) in df.iterrows():\n",
    "    count_ru = Counter(ru)\n",
    "    c_ru += count_ru\n",
    "    count_en = Counter(en)\n",
    "    c_en += count_en"
   ]
  },
  {
   "cell_type": "code",
   "execution_count": 19,
   "metadata": {},
   "outputs": [],
   "source": [
    "lst_bad_symb = [\"™\",\n",
    "\"\\uf009\",\n",
    "\"\\uf008\",\n",
    "\"¬\",\n",
    "\"\\u2060\",\n",
    "\"\\xa0\",\n",
    "\"\\u200e\",\n",
    "\"\\u3000\",\n",
    "\"\\u200a\",\n",
    "\"\\ufeff\",\n",
    "\"\\xad\"]"
   ]
  },
  {
   "cell_type": "code",
   "execution_count": 20,
   "metadata": {},
   "outputs": [],
   "source": [
    "def remove_bad_symb(string):\n",
    "    return \"\".join([c for c in string if c not in lst_bad_symb])"
   ]
  },
  {
   "cell_type": "code",
   "execution_count": 21,
   "metadata": {},
   "outputs": [],
   "source": [
    "df.ru = df.ru.apply(remove_bad_symb)\n",
    "df.en = df.en.apply(remove_bad_symb)"
   ]
  },
  {
   "cell_type": "code",
   "execution_count": 22,
   "metadata": {},
   "outputs": [],
   "source": [
    "c_ru = Counter()\n",
    "c_en = Counter()\n",
    "for idx, (en, ru, url, eb) in df.iterrows():\n",
    "    count_ru = Counter(ru)\n",
    "    c_ru += count_ru\n",
    "    count_en = Counter(en)\n",
    "    c_en += count_en"
   ]
  },
  {
   "cell_type": "code",
   "execution_count": 23,
   "metadata": {},
   "outputs": [],
   "source": [
    "# df.to_csv(\"dataset_poems_processed_v1.csv\", index=False)"
   ]
  },
  {
   "cell_type": "code",
   "execution_count": 3,
   "metadata": {},
   "outputs": [],
   "source": [
    "df = pd.read_csv(\"dataset_poems_processed_v1.csv\")"
   ]
  },
  {
   "cell_type": "code",
   "execution_count": 4,
   "metadata": {},
   "outputs": [
    {
     "data": {
      "text/html": [
       "<div>\n",
       "<style scoped>\n",
       "    .dataframe tbody tr th:only-of-type {\n",
       "        vertical-align: middle;\n",
       "    }\n",
       "\n",
       "    .dataframe tbody tr th {\n",
       "        vertical-align: top;\n",
       "    }\n",
       "\n",
       "    .dataframe thead th {\n",
       "        text-align: right;\n",
       "    }\n",
       "</style>\n",
       "<table border=\"1\" class=\"dataframe\">\n",
       "  <thead>\n",
       "    <tr style=\"text-align: right;\">\n",
       "      <th></th>\n",
       "      <th>en</th>\n",
       "      <th>ru</th>\n",
       "      <th>url</th>\n",
       "      <th>eb</th>\n",
       "    </tr>\n",
       "  </thead>\n",
       "  <tbody>\n",
       "    <tr>\n",
       "      <th>0</th>\n",
       "      <td>there is a freedom blissful in a twilight # fr...</td>\n",
       "      <td>есть в сумерках блаженная свобода # от явных ч...</td>\n",
       "      <td>https://ruverses.com/bella-akhmadulina/twiligh...</td>\n",
       "      <td>0.05</td>\n",
       "    </tr>\n",
       "    <tr>\n",
       "      <th>1</th>\n",
       "      <td>laughing, delighting, and rebelling # in all h...</td>\n",
       "      <td>смеясь, ликуя и бунтуя, # в своей безвыходнои...</td>\n",
       "      <td>https://ruverses.com/bella-akhmadulina/laughin...</td>\n",
       "      <td>0.05</td>\n",
       "    </tr>\n",
       "    <tr>\n",
       "      <th>2</th>\n",
       "      <td>winter, to me your gestures are # cold and car...</td>\n",
       "      <td>о жест зимы ко мне, # холодный и прилежный. ...</td>\n",
       "      <td>https://ruverses.com/bella-akhmadulina/winter/</td>\n",
       "      <td>0.05</td>\n",
       "    </tr>\n",
       "    <tr>\n",
       "      <th>3</th>\n",
       "      <td>along my street, these steady steps resound # ...</td>\n",
       "      <td>по улице моей который год # звучат шаги - мо...</td>\n",
       "      <td>https://ruverses.com/bella-akhmadulina/along-m...</td>\n",
       "      <td>0.05</td>\n",
       "    </tr>\n",
       "    <tr>\n",
       "      <th>4</th>\n",
       "      <td>here're the girls - they wish to love, # here'...</td>\n",
       "      <td>вот девочки - им хочется любви. # вот мальчики...</td>\n",
       "      <td>https://ruverses.com/bella-akhmadulina/april/2...</td>\n",
       "      <td>0.05</td>\n",
       "    </tr>\n",
       "    <tr>\n",
       "      <th>...</th>\n",
       "      <td>...</td>\n",
       "      <td>...</td>\n",
       "      <td>...</td>\n",
       "      <td>...</td>\n",
       "    </tr>\n",
       "    <tr>\n",
       "      <th>8890</th>\n",
       "      <td>wait for me - and i'll return. # only wait for...</td>\n",
       "      <td>жди меня, и я вернусь. # только очень жди, # ж...</td>\n",
       "      <td>no</td>\n",
       "      <td>0.00</td>\n",
       "    </tr>\n",
       "    <tr>\n",
       "      <th>8891</th>\n",
       "      <td>wait for me, and i'll come back. # only wait f...</td>\n",
       "      <td>жди меня, и я вернусь. # только очень жди, # ж...</td>\n",
       "      <td>no</td>\n",
       "      <td>0.00</td>\n",
       "    </tr>\n",
       "    <tr>\n",
       "      <th>8892</th>\n",
       "      <td>not long ago, when i was at a dinner, # i hear...</td>\n",
       "      <td>недавно тост я слышал на пиру, # и вот он здес...</td>\n",
       "      <td>no</td>\n",
       "      <td>0.00</td>\n",
       "    </tr>\n",
       "    <tr>\n",
       "      <th>8893</th>\n",
       "      <td>eyes of gray - the sodden quay, # driving rain...</td>\n",
       "      <td>серые глаза - рассвет, # пароходная сирена, # ...</td>\n",
       "      <td>no</td>\n",
       "      <td>0.00</td>\n",
       "    </tr>\n",
       "    <tr>\n",
       "      <th>8894</th>\n",
       "      <td>the doorkeepers of zion, # they do not always ...</td>\n",
       "      <td>привратники сиона # не вечно на часах # стоят ...</td>\n",
       "      <td>no</td>\n",
       "      <td>0.00</td>\n",
       "    </tr>\n",
       "  </tbody>\n",
       "</table>\n",
       "<p>8895 rows × 4 columns</p>\n",
       "</div>"
      ],
      "text/plain": [
       "                                                     en  \\\n",
       "0     there is a freedom blissful in a twilight # fr...   \n",
       "1     laughing, delighting, and rebelling # in all h...   \n",
       "2     winter, to me your gestures are # cold and car...   \n",
       "3     along my street, these steady steps resound # ...   \n",
       "4     here're the girls - they wish to love, # here'...   \n",
       "...                                                 ...   \n",
       "8890  wait for me - and i'll return. # only wait for...   \n",
       "8891  wait for me, and i'll come back. # only wait f...   \n",
       "8892  not long ago, when i was at a dinner, # i hear...   \n",
       "8893  eyes of gray - the sodden quay, # driving rain...   \n",
       "8894  the doorkeepers of zion, # they do not always ...   \n",
       "\n",
       "                                                     ru  \\\n",
       "0     есть в сумерках блаженная свобода # от явных ч...   \n",
       "1     смеясь, ликуя и бунтуя, # в своей безвыходнои...   \n",
       "2     о жест зимы ко мне, # холодный и прилежный. ...   \n",
       "3     по улице моей который год # звучат шаги - мо...   \n",
       "4     вот девочки - им хочется любви. # вот мальчики...   \n",
       "...                                                 ...   \n",
       "8890  жди меня, и я вернусь. # только очень жди, # ж...   \n",
       "8891  жди меня, и я вернусь. # только очень жди, # ж...   \n",
       "8892  недавно тост я слышал на пиру, # и вот он здес...   \n",
       "8893  серые глаза - рассвет, # пароходная сирена, # ...   \n",
       "8894  привратники сиона # не вечно на часах # стоят ...   \n",
       "\n",
       "                                                    url    eb  \n",
       "0     https://ruverses.com/bella-akhmadulina/twiligh...  0.05  \n",
       "1     https://ruverses.com/bella-akhmadulina/laughin...  0.05  \n",
       "2        https://ruverses.com/bella-akhmadulina/winter/  0.05  \n",
       "3     https://ruverses.com/bella-akhmadulina/along-m...  0.05  \n",
       "4     https://ruverses.com/bella-akhmadulina/april/2...  0.05  \n",
       "...                                                 ...   ...  \n",
       "8890                                                 no  0.00  \n",
       "8891                                                 no  0.00  \n",
       "8892                                                 no  0.00  \n",
       "8893                                                 no  0.00  \n",
       "8894                                                 no  0.00  \n",
       "\n",
       "[8895 rows x 4 columns]"
      ]
     },
     "execution_count": 4,
     "metadata": {},
     "output_type": "execute_result"
    }
   ],
   "source": [
    "df"
   ]
  },
  {
   "cell_type": "code",
   "execution_count": 24,
   "metadata": {},
   "outputs": [
    {
     "data": {
      "text/html": [
       "<div>\n",
       "<style scoped>\n",
       "    .dataframe tbody tr th:only-of-type {\n",
       "        vertical-align: middle;\n",
       "    }\n",
       "\n",
       "    .dataframe tbody tr th {\n",
       "        vertical-align: top;\n",
       "    }\n",
       "\n",
       "    .dataframe thead th {\n",
       "        text-align: right;\n",
       "    }\n",
       "</style>\n",
       "<table border=\"1\" class=\"dataframe\">\n",
       "  <thead>\n",
       "    <tr style=\"text-align: right;\">\n",
       "      <th></th>\n",
       "      <th>en</th>\n",
       "      <th>ru</th>\n",
       "      <th>url</th>\n",
       "      <th>eb</th>\n",
       "    </tr>\n",
       "  </thead>\n",
       "  <tbody>\n",
       "    <tr>\n",
       "      <td>0</td>\n",
       "      <td>there is a freedom blissful in a twilight # fr...</td>\n",
       "      <td>есть в сумерках блаженная свобода # от явных ч...</td>\n",
       "      <td>https://ruverses.com/bella-akhmadulina/twiligh...</td>\n",
       "      <td>0.05</td>\n",
       "    </tr>\n",
       "    <tr>\n",
       "      <td>1</td>\n",
       "      <td>laughing, delighting, and rebelling # in all h...</td>\n",
       "      <td>смеясь, ликуя и бунтуя, # в своей безвыходнои...</td>\n",
       "      <td>https://ruverses.com/bella-akhmadulina/laughin...</td>\n",
       "      <td>0.05</td>\n",
       "    </tr>\n",
       "    <tr>\n",
       "      <td>2</td>\n",
       "      <td>winter, to me your gestures are # cold and car...</td>\n",
       "      <td>о жест зимы ко мне, # холодный и прилежный. ...</td>\n",
       "      <td>https://ruverses.com/bella-akhmadulina/winter/</td>\n",
       "      <td>0.05</td>\n",
       "    </tr>\n",
       "    <tr>\n",
       "      <td>3</td>\n",
       "      <td>along my street, these steady steps resound # ...</td>\n",
       "      <td>по улице моей который год # звучат шаги - мо...</td>\n",
       "      <td>https://ruverses.com/bella-akhmadulina/along-m...</td>\n",
       "      <td>0.05</td>\n",
       "    </tr>\n",
       "    <tr>\n",
       "      <td>4</td>\n",
       "      <td>here're the girls - they wish to love, # here'...</td>\n",
       "      <td>вот девочки - им хочется любви. # вот мальчики...</td>\n",
       "      <td>https://ruverses.com/bella-akhmadulina/april/2...</td>\n",
       "      <td>0.05</td>\n",
       "    </tr>\n",
       "  </tbody>\n",
       "</table>\n",
       "</div>"
      ],
      "text/plain": [
       "                                                  en  \\\n",
       "0  there is a freedom blissful in a twilight # fr...   \n",
       "1  laughing, delighting, and rebelling # in all h...   \n",
       "2  winter, to me your gestures are # cold and car...   \n",
       "3  along my street, these steady steps resound # ...   \n",
       "4  here're the girls - they wish to love, # here'...   \n",
       "\n",
       "                                                  ru  \\\n",
       "0  есть в сумерках блаженная свобода # от явных ч...   \n",
       "1  смеясь, ликуя и бунтуя, # в своей безвыходнои...   \n",
       "2  о жест зимы ко мне, # холодный и прилежный. ...   \n",
       "3  по улице моей который год # звучат шаги - мо...   \n",
       "4  вот девочки - им хочется любви. # вот мальчики...   \n",
       "\n",
       "                                                 url    eb  \n",
       "0  https://ruverses.com/bella-akhmadulina/twiligh...  0.05  \n",
       "1  https://ruverses.com/bella-akhmadulina/laughin...  0.05  \n",
       "2     https://ruverses.com/bella-akhmadulina/winter/  0.05  \n",
       "3  https://ruverses.com/bella-akhmadulina/along-m...  0.05  \n",
       "4  https://ruverses.com/bella-akhmadulina/april/2...  0.05  "
      ]
     },
     "execution_count": 24,
     "metadata": {},
     "output_type": "execute_result"
    }
   ],
   "source": [
    "df = df.reset_index(drop=True)\n",
    "df.head()"
   ]
  },
  {
   "cell_type": "code",
   "execution_count": 25,
   "metadata": {},
   "outputs": [
    {
     "name": "stdout",
     "output_type": "stream",
     "text": [
      "/Users/michaelsolonin/Desktop/Neural_Poetry/scrapers\r\n"
     ]
    }
   ],
   "source": [
    "!pwd"
   ]
  },
  {
   "cell_type": "code",
   "execution_count": 12,
   "metadata": {},
   "outputs": [
    {
     "ename": "ModuleNotFoundError",
     "evalue": "No module named 'rupo'",
     "output_type": "error",
     "traceback": [
      "\u001b[0;31m---------------------------------------------------------------------------\u001b[0m",
      "\u001b[0;31mModuleNotFoundError\u001b[0m                       Traceback (most recent call last)",
      "\u001b[0;32m<ipython-input-12-67b712dcae66>\u001b[0m in \u001b[0;36m<module>\u001b[0;34m\u001b[0m\n\u001b[0;32m----> 1\u001b[0;31m \u001b[0;32mfrom\u001b[0m \u001b[0mrupo\u001b[0m\u001b[0;34m.\u001b[0m\u001b[0mapi\u001b[0m \u001b[0;32mimport\u001b[0m \u001b[0mEngine\u001b[0m\u001b[0;34m\u001b[0m\u001b[0;34m\u001b[0m\u001b[0m\n\u001b[0m\u001b[1;32m      2\u001b[0m \u001b[0mengine\u001b[0m \u001b[0;34m=\u001b[0m \u001b[0mEngine\u001b[0m\u001b[0;34m(\u001b[0m\u001b[0mlanguage\u001b[0m\u001b[0;34m=\u001b[0m\u001b[0;34m\"ru\"\u001b[0m\u001b[0;34m)\u001b[0m\u001b[0;34m\u001b[0m\u001b[0;34m\u001b[0m\u001b[0m\n\u001b[1;32m      3\u001b[0m \u001b[0mengine\u001b[0m\u001b[0;34m.\u001b[0m\u001b[0mload\u001b[0m\u001b[0;34m(\u001b[0m\u001b[0;34m\"../rupo/rupo/data/stress_models/\"\u001b[0m\u001b[0;34m,\u001b[0m \u001b[0;34m\"../rupo/rupo/data/dict/\"\u001b[0m\u001b[0;34m)\u001b[0m\u001b[0;34m\u001b[0m\u001b[0;34m\u001b[0m\u001b[0m\n\u001b[1;32m      4\u001b[0m \u001b[0mengine\u001b[0m\u001b[0;34m.\u001b[0m\u001b[0mget_stresses\u001b[0m\u001b[0;34m(\u001b[0m\u001b[0;34m\"корова\"\u001b[0m\u001b[0;34m)\u001b[0m\u001b[0;34m\u001b[0m\u001b[0;34m\u001b[0m\u001b[0m\n",
      "\u001b[0;31mModuleNotFoundError\u001b[0m: No module named 'rupo'"
     ]
    }
   ],
   "source": [
    "from rupo.api import Engine\n",
    "engine = Engine(language=\"ru\")\n",
    "engine.load(\"../rupo/rupo/data/stress_models/\", \"../rupo/rupo/data/dict/\")\n",
    "engine.get_stresses(\"корова\")"
   ]
  },
  {
   "cell_type": "code",
   "execution_count": null,
   "metadata": {},
   "outputs": [],
   "source": []
  },
  {
   "cell_type": "code",
   "execution_count": 406,
   "metadata": {},
   "outputs": [],
   "source": [
    "import torch\n",
    "import torch.nn as nn\n",
    "import torch.optim as optim\n",
    "import pytorch_transformers as pt\n",
    "from pytorch_transformers.convert_tf_checkpoint_to_pytorch import convert_tf_checkpoint_to_pytorch"
   ]
  },
  {
   "cell_type": "code",
   "execution_count": 407,
   "metadata": {},
   "outputs": [
    {
     "name": "stderr",
     "output_type": "stream",
     "text": [
      "INFO:pytorch_transformers.modeling_utils:loading configuration file https://s3.amazonaws.com/models.huggingface.co/bert/bert-base-multilingual-cased-config.json from cache at /Users/michaelsolonin/.cache/torch/pytorch_transformers/45629519f3117b89d89fd9c740073d8e4c1f0a70f9842476185100a8afe715d1.65df3cef028a0c91a7b059e4c404a975ebe6843c71267b67019c0e9cfa8a88f0\n",
      "INFO:pytorch_transformers.modeling_utils:Model config {\n",
      "  \"architectures\": [\n",
      "    \"BertForMaskedLM\"\n",
      "  ],\n",
      "  \"attention_probs_dropout_prob\": 0.1,\n",
      "  \"directionality\": \"bidi\",\n",
      "  \"finetuning_task\": null,\n",
      "  \"hidden_act\": \"gelu\",\n",
      "  \"hidden_dropout_prob\": 0.1,\n",
      "  \"hidden_size\": 768,\n",
      "  \"initializer_range\": 0.02,\n",
      "  \"intermediate_size\": 3072,\n",
      "  \"layer_norm_eps\": 1e-12,\n",
      "  \"max_position_embeddings\": 512,\n",
      "  \"model_type\": \"bert\",\n",
      "  \"num_attention_heads\": 12,\n",
      "  \"num_hidden_layers\": 12,\n",
      "  \"num_labels\": 2,\n",
      "  \"output_attentions\": false,\n",
      "  \"output_hidden_states\": false,\n",
      "  \"pad_token_id\": 0,\n",
      "  \"pooler_fc_size\": 768,\n",
      "  \"pooler_num_attention_heads\": 12,\n",
      "  \"pooler_num_fc_layers\": 3,\n",
      "  \"pooler_size_per_head\": 128,\n",
      "  \"pooler_type\": \"first_token_transform\",\n",
      "  \"torchscript\": false,\n",
      "  \"type_vocab_size\": 2,\n",
      "  \"vocab_size\": 119547\n",
      "}\n",
      "\n",
      "INFO:pytorch_transformers.modeling_utils:loading weights file https://s3.amazonaws.com/models.huggingface.co/bert/bert-base-multilingual-cased-pytorch_model.bin from cache at /Users/michaelsolonin/.cache/torch/pytorch_transformers/5b5b80054cd2c95a946a8e0ce0b93f56326dff9fbda6a6c3e02de3c91c918342.7131dcb754361639a7d5526985f880879c9bfd144b65a0bf50590bddb7de9059\n",
      "WARNING:pytorch_transformers.tokenization_bert:The pre-trained model you are loading is a cased model but you have not set `do_lower_case` to False. We are setting `do_lower_case=False` for you but you may want to check this behavior.\n",
      "INFO:pytorch_transformers.tokenization_utils:loading file https://s3.amazonaws.com/models.huggingface.co/bert/bert-base-multilingual-cased-vocab.txt from cache at /Users/michaelsolonin/.cache/torch/pytorch_transformers/96435fa287fbf7e469185f1062386e05a075cadbf6838b74da22bf64b080bc32.99bcd55fc66f4f3360bc49ba472b940b8dcf223ea6a345deb969d607ca900729\n"
     ]
    }
   ],
   "source": [
    "model_name = 'bert-base-multilingual-cased'\n",
    "eng_bert = pt.BertModel.from_pretrained(model_name).eval()\n",
    "eng_tokenizer = pt.BertTokenizer.from_pretrained(model_name)"
   ]
  },
  {
   "cell_type": "code",
   "execution_count": 408,
   "metadata": {},
   "outputs": [
    {
     "data": {
      "text/plain": [
       "True"
      ]
     },
     "execution_count": 408,
     "metadata": {},
     "output_type": "execute_result"
    }
   ],
   "source": [
    "\"неё\" in eng_tokenizer.vocab.keys()"
   ]
  },
  {
   "cell_type": "code",
   "execution_count": 409,
   "metadata": {},
   "outputs": [
    {
     "data": {
      "text/plain": [
       "['as', '##d', 'as', '##d', '##k', 'o', '##o', 'os', '##d', 'pla', '##sd']"
      ]
     },
     "execution_count": 409,
     "metadata": {},
     "output_type": "execute_result"
    }
   ],
   "source": [
    "eng_tokenizer.tokenize(\"asd asdk oo osd plasd \")"
   ]
  },
  {
   "cell_type": "code",
   "execution_count": 410,
   "metadata": {},
   "outputs": [],
   "source": [
    "lst = []\n",
    "for idx, (en, ru, url, eb) in df.iterrows():\n",
    "    tok_en = \" \".join(eng_tokenizer.tokenize(en))\n",
    "    tok_ru = \" \".join(eng_tokenizer.tokenize(ru))\n",
    "    lst.append([tok_en, tok_ru, url, eb])"
   ]
  },
  {
   "cell_type": "code",
   "execution_count": 411,
   "metadata": {},
   "outputs": [],
   "source": [
    "tok_df = pd.DataFrame(lst, columns=df.columns)"
   ]
  },
  {
   "cell_type": "code",
   "execution_count": 415,
   "metadata": {},
   "outputs": [],
   "source": [
    "tok_df.to_csv(\"tokenized_data.csv\", index=False)"
   ]
  },
  {
   "cell_type": "code",
   "execution_count": null,
   "metadata": {},
   "outputs": [],
   "source": []
  },
  {
   "cell_type": "code",
   "execution_count": null,
   "metadata": {},
   "outputs": [],
   "source": []
  },
  {
   "cell_type": "code",
   "execution_count": 413,
   "metadata": {},
   "outputs": [
    {
     "data": {
      "text/html": [
       "<div>\n",
       "<style scoped>\n",
       "    .dataframe tbody tr th:only-of-type {\n",
       "        vertical-align: middle;\n",
       "    }\n",
       "\n",
       "    .dataframe tbody tr th {\n",
       "        vertical-align: top;\n",
       "    }\n",
       "\n",
       "    .dataframe thead th {\n",
       "        text-align: right;\n",
       "    }\n",
       "</style>\n",
       "<table border=\"1\" class=\"dataframe\">\n",
       "  <thead>\n",
       "    <tr style=\"text-align: right;\">\n",
       "      <th></th>\n",
       "      <th>en</th>\n",
       "      <th>ru</th>\n",
       "      <th>url</th>\n",
       "      <th>eb</th>\n",
       "    </tr>\n",
       "  </thead>\n",
       "  <tbody>\n",
       "    <tr>\n",
       "      <th>0</th>\n",
       "      <td>there is a freedom bli ##ss ##ful in a t ##wil...</td>\n",
       "      <td>есть в сум ##ер ##ках б ##ла ##жен ##ная св ##...</td>\n",
       "      <td>https://ruverses.com/bella-akhmadulina/twiligh...</td>\n",
       "      <td>0.05</td>\n",
       "    </tr>\n",
       "    <tr>\n",
       "      <th>18</th>\n",
       "      <td>they have set a ch ##rist ##mas tree up in a h...</td>\n",
       "      <td>в кор ##ид ##оре бол ##ь ##ни ##чном поста ##в...</td>\n",
       "      <td>https://ruverses.com/bella-akhmadulina/the-hos...</td>\n",
       "      <td>0.05</td>\n",
       "    </tr>\n",
       "    <tr>\n",
       "      <th>60</th>\n",
       "      <td>1 # o ##h , fire who pur ##get ##h us # in fat...</td>\n",
       "      <td>1 . # огонь [UNK] , # огонь [UNK] , # [UNK] , ...</td>\n",
       "      <td>https://ruverses.com/konstantin-balmont/hymn-t...</td>\n",
       "      <td>0.05</td>\n",
       "    </tr>\n",
       "    <tr>\n",
       "      <th>78</th>\n",
       "      <td>from drop ##lets of de ##w that aqui ##ver are...</td>\n",
       "      <td>от ка ##п ##ли рос ##ы , что т ##ре ##пе ##ще ...</td>\n",
       "      <td>https://ruverses.com/konstantin-balmont/water/</td>\n",
       "      <td>0.05</td>\n",
       "    </tr>\n",
       "    <tr>\n",
       "      <th>87</th>\n",
       "      <td>he life ##less fell . and by my hand # a sa ##...</td>\n",
       "      <td>он м ##ерт ##вым па ##л . [UNK] [UNK] # води #...</td>\n",
       "      <td>https://ruverses.com/eduard-bagritsky/the-ball...</td>\n",
       "      <td>0.05</td>\n",
       "    </tr>\n",
       "    <tr>\n",
       "      <th>...</th>\n",
       "      <td>...</td>\n",
       "      <td>...</td>\n",
       "      <td>...</td>\n",
       "      <td>...</td>\n",
       "    </tr>\n",
       "    <tr>\n",
       "      <th>8850</th>\n",
       "      <td>once upon a mid ##night dre ##ary , while i po...</td>\n",
       "      <td>как - то в пол ##но ##чь , в час [UNK] , [UNK]...</td>\n",
       "      <td>no</td>\n",
       "      <td>0.00</td>\n",
       "    </tr>\n",
       "    <tr>\n",
       "      <th>8851</th>\n",
       "      <td>once upon a mid ##night dre ##ary , while i po...</td>\n",
       "      <td>как - то в пол ##но ##чь , в час [UNK] , я в #...</td>\n",
       "      <td>no</td>\n",
       "      <td>0.00</td>\n",
       "    </tr>\n",
       "    <tr>\n",
       "      <th>8870</th>\n",
       "      <td>i had a dream , which was not all a dream . # ...</td>\n",
       "      <td>я виде ##л со ##н . . . не все в нем было с ##...</td>\n",
       "      <td>no</td>\n",
       "      <td>0.00</td>\n",
       "    </tr>\n",
       "    <tr>\n",
       "      <th>8871</th>\n",
       "      <td>i had a dream , which was not all a dream . # ...</td>\n",
       "      <td>я виде ##л со ##н , [UNK] не сов ##сем был со ...</td>\n",
       "      <td>no</td>\n",
       "      <td>0.00</td>\n",
       "    </tr>\n",
       "    <tr>\n",
       "      <th>8887</th>\n",
       "      <td>i must info ##rm you , ' ti ##s my sad lot , #...</td>\n",
       "      <td>я ва ##с об ##язан из ##вести ##ть , # что не ...</td>\n",
       "      <td>no</td>\n",
       "      <td>0.00</td>\n",
       "    </tr>\n",
       "  </tbody>\n",
       "</table>\n",
       "<p>1011 rows × 4 columns</p>\n",
       "</div>"
      ],
      "text/plain": [
       "                                                     en  \\\n",
       "0     there is a freedom bli ##ss ##ful in a t ##wil...   \n",
       "18    they have set a ch ##rist ##mas tree up in a h...   \n",
       "60    1 # o ##h , fire who pur ##get ##h us # in fat...   \n",
       "78    from drop ##lets of de ##w that aqui ##ver are...   \n",
       "87    he life ##less fell . and by my hand # a sa ##...   \n",
       "...                                                 ...   \n",
       "8850  once upon a mid ##night dre ##ary , while i po...   \n",
       "8851  once upon a mid ##night dre ##ary , while i po...   \n",
       "8870  i had a dream , which was not all a dream . # ...   \n",
       "8871  i had a dream , which was not all a dream . # ...   \n",
       "8887  i must info ##rm you , ' ti ##s my sad lot , #...   \n",
       "\n",
       "                                                     ru  \\\n",
       "0     есть в сум ##ер ##ках б ##ла ##жен ##ная св ##...   \n",
       "18    в кор ##ид ##оре бол ##ь ##ни ##чном поста ##в...   \n",
       "60    1 . # огонь [UNK] , # огонь [UNK] , # [UNK] , ...   \n",
       "78    от ка ##п ##ли рос ##ы , что т ##ре ##пе ##ще ...   \n",
       "87    он м ##ерт ##вым па ##л . [UNK] [UNK] # води #...   \n",
       "...                                                 ...   \n",
       "8850  как - то в пол ##но ##чь , в час [UNK] , [UNK]...   \n",
       "8851  как - то в пол ##но ##чь , в час [UNK] , я в #...   \n",
       "8870  я виде ##л со ##н . . . не все в нем было с ##...   \n",
       "8871  я виде ##л со ##н , [UNK] не сов ##сем был со ...   \n",
       "8887  я ва ##с об ##язан из ##вести ##ть , # что не ...   \n",
       "\n",
       "                                                    url    eb  \n",
       "0     https://ruverses.com/bella-akhmadulina/twiligh...  0.05  \n",
       "18    https://ruverses.com/bella-akhmadulina/the-hos...  0.05  \n",
       "60    https://ruverses.com/konstantin-balmont/hymn-t...  0.05  \n",
       "78       https://ruverses.com/konstantin-balmont/water/  0.05  \n",
       "87    https://ruverses.com/eduard-bagritsky/the-ball...  0.05  \n",
       "...                                                 ...   ...  \n",
       "8850                                                 no  0.00  \n",
       "8851                                                 no  0.00  \n",
       "8870                                                 no  0.00  \n",
       "8871                                                 no  0.00  \n",
       "8887                                                 no  0.00  \n",
       "\n",
       "[1011 rows x 4 columns]"
      ]
     },
     "execution_count": 413,
     "metadata": {},
     "output_type": "execute_result"
    }
   ],
   "source": [
    "tok_df[tok_df.en.str.split(\" \").str.len() > 510]"
   ]
  },
  {
   "cell_type": "code",
   "execution_count": 414,
   "metadata": {},
   "outputs": [
    {
     "data": {
      "text/html": [
       "<div>\n",
       "<style scoped>\n",
       "    .dataframe tbody tr th:only-of-type {\n",
       "        vertical-align: middle;\n",
       "    }\n",
       "\n",
       "    .dataframe tbody tr th {\n",
       "        vertical-align: top;\n",
       "    }\n",
       "\n",
       "    .dataframe thead th {\n",
       "        text-align: right;\n",
       "    }\n",
       "</style>\n",
       "<table border=\"1\" class=\"dataframe\">\n",
       "  <thead>\n",
       "    <tr style=\"text-align: right;\">\n",
       "      <th></th>\n",
       "      <th>en</th>\n",
       "      <th>ru</th>\n",
       "      <th>url</th>\n",
       "      <th>eb</th>\n",
       "    </tr>\n",
       "  </thead>\n",
       "  <tbody>\n",
       "    <tr>\n",
       "      <th>0</th>\n",
       "      <td>there is a freedom bli ##ss ##ful in a t ##wil...</td>\n",
       "      <td>есть в сум ##ер ##ках б ##ла ##жен ##ная св ##...</td>\n",
       "      <td>https://ruverses.com/bella-akhmadulina/twiligh...</td>\n",
       "      <td>0.05</td>\n",
       "    </tr>\n",
       "    <tr>\n",
       "      <th>11</th>\n",
       "      <td>now on three sides the dark ##ness grows deep ...</td>\n",
       "      <td>уже р ##ас ##с ##вет тем ##нее ##т с [UNK] сто...</td>\n",
       "      <td>https://ruverses.com/bella-akhmadulina/night/</td>\n",
       "      <td>0.05</td>\n",
       "    </tr>\n",
       "    <tr>\n",
       "      <th>18</th>\n",
       "      <td>they have set a ch ##rist ##mas tree up in a h...</td>\n",
       "      <td>в кор ##ид ##оре бол ##ь ##ни ##чном поста ##в...</td>\n",
       "      <td>https://ruverses.com/bella-akhmadulina/the-hos...</td>\n",
       "      <td>0.05</td>\n",
       "    </tr>\n",
       "    <tr>\n",
       "      <th>60</th>\n",
       "      <td>1 # o ##h , fire who pur ##get ##h us # in fat...</td>\n",
       "      <td>1 . # огонь [UNK] , # огонь [UNK] , # [UNK] , ...</td>\n",
       "      <td>https://ruverses.com/konstantin-balmont/hymn-t...</td>\n",
       "      <td>0.05</td>\n",
       "    </tr>\n",
       "    <tr>\n",
       "      <th>87</th>\n",
       "      <td>he life ##less fell . and by my hand # a sa ##...</td>\n",
       "      <td>он м ##ерт ##вым па ##л . [UNK] [UNK] # води #...</td>\n",
       "      <td>https://ruverses.com/eduard-bagritsky/the-ball...</td>\n",
       "      <td>0.05</td>\n",
       "    </tr>\n",
       "    <tr>\n",
       "      <th>...</th>\n",
       "      <td>...</td>\n",
       "      <td>...</td>\n",
       "      <td>...</td>\n",
       "      <td>...</td>\n",
       "    </tr>\n",
       "    <tr>\n",
       "      <th>8851</th>\n",
       "      <td>once upon a mid ##night dre ##ary , while i po...</td>\n",
       "      <td>как - то в пол ##но ##чь , в час [UNK] , я в #...</td>\n",
       "      <td>no</td>\n",
       "      <td>0.00</td>\n",
       "    </tr>\n",
       "    <tr>\n",
       "      <th>8868</th>\n",
       "      <td>sweet is the voice that calls # from ba ##bb #...</td>\n",
       "      <td>при ##ят ##ны мне , др ##уз ##ья , # л ##у ##ж...</td>\n",
       "      <td>no</td>\n",
       "      <td>0.00</td>\n",
       "    </tr>\n",
       "    <tr>\n",
       "      <th>8870</th>\n",
       "      <td>i had a dream , which was not all a dream . # ...</td>\n",
       "      <td>я виде ##л со ##н . . . не все в нем было с ##...</td>\n",
       "      <td>no</td>\n",
       "      <td>0.00</td>\n",
       "    </tr>\n",
       "    <tr>\n",
       "      <th>8871</th>\n",
       "      <td>i had a dream , which was not all a dream . # ...</td>\n",
       "      <td>я виде ##л со ##н , [UNK] не сов ##сем был со ...</td>\n",
       "      <td>no</td>\n",
       "      <td>0.00</td>\n",
       "    </tr>\n",
       "    <tr>\n",
       "      <th>8887</th>\n",
       "      <td>i must info ##rm you , ' ti ##s my sad lot , #...</td>\n",
       "      <td>я ва ##с об ##язан из ##вести ##ть , # что не ...</td>\n",
       "      <td>no</td>\n",
       "      <td>0.00</td>\n",
       "    </tr>\n",
       "  </tbody>\n",
       "</table>\n",
       "<p>1011 rows × 4 columns</p>\n",
       "</div>"
      ],
      "text/plain": [
       "                                                     en  \\\n",
       "0     there is a freedom bli ##ss ##ful in a t ##wil...   \n",
       "11    now on three sides the dark ##ness grows deep ...   \n",
       "18    they have set a ch ##rist ##mas tree up in a h...   \n",
       "60    1 # o ##h , fire who pur ##get ##h us # in fat...   \n",
       "87    he life ##less fell . and by my hand # a sa ##...   \n",
       "...                                                 ...   \n",
       "8851  once upon a mid ##night dre ##ary , while i po...   \n",
       "8868  sweet is the voice that calls # from ba ##bb #...   \n",
       "8870  i had a dream , which was not all a dream . # ...   \n",
       "8871  i had a dream , which was not all a dream . # ...   \n",
       "8887  i must info ##rm you , ' ti ##s my sad lot , #...   \n",
       "\n",
       "                                                     ru  \\\n",
       "0     есть в сум ##ер ##ках б ##ла ##жен ##ная св ##...   \n",
       "11    уже р ##ас ##с ##вет тем ##нее ##т с [UNK] сто...   \n",
       "18    в кор ##ид ##оре бол ##ь ##ни ##чном поста ##в...   \n",
       "60    1 . # огонь [UNK] , # огонь [UNK] , # [UNK] , ...   \n",
       "87    он м ##ерт ##вым па ##л . [UNK] [UNK] # води #...   \n",
       "...                                                 ...   \n",
       "8851  как - то в пол ##но ##чь , в час [UNK] , я в #...   \n",
       "8868  при ##ят ##ны мне , др ##уз ##ья , # л ##у ##ж...   \n",
       "8870  я виде ##л со ##н . . . не все в нем было с ##...   \n",
       "8871  я виде ##л со ##н , [UNK] не сов ##сем был со ...   \n",
       "8887  я ва ##с об ##язан из ##вести ##ть , # что не ...   \n",
       "\n",
       "                                                    url    eb  \n",
       "0     https://ruverses.com/bella-akhmadulina/twiligh...  0.05  \n",
       "11        https://ruverses.com/bella-akhmadulina/night/  0.05  \n",
       "18    https://ruverses.com/bella-akhmadulina/the-hos...  0.05  \n",
       "60    https://ruverses.com/konstantin-balmont/hymn-t...  0.05  \n",
       "87    https://ruverses.com/eduard-bagritsky/the-ball...  0.05  \n",
       "...                                                 ...   ...  \n",
       "8851                                                 no  0.00  \n",
       "8868                                                 no  0.00  \n",
       "8870                                                 no  0.00  \n",
       "8871                                                 no  0.00  \n",
       "8887                                                 no  0.00  \n",
       "\n",
       "[1011 rows x 4 columns]"
      ]
     },
     "execution_count": 414,
     "metadata": {},
     "output_type": "execute_result"
    }
   ],
   "source": [
    "tok_df[tok_df.ru.str.split(\" \").str.len() > 510]"
   ]
  },
  {
   "cell_type": "code",
   "execution_count": null,
   "metadata": {},
   "outputs": [],
   "source": []
  },
  {
   "cell_type": "code",
   "execution_count": null,
   "metadata": {},
   "outputs": [],
   "source": []
  },
  {
   "cell_type": "code",
   "execution_count": null,
   "metadata": {},
   "outputs": [],
   "source": []
  },
  {
   "cell_type": "code",
   "execution_count": 372,
   "metadata": {
    "scrolled": true
   },
   "outputs": [
    {
     "data": {
      "text/html": [
       "<div>\n",
       "<style scoped>\n",
       "    .dataframe tbody tr th:only-of-type {\n",
       "        vertical-align: middle;\n",
       "    }\n",
       "\n",
       "    .dataframe tbody tr th {\n",
       "        vertical-align: top;\n",
       "    }\n",
       "\n",
       "    .dataframe thead th {\n",
       "        text-align: right;\n",
       "    }\n",
       "</style>\n",
       "<table border=\"1\" class=\"dataframe\">\n",
       "  <thead>\n",
       "    <tr style=\"text-align: right;\">\n",
       "      <th></th>\n",
       "      <th>en</th>\n",
       "      <th>ru</th>\n",
       "      <th>url</th>\n",
       "      <th>eb</th>\n",
       "    </tr>\n",
       "  </thead>\n",
       "  <tbody>\n",
       "    <tr>\n",
       "      <th>0</th>\n",
       "      <td>there is a freedom blissful in a twilight # fr...</td>\n",
       "      <td>есть в сумерках блаженная свобода # от явных ч...</td>\n",
       "      <td>https://ruverses.com/bella-akhmadulina/twiligh...</td>\n",
       "      <td>0.05</td>\n",
       "    </tr>\n",
       "    <tr>\n",
       "      <th>1</th>\n",
       "      <td>laughing, delighting, and rebelling # in all h...</td>\n",
       "      <td>смеясь, ликуя и бунтуя, # в своей безвыходнои...</td>\n",
       "      <td>https://ruverses.com/bella-akhmadulina/laughin...</td>\n",
       "      <td>0.05</td>\n",
       "    </tr>\n",
       "    <tr>\n",
       "      <th>2</th>\n",
       "      <td>winter, to me your gestures are # cold and car...</td>\n",
       "      <td>о жест зимы ко мне, # холодный и прилежный. ...</td>\n",
       "      <td>https://ruverses.com/bella-akhmadulina/winter/</td>\n",
       "      <td>0.05</td>\n",
       "    </tr>\n",
       "    <tr>\n",
       "      <th>3</th>\n",
       "      <td>along my street, these steady steps resound # ...</td>\n",
       "      <td>по улице моей который год # звучат шаги - мо...</td>\n",
       "      <td>https://ruverses.com/bella-akhmadulina/along-m...</td>\n",
       "      <td>0.05</td>\n",
       "    </tr>\n",
       "    <tr>\n",
       "      <th>4</th>\n",
       "      <td>here're the girls - they wish to love, # here'...</td>\n",
       "      <td>вот девочки - им хочется любви. # вот мальчики...</td>\n",
       "      <td>https://ruverses.com/bella-akhmadulina/april/2...</td>\n",
       "      <td>0.05</td>\n",
       "    </tr>\n",
       "    <tr>\n",
       "      <th>...</th>\n",
       "      <td>...</td>\n",
       "      <td>...</td>\n",
       "      <td>...</td>\n",
       "      <td>...</td>\n",
       "    </tr>\n",
       "    <tr>\n",
       "      <th>8885</th>\n",
       "      <td>if you can keep your head when all about you #...</td>\n",
       "      <td>о, если ты спокоен, не растерян, # когда теряю...</td>\n",
       "      <td>no</td>\n",
       "      <td>0.00</td>\n",
       "    </tr>\n",
       "    <tr>\n",
       "      <th>8886</th>\n",
       "      <td>if you can keep your head when all about you #...</td>\n",
       "      <td>когда ты твёрд, а весь народ растерян # и вал...</td>\n",
       "      <td>no</td>\n",
       "      <td>0.00</td>\n",
       "    </tr>\n",
       "    <tr>\n",
       "      <th>8888</th>\n",
       "      <td>wait for me, and i'll be back, # should you wa...</td>\n",
       "      <td>жди меня, и я вернусь. # только очень жди, # ж...</td>\n",
       "      <td>no</td>\n",
       "      <td>0.00</td>\n",
       "    </tr>\n",
       "    <tr>\n",
       "      <th>8889</th>\n",
       "      <td>wait for me, and i'll return, # never to depar...</td>\n",
       "      <td>жди меня, и я вернусь. # только очень жди, # ж...</td>\n",
       "      <td>no</td>\n",
       "      <td>0.00</td>\n",
       "    </tr>\n",
       "    <tr>\n",
       "      <th>8890</th>\n",
       "      <td>wait for me - and i'll return. # only wait for...</td>\n",
       "      <td>жди меня, и я вернусь. # только очень жди, # ж...</td>\n",
       "      <td>no</td>\n",
       "      <td>0.00</td>\n",
       "    </tr>\n",
       "  </tbody>\n",
       "</table>\n",
       "<p>7149 rows × 4 columns</p>\n",
       "</div>"
      ],
      "text/plain": [
       "                                                     en  \\\n",
       "0     there is a freedom blissful in a twilight # fr...   \n",
       "1     laughing, delighting, and rebelling # in all h...   \n",
       "2     winter, to me your gestures are # cold and car...   \n",
       "3     along my street, these steady steps resound # ...   \n",
       "4     here're the girls - they wish to love, # here'...   \n",
       "...                                                 ...   \n",
       "8885  if you can keep your head when all about you #...   \n",
       "8886  if you can keep your head when all about you #...   \n",
       "8888  wait for me, and i'll be back, # should you wa...   \n",
       "8889  wait for me, and i'll return, # never to depar...   \n",
       "8890  wait for me - and i'll return. # only wait for...   \n",
       "\n",
       "                                                     ru  \\\n",
       "0     есть в сумерках блаженная свобода # от явных ч...   \n",
       "1     смеясь, ликуя и бунтуя, # в своей безвыходнои...   \n",
       "2     о жест зимы ко мне, # холодный и прилежный. ...   \n",
       "3     по улице моей который год # звучат шаги - мо...   \n",
       "4     вот девочки - им хочется любви. # вот мальчики...   \n",
       "...                                                 ...   \n",
       "8885  о, если ты спокоен, не растерян, # когда теряю...   \n",
       "8886  когда ты твёрд, а весь народ растерян # и вал...   \n",
       "8888  жди меня, и я вернусь. # только очень жди, # ж...   \n",
       "8889  жди меня, и я вернусь. # только очень жди, # ж...   \n",
       "8890  жди меня, и я вернусь. # только очень жди, # ж...   \n",
       "\n",
       "                                                    url    eb  \n",
       "0     https://ruverses.com/bella-akhmadulina/twiligh...  0.05  \n",
       "1     https://ruverses.com/bella-akhmadulina/laughin...  0.05  \n",
       "2        https://ruverses.com/bella-akhmadulina/winter/  0.05  \n",
       "3     https://ruverses.com/bella-akhmadulina/along-m...  0.05  \n",
       "4     https://ruverses.com/bella-akhmadulina/april/2...  0.05  \n",
       "...                                                 ...   ...  \n",
       "8885                                                 no  0.00  \n",
       "8886                                                 no  0.00  \n",
       "8888                                                 no  0.00  \n",
       "8889                                                 no  0.00  \n",
       "8890                                                 no  0.00  \n",
       "\n",
       "[7149 rows x 4 columns]"
      ]
     },
     "execution_count": 372,
     "metadata": {},
     "output_type": "execute_result"
    }
   ],
   "source": [
    "df[df.ru.str.split(\"#\").str.len() - df.en.str.split(\"#\").str.len() == 0]"
   ]
  },
  {
   "cell_type": "code",
   "execution_count": 380,
   "metadata": {},
   "outputs": [
    {
     "data": {
      "text/plain": [
       "[1082, 1086, 1090, 1086, 1088, 1099, 1080, 774]"
      ]
     },
     "execution_count": 380,
     "metadata": {},
     "output_type": "execute_result"
    }
   ],
   "source": [
    "[ord(c) for c in \"который\"]"
   ]
  },
  {
   "cell_type": "code",
   "execution_count": 379,
   "metadata": {},
   "outputs": [
    {
     "data": {
      "text/plain": [
       "False"
      ]
     },
     "execution_count": 379,
     "metadata": {},
     "output_type": "execute_result"
    }
   ],
   "source": [
    "\"который\" in eng_tokenizer.vocab.keys()"
   ]
  },
  {
   "cell_type": "code",
   "execution_count": 385,
   "metadata": {},
   "outputs": [
    {
     "data": {
      "text/plain": [
       "'й'"
      ]
     },
     "execution_count": 385,
     "metadata": {},
     "output_type": "execute_result"
    }
   ],
   "source": [
    "chr(1081)"
   ]
  },
  {
   "cell_type": "code",
   "execution_count": 384,
   "metadata": {},
   "outputs": [
    {
     "data": {
      "text/plain": [
       "[1082, 1086, 1090, 1086, 1088, 1099, 1081]"
      ]
     },
     "execution_count": 384,
     "metadata": {},
     "output_type": "execute_result"
    }
   ],
   "source": [
    "[ord(c) for c in \"который\"]"
   ]
  },
  {
   "cell_type": "code",
   "execution_count": 382,
   "metadata": {},
   "outputs": [
    {
     "data": {
      "text/plain": [
       "True"
      ]
     },
     "execution_count": 382,
     "metadata": {},
     "output_type": "execute_result"
    }
   ],
   "source": [
    "\"который\" in eng_tokenizer.vocab.keys()"
   ]
  },
  {
   "cell_type": "code",
   "execution_count": 374,
   "metadata": {},
   "outputs": [
    {
     "name": "stdout",
     "output_type": "stream",
     "text": [
      "я видел сон, который не совсем был сон. # блестящее солнце потухло, и звезды # темные блуждали по беспредельному пространству, # без пути, без лучей; и оледенелая земля # плавала, слепая и черная, в безлунном воздухе. # утро пришло и ушло - и опять пришло и не принесло дня; # люди забыли о своих страстях # в страхе и отчаянии; и все сердца # охладели в одной молитве о свете; # люди жили при огнях, и престолы, # дворцы венценосных царей, хижины, # жилища всех населенцев мира истлели вместо маяков; # города развалились в пепел, # и люди толпились вкруг домов горящих, # чтоб еще раз посмотреть друг на друга; # счастливы были жившие противу волканов, # сих горных факелов; одна боязненная надежда # поддерживала мир; леса были зажжены - # но час за часом они падали и гибли, # и треща гасли пни - и всё было мрачно. # чела людей при отчаянном свете # имели вид чего-то неземного, # когда случайно иногда искры на них упадали. # иные ложились на землю и закрывали глаза и плакали; # иные положили бороду на сложенные руки и улыбались; # а другие толпились туда и сюда, # и поддерживали в погребальных кострах пламя, # и с безумным беспокойством # устремляли очи на печальное небо, # подобно савану одевшее мертвый мир, и # потом с проклятьями снова # обращали их на пыльную землю, # и скрежетали зубами и выли; # и птицы кидали пронзительные крики, # и метались по поверхности земли, # и били тщетными крылами; # лютейшие звери сделались смирны и боязливы; # и змеи, ползая, увивались между толпы, шипели, # но не уязвляли - их убивали на съеденье люди; # и война, уснувшая на миг, с новой силой возобновилась; # пища покупалась кровью, # и каждый печально и одиноко сидел, # насыщаясь в темноте; не оставалось любви; # вся земля имела одну мысль: # это смерть близкая и бесславная; # судороги голода завладели утробами, люди умирали, # и мясо и кости их непогребенные валялись; # тощие были съедены тощими; # псы нападали даже на своих хозяев, # все, кроме одного, и он был верен его трупу # и отгонял с лаем птиц и зверей и людей голодных, # пока голод не изнурял или новый труп не привлекал их алчность; # он сам не искал пищи, но с жалобным и протяжным воем # и с пронзительным лаем лизал руку, # не отвечавшую его ласке, - и умер. # толпа постепенно редела; # лишь двое из обширного города # остались вживе - и это были враги; # они встретились у пепла алтаря, # где грудой лежали оскверненные церковные утвари; # они разгребали и, дрожа, # подымали хладными сухими руками теплый пепел, # и слабое дыханье немного продолжалось и произвело # как бы насмешливый чуть видный огонек; # тогда они подняли глаза при большем свете # и увидали друг друга - увидали, и издали вопль и умерли, # от собственного их безобразия они умерли, не зная, # на чьем лице голод начертал: враг. # мир был пуст, многолюдный и могущий # сделался громадой безвременной, # бестравной, безлесной, безлюдной, # безжизненной, громадой мертвой, # хаосом, глыбой праха; реки, озера, океан были недвижны, # и ничего не ворочалось в их молчаливой глубине; # корабли без пловцов лежали, # гния, в море, и их мачты падали кусками; # падая, засыпали на гладкой поверхности; # скончались волны; легли в гроб приливы, # луна, царица их, умерла прежде; # истлели ветры в стоячем воздухе, и облака погибли; # мрак не имел более нужды # в их помощи - он был повсеместен.\n",
      "***\n",
      "i had a dream, which was not all a dream. # the bright sun was extinguished, and the stars # did wander darkling in the eternal space, # rayless, and pathless, and the icy earth # swung blind and blackening in the moonless air; # morn came and went - and came, and brought no day, # and men forgot their passions in the dread # of this their desolation; and all hearts # were chilled into a selfish prayer for light: # and they did live by watchfires - and the thrones, # the palaces of crowned kings - the huts, # the habitations of all things which dwell, # were burnt for beacons; cities were consumed, # and men were gathered round their blazing homes # to look once more into each other's face; # happy were those who dwelt within the eye # of the volcanos, and their mountain-torch: # a fearful hope was all the world contained; # forests were set on fire - but hour by hour # they fell and faded - and the crackling trunks # extinguished with a crash - and all was black. # the brows of men by the despairing light # wore an unearthly aspect, as by fits # the flashes fell upon them; some lay down # and hid their eyes and wept; and some did rest # their chins upon their clenched hands, and smiled; # and others hurried to and fro, and fed # their funeral piles with fuel, and looked up # with mad disquietude on the dull sky, # the pall of a past world; and then again # with curses cast them down upon the dust, # and gnashed their teeth and howled: the wild birds shrieked, # and, terrified, did flutter on the ground, # and flap their useless wings; the wildest brutes # came tame and tremulous; and vipers crawled # and twined themselves among the multitude, # hissing, but stingless - they were slain for food: # and war, which for a moment was no more, # did glut himself again: - a meal was bought # with blood, and each sate sullenly apart # gorging himself in gloom: no love was left; # all earth was but one thought - and that was death, # immediate and inglorious; and the pang # of famine fed upon all entrails - men # died, and their bones were tombless as their flesh; # the meagre by the meagre were devoured, # even dogs assailed their masters, all save one, # and he was faithful to a corse, and kept # the birds and beasts and famished men at bay, # till hunger clung them, or the dropping dead # lured their lank jaws; himself sought out no food, # but with a piteous and perpetual moan, # and a quick desolate cry, licking the hand # which answered not with a caress - he died. # the crowd was famished by degrees; but two # of an enormous city did survive, # and they were enemies: they met beside # the dying embers of an altar-place # where had been heaped a mass of holy things # for an unholy usage; they raked up, # and shivering scraped with their cold skeleton hands # the feeble ashes, and their feeble breath # blew for a little life, and made a flame # which was a mockery; then they lifted up # their eyes as it grew lighter, and beheld # each other's aspects - saw, and shrieked, and died - # even of their mutual hideousness they died, # unknowing who he was upon whose brow # famine had written fiend. the world was void, # the populous and the powerful was a lump, # seasonless, herbless, treeless, manless, lifeless - # a lump of death - a chaos of hard clay. # the rivers, lakes, and ocean all stood still, # and nothing stirred within their silent depths; # ships sailorless lay rotting on the sea, # and their masts fell down piecemeal: as they dropped # they slept on the abyss without a surge - # the waves were dead; the tides were in their grave, # the moon, their mistress, had expired before; # the winds were withered in the stagnant air, # and the clouds perished; darkness had no need # of aid from them - she was the universe.\n",
      "***\n",
      "no\n"
     ]
    }
   ],
   "source": [
    "c = 8871\n",
    "print(df.loc[c].ru)\n",
    "print(\"***\")\n",
    "print(df.loc[c].en)\n",
    "print(\"***\")\n",
    "print(df.loc[c].url)"
   ]
  },
  {
   "cell_type": "code",
   "execution_count": null,
   "metadata": {},
   "outputs": [],
   "source": []
  },
  {
   "cell_type": "code",
   "execution_count": 308,
   "metadata": {},
   "outputs": [
    {
     "data": {
      "text/plain": [
       "0       391\n",
       "1       139\n",
       "2       160\n",
       "3       301\n",
       "4       127\n",
       "       ... \n",
       "8971    219\n",
       "8973    206\n",
       "8974    347\n",
       "8975    133\n",
       "8976    184\n",
       "Name: en, Length: 8895, dtype: int64"
      ]
     },
     "execution_count": 308,
     "metadata": {},
     "output_type": "execute_result"
    }
   ],
   "source": [
    "df.en.str.split(\" \").str.len()"
   ]
  },
  {
   "cell_type": "code",
   "execution_count": 310,
   "metadata": {},
   "outputs": [
    {
     "data": {
      "text/plain": [
       "0       279\n",
       "1       103\n",
       "2       129\n",
       "3       221\n",
       "4       101\n",
       "       ... \n",
       "8971    171\n",
       "8973    171\n",
       "8974    252\n",
       "8975    116\n",
       "8976    134\n",
       "Name: ru, Length: 8895, dtype: int64"
      ]
     },
     "execution_count": 310,
     "metadata": {},
     "output_type": "execute_result"
    }
   ],
   "source": [
    "df.ru.str.split(\" \").str.len()"
   ]
  },
  {
   "cell_type": "code",
   "execution_count": 312,
   "metadata": {},
   "outputs": [
    {
     "data": {
      "text/plain": [
       "94.0"
      ]
     },
     "execution_count": 312,
     "metadata": {},
     "output_type": "execute_result"
    }
   ],
   "source": [
    "np.quantile(df.ru.str.split(\" \").str.len(), 0.5)"
   ]
  },
  {
   "cell_type": "code",
   "execution_count": 313,
   "metadata": {},
   "outputs": [
    {
     "data": {
      "text/plain": [
       "125.0"
      ]
     },
     "execution_count": 313,
     "metadata": {},
     "output_type": "execute_result"
    }
   ],
   "source": [
    "np.quantile(df.en.str.split(\" \").str.len(), 0.5)"
   ]
  },
  {
   "cell_type": "code",
   "execution_count": null,
   "metadata": {},
   "outputs": [],
   "source": []
  },
  {
   "cell_type": "code",
   "execution_count": null,
   "metadata": {},
   "outputs": [],
   "source": []
  },
  {
   "cell_type": "code",
   "execution_count": 248,
   "metadata": {},
   "outputs": [
    {
     "data": {
      "text/plain": [
       "'Ll'"
      ]
     },
     "execution_count": 248,
     "metadata": {},
     "output_type": "execute_result"
    }
   ],
   "source": [
    "unicodedata.category(\"й\")"
   ]
  },
  {
   "cell_type": "code",
   "execution_count": 329,
   "metadata": {},
   "outputs": [],
   "source": [
    "def strip_accents(s):\n",
    "    return ''.join(c for c in unicodedata.normalize('NFD', s)\n",
    "                  if unicodedata.category(c) != 'Mn' or ord(c)==774 or ord(c)==776 or ord(c)==775)"
   ]
  },
  {
   "cell_type": "code",
   "execution_count": 331,
   "metadata": {
    "scrolled": true
   },
   "outputs": [
    {
     "data": {
      "text/plain": [
       "'пий 13 ёж ЁЁЁЁжикü фывь'"
      ]
     },
     "execution_count": 331,
     "metadata": {},
     "output_type": "execute_result"
    }
   ],
   "source": [
    "strip_accents(\"пий 13 ёж ЁЁЁЁжикü фывь\")"
   ]
  },
  {
   "cell_type": "code",
   "execution_count": 325,
   "metadata": {},
   "outputs": [
    {
     "data": {
      "text/plain": [
       "'ȧ'"
      ]
     },
     "execution_count": 325,
     "metadata": {},
     "output_type": "execute_result"
    }
   ],
   "source": [
    "\"a\"+chr(775)"
   ]
  },
  {
   "cell_type": "code",
   "execution_count": 323,
   "metadata": {
    "scrolled": false
   },
   "outputs": [
    {
     "data": {
      "text/plain": [
       "776"
      ]
     },
     "execution_count": 323,
     "metadata": {},
     "output_type": "execute_result"
    }
   ],
   "source": [
    "ord(\"_\".join(list(unicodedata.normalize('NFD', \"пий ёж 13 фывь \")))[12])"
   ]
  },
  {
   "cell_type": "code",
   "execution_count": null,
   "metadata": {},
   "outputs": [],
   "source": [
    "unicodedata.normalize('NFD', s)"
   ]
  },
  {
   "cell_type": "code",
   "execution_count": 275,
   "metadata": {},
   "outputs": [
    {
     "data": {
      "text/plain": [
       "['п', 'и', 'и', '̆']"
      ]
     },
     "execution_count": 275,
     "metadata": {},
     "output_type": "execute_result"
    }
   ],
   "source": [
    "[c for c in unicodedata.normalize('NFD', \"пий\") if unicodedata.category(c) != 'Mn' or ord(c)==774]"
   ]
  },
  {
   "cell_type": "code",
   "execution_count": null,
   "metadata": {},
   "outputs": [],
   "source": []
  },
  {
   "cell_type": "code",
   "execution_count": 229,
   "metadata": {},
   "outputs": [
    {
     "data": {
      "text/html": [
       "<div>\n",
       "<style scoped>\n",
       "    .dataframe tbody tr th:only-of-type {\n",
       "        vertical-align: middle;\n",
       "    }\n",
       "\n",
       "    .dataframe tbody tr th {\n",
       "        vertical-align: top;\n",
       "    }\n",
       "\n",
       "    .dataframe thead th {\n",
       "        text-align: right;\n",
       "    }\n",
       "</style>\n",
       "<table border=\"1\" class=\"dataframe\">\n",
       "  <thead>\n",
       "    <tr style=\"text-align: right;\">\n",
       "      <th></th>\n",
       "      <th>en</th>\n",
       "      <th>ru</th>\n",
       "      <th>url</th>\n",
       "      <th>eb</th>\n",
       "    </tr>\n",
       "  </thead>\n",
       "  <tbody>\n",
       "    <tr>\n",
       "      <th>1228</th>\n",
       "      <td>good poetry just tantalizes me, # bad poems ar...</td>\n",
       "      <td>хорошие стихи меня томят, # плохие же так милы...</td>\n",
       "      <td>https://ruverses.com/vladislav-khodasevich/goo...</td>\n",
       "      <td>0.05</td>\n",
       "    </tr>\n",
       "    <tr>\n",
       "      <th>2216</th>\n",
       "      <td>the hooves clattered. # as if singing: # - cri...</td>\n",
       "      <td>били копыта. # пели будто: # - гриб. # грабь. ...</td>\n",
       "      <td>https://ruverses.com/vladimir-mayakovsky/good-...</td>\n",
       "      <td>0.05</td>\n",
       "    </tr>\n",
       "    <tr>\n",
       "      <th>2219</th>\n",
       "      <td>the hooves stomped faster, # singing as they t...</td>\n",
       "      <td>били копыта. # пели будто: # - гриб. # грабь. ...</td>\n",
       "      <td>https://ruverses.com/vladimir-mayakovsky/good-...</td>\n",
       "      <td>0.05</td>\n",
       "    </tr>\n",
       "    <tr>\n",
       "      <th>2614</th>\n",
       "      <td>oh what a night! there's biting frost, # there...</td>\n",
       "      <td>какая ночь! мороз трескучии, # на небе ни един...</td>\n",
       "      <td>https://ruverses.com/alexander-pushkin/oh-what...</td>\n",
       "      <td>0.05</td>\n",
       "    </tr>\n",
       "    <tr>\n",
       "      <th>2722</th>\n",
       "      <td>for distant shores of homeland # you left this...</td>\n",
       "      <td>для берегов отчизны дальнои # ты покидала краи...</td>\n",
       "      <td>https://ruverses.com/alexander-pushkin/for-dis...</td>\n",
       "      <td>0.05</td>\n",
       "    </tr>\n",
       "    <tr>\n",
       "      <th>2817</th>\n",
       "      <td>it's time my friends, it's time. we long for p...</td>\n",
       "      <td>пора, мои друг, пора! [покоя] сердце просит - ...</td>\n",
       "      <td>https://ruverses.com/alexander-pushkin/it-s-ti...</td>\n",
       "      <td>0.05</td>\n",
       "    </tr>\n",
       "    <tr>\n",
       "      <th>2825</th>\n",
       "      <td>my friend, it's time! the heart demands a brea...</td>\n",
       "      <td>пора, мои друг, пора! [покоя] сердце просит - ...</td>\n",
       "      <td>https://ruverses.com/alexander-pushkin/it-s-ti...</td>\n",
       "      <td>0.05</td>\n",
       "    </tr>\n",
       "    <tr>\n",
       "      <th>3528</th>\n",
       "      <td>the columns, wrapped in yellow silk, # the pec...</td>\n",
       "      <td>колонны, желтыми увитые шелками, # и платья pe...</td>\n",
       "      <td>https://ruverses.com/innokenty-annensky/buddhi...</td>\n",
       "      <td>0.05</td>\n",
       "    </tr>\n",
       "    <tr>\n",
       "      <th>3703</th>\n",
       "      <td>good poems torment me much, # bad ones - are n...</td>\n",
       "      <td>хорошие стихи меня томят, # плохие же так милы...</td>\n",
       "      <td>https://ruverses.com/vladislav-khodasevich/goo...</td>\n",
       "      <td>0.05</td>\n",
       "    </tr>\n",
       "    <tr>\n",
       "      <th>3908</th>\n",
       "      <td>i'll tell you bluntly # one last time: # it's ...</td>\n",
       "      <td>ma voix aigre et fausse... # p. verlain # [мои...</td>\n",
       "      <td>https://ruverses.com/osip-mandelshtam/i-ll-tel...</td>\n",
       "      <td>0.05</td>\n",
       "    </tr>\n",
       "    <tr>\n",
       "      <th>3932</th>\n",
       "      <td>hoofs plod # seeming to sing, # grab. # rib. #...</td>\n",
       "      <td>били копыта. # пели будто: # - гриб. # грабь. ...</td>\n",
       "      <td>https://ruverses.com/vladimir-mayakovsky/good-...</td>\n",
       "      <td>0.05</td>\n",
       "    </tr>\n",
       "    <tr>\n",
       "      <th>3933</th>\n",
       "      <td>hoofbeats were pounding out, # seeming to sing...</td>\n",
       "      <td>били копыта. # пели будто: # - гриб. # грабь. ...</td>\n",
       "      <td>https://ruverses.com/vladimir-mayakovsky/good-...</td>\n",
       "      <td>0.05</td>\n",
       "    </tr>\n",
       "    <tr>\n",
       "      <th>4192</th>\n",
       "      <td>the roman orator was speaking # as citizens st...</td>\n",
       "      <td>оратор римскии говорил # средь бурь граждански...</td>\n",
       "      <td>https://ruverses.com/fyodor-tyutchev/cicero/</td>\n",
       "      <td>0.05</td>\n",
       "    </tr>\n",
       "    <tr>\n",
       "      <th>5194</th>\n",
       "      <td>i give you these verses so that if my name, # ...</td>\n",
       "      <td>тебе мои стихи! когда поэта имя # как легкая л...</td>\n",
       "      <td>https://akyla.net/stihi-na-angliyskom/charles-...</td>\n",
       "      <td>0.00</td>\n",
       "    </tr>\n",
       "    <tr>\n",
       "      <th>5220</th>\n",
       "      <td>singular deity, brown as the nights, # scented...</td>\n",
       "      <td>о странныи идол мои, чьи кудри - сумрак ночи; ...</td>\n",
       "      <td>https://akyla.net/stihi-na-angliyskom/charles-...</td>\n",
       "      <td>0.00</td>\n",
       "    </tr>\n",
       "    <tr>\n",
       "      <th>5256</th>\n",
       "      <td>there are strong perfumes for which all matter...</td>\n",
       "      <td>есть проникающии все поры аромат, # подчас в с...</td>\n",
       "      <td>https://akyla.net/stihi-na-angliyskom/charles-...</td>\n",
       "      <td>0.00</td>\n",
       "    </tr>\n",
       "    <tr>\n",
       "      <th>5258</th>\n",
       "      <td>the season is at hand when swaying on its stem...</td>\n",
       "      <td>в час вечернии здесь каждыи дрожащии цветок, #...</td>\n",
       "      <td>https://akyla.net/stihi-na-angliyskom/charles-...</td>\n",
       "      <td>0.00</td>\n",
       "    </tr>\n",
       "    <tr>\n",
       "      <th>5261</th>\n",
       "      <td>the sun was covered with a crape. # like him, ...</td>\n",
       "      <td>смотри, диск солнечныи задернут мраком крепа; ...</td>\n",
       "      <td>https://akyla.net/stihi-na-angliyskom/charles-...</td>\n",
       "      <td>0.00</td>\n",
       "    </tr>\n",
       "    <tr>\n",
       "      <th>5265</th>\n",
       "      <td>angel full of gaiety, do you know anguish, # s...</td>\n",
       "      <td>ангел, радостныи ангел, ты знаешь ли муки, # б...</td>\n",
       "      <td>https://akyla.net/stihi-na-angliyskom/charles-...</td>\n",
       "      <td>0.00</td>\n",
       "    </tr>\n",
       "    <tr>\n",
       "      <th>5266</th>\n",
       "      <td>the devil into my high room # this morning cam...</td>\n",
       "      <td>сам демон в комнате высокои # сегодня посетил ...</td>\n",
       "      <td>https://akyla.net/stihi-na-angliyskom/charles-...</td>\n",
       "      <td>0.00</td>\n",
       "    </tr>\n",
       "    <tr>\n",
       "      <th>5275</th>\n",
       "      <td>muse of my heart, you who love palaces, # when...</td>\n",
       "      <td>о муза нищая, влюбленная в чертоги! # когда ян...</td>\n",
       "      <td>https://akyla.net/stihi-na-angliyskom/charles-...</td>\n",
       "      <td>0.00</td>\n",
       "    </tr>\n",
       "    <tr>\n",
       "      <th>5280</th>\n",
       "      <td>to lift a weight so heavy, # would take your c...</td>\n",
       "      <td>о если б в грудь мою проник, # сизиф[25], твои...</td>\n",
       "      <td>https://akyla.net/stihi-na-angliyskom/charles-...</td>\n",
       "      <td>0.00</td>\n",
       "    </tr>\n",
       "    <tr>\n",
       "      <th>5285</th>\n",
       "      <td>rubens, river of oblivion, garden of indolence...</td>\n",
       "      <td>о рубенс, лени сад, покои реки забвенья! # ты ...</td>\n",
       "      <td>https://akyla.net/stihi-na-angliyskom/charles-...</td>\n",
       "      <td>0.00</td>\n",
       "    </tr>\n",
       "    <tr>\n",
       "      <th>5295</th>\n",
       "      <td>from that sky, bizarre and livid, # distorted ...</td>\n",
       "      <td>\"какие помыслы гурьбои # со свода бледного спо...</td>\n",
       "      <td>https://akyla.net/stihi-na-angliyskom/charles-...</td>\n",
       "      <td>0.00</td>\n",
       "    </tr>\n",
       "    <tr>\n",
       "      <th>5301</th>\n",
       "      <td>proud as a living person of her noble stature,...</td>\n",
       "      <td>с осанкои важною, как некогда живая, # с платк...</td>\n",
       "      <td>https://akyla.net/stihi-na-angliyskom/charles-...</td>\n",
       "      <td>0.00</td>\n",
       "    </tr>\n",
       "    <tr>\n",
       "      <th>5302</th>\n",
       "      <td>i have not forgotten our white cottage, # smal...</td>\n",
       "      <td>средь шума города всегда передо мнои # наш дом...</td>\n",
       "      <td>https://akyla.net/stihi-na-angliyskom/charles-...</td>\n",
       "      <td>0.00</td>\n",
       "    </tr>\n",
       "    <tr>\n",
       "      <th>5305</th>\n",
       "      <td>white girl with flame-red hair, # whose garmen...</td>\n",
       "      <td>белая девушка с рыжеи головкои, # ты сквозь ло...</td>\n",
       "      <td>https://akyla.net/stihi-na-angliyskom/charles-...</td>\n",
       "      <td>0.00</td>\n",
       "    </tr>\n",
       "    <tr>\n",
       "      <th>5306</th>\n",
       "      <td>teeming, swarming city, city full of dreams, #...</td>\n",
       "      <td>о город, где плывут кишащих снов потоки, # где...</td>\n",
       "      <td>https://akyla.net/stihi-na-angliyskom/charles-...</td>\n",
       "      <td>0.00</td>\n",
       "    </tr>\n",
       "    <tr>\n",
       "      <th>5309</th>\n",
       "      <td>impassive clock! terrifying, sinister god, # w...</td>\n",
       "      <td>часы! угрюмыи бог, ужасныи и бесстрастныи, # ч...</td>\n",
       "      <td>https://akyla.net/stihi-na-angliyskom/charles-...</td>\n",
       "      <td>0.00</td>\n",
       "    </tr>\n",
       "    <tr>\n",
       "      <th>5314</th>\n",
       "      <td>folly, error, sin, avarice # occupy our minds ...</td>\n",
       "      <td>безумье, скаредность, и алчность, и разврат # ...</td>\n",
       "      <td>https://akyla.net/stihi-na-angliyskom/charles-...</td>\n",
       "      <td>0.00</td>\n",
       "    </tr>\n",
       "    <tr>\n",
       "      <th>5317</th>\n",
       "      <td>hatred is the cask of the pale danaides; # bew...</td>\n",
       "      <td>о злая ненависть, ты - бочка данаид[72], # куд...</td>\n",
       "      <td>https://akyla.net/stihi-na-angliyskom/charles-...</td>\n",
       "      <td>0.00</td>\n",
       "    </tr>\n",
       "    <tr>\n",
       "      <th>5349</th>\n",
       "      <td>both ardent lovers and austere scholars # love...</td>\n",
       "      <td>чета любовников в часы живои беседы, # задумчи...</td>\n",
       "      <td>https://akyla.net/stihi-na-angliyskom/charles-...</td>\n",
       "      <td>0.00</td>\n",
       "    </tr>\n",
       "    <tr>\n",
       "      <th>5352</th>\n",
       "      <td>tell me, does your heart sometimes fly away, a...</td>\n",
       "      <td>ты ночною порои улетала ль, агата[67], # из не...</td>\n",
       "      <td>https://akyla.net/stihi-na-angliyskom/charles-...</td>\n",
       "      <td>0.00</td>\n",
       "    </tr>\n",
       "    <tr>\n",
       "      <th>5417</th>\n",
       "      <td>imagine diana in elegant attire, # roaming thr...</td>\n",
       "      <td>скажи, ты видел ли, как гордая диана[60] # лег...</td>\n",
       "      <td>https://akyla.net/stihi-na-angliyskom/charles-...</td>\n",
       "      <td>0.00</td>\n",
       "    </tr>\n",
       "    <tr>\n",
       "      <th>5439</th>\n",
       "      <td>when, after a decree of the supreme powers, # ...</td>\n",
       "      <td>лишь в мир тоскующии верховных сил веленьем # ...</td>\n",
       "      <td>https://akyla.net/stihi-na-angliyskom/charles-...</td>\n",
       "      <td>0.00</td>\n",
       "    </tr>\n",
       "    <tr>\n",
       "      <th>5442</th>\n",
       "      <td>how many times must i shake my bauble and bell...</td>\n",
       "      <td>не раз раздастся звон потешных бубенцов; # не ...</td>\n",
       "      <td>https://akyla.net/stihi-na-angliyskom/charles-...</td>\n",
       "      <td>0.00</td>\n",
       "    </tr>\n",
       "    <tr>\n",
       "      <th>5495</th>\n",
       "      <td>what does god do with the wave of curses # tha...</td>\n",
       "      <td>творец! анафемы, как грозная волна, # несутся ...</td>\n",
       "      <td>https://akyla.net/stihi-na-angliyskom/charles-...</td>\n",
       "      <td>0.00</td>\n",
       "    </tr>\n",
       "    <tr>\n",
       "      <th>5531</th>\n",
       "      <td>thus can my love excuse the slow offence # of ...</td>\n",
       "      <td>вот как моя любовь может оправдать медлительно...</td>\n",
       "      <td>https://akyla.net/stihi-na-angliyskom/william-...</td>\n",
       "      <td>0.00</td>\n",
       "    </tr>\n",
       "    <tr>\n",
       "      <th>5652</th>\n",
       "      <td>often, in the red light of a street-lamp # of ...</td>\n",
       "      <td>при свете красного, слепого фонаря, # где плам...</td>\n",
       "      <td>https://akyla.net/stihi-na-angliyskom/charles-...</td>\n",
       "      <td>0.00</td>\n",
       "    </tr>\n",
       "    <tr>\n",
       "      <th>6352</th>\n",
       "      <td>(fragment) # 1. # when eighty-five was seven ...</td>\n",
       "      <td>(отрывок) # 1 # был восемьдесят пятыи год, # ...</td>\n",
       "      <td>http://www.eng-poetry.ru/Poem.php?PoemId=6122</td>\n",
       "      <td>0.50</td>\n",
       "    </tr>\n",
       "    <tr>\n",
       "      <th>7112</th>\n",
       "      <td>ye good men of the commons, with loving hearts...</td>\n",
       "      <td>песня из времен древнего рима. # плебеи, люди ...</td>\n",
       "      <td>http://www.eng-poetry.ru/Poem.php?PoemId=7651</td>\n",
       "      <td>0.50</td>\n",
       "    </tr>\n",
       "    <tr>\n",
       "      <th>7160</th>\n",
       "      <td>[political morality differs from individual mo...</td>\n",
       "      <td>[политическая нравственность # отличается от л...</td>\n",
       "      <td>http://www.eng-poetry.ru/Poem.php?PoemId=6234</td>\n",
       "      <td>0.50</td>\n",
       "    </tr>\n",
       "    <tr>\n",
       "      <th>7901</th>\n",
       "      <td>sweet dreams, form a shade # o'er my lovely in...</td>\n",
       "      <td>сон, сон, полог свои # свеи над детскои голово...</td>\n",
       "      <td>http://www.eng-poetry.ru/Poem.php?PoemId=30</td>\n",
       "      <td>0.50</td>\n",
       "    </tr>\n",
       "    <tr>\n",
       "      <th>8209</th>\n",
       "      <td>1918 # \"this is the state above the law. # the...</td>\n",
       "      <td>1918 # \"государство служит только себе. # зако...</td>\n",
       "      <td>http://www.eng-poetry.ru/Poem.php?PoemId=10854</td>\n",
       "      <td>0.50</td>\n",
       "    </tr>\n",
       "    <tr>\n",
       "      <th>8429</th>\n",
       "      <td>[the war will change many things in art and li...</td>\n",
       "      <td>[воина многое изменит в искусстве и в жизни, #...</td>\n",
       "      <td>http://www.eng-poetry.ru/Poem.php?PoemId=6233</td>\n",
       "      <td>0.50</td>\n",
       "    </tr>\n",
       "    <tr>\n",
       "      <th>8729</th>\n",
       "      <td>bound for your distant home # you were leaving...</td>\n",
       "      <td>для берегов отчизны дальнои # ты покидала краи...</td>\n",
       "      <td>https://www.tania-soleil.com/pushkin-dlia-bere...</td>\n",
       "      <td>0.00</td>\n",
       "    </tr>\n",
       "  </tbody>\n",
       "</table>\n",
       "</div>"
      ],
      "text/plain": [
       "                                                     en  \\\n",
       "1228  good poetry just tantalizes me, # bad poems ar...   \n",
       "2216  the hooves clattered. # as if singing: # - cri...   \n",
       "2219  the hooves stomped faster, # singing as they t...   \n",
       "2614  oh what a night! there's biting frost, # there...   \n",
       "2722  for distant shores of homeland # you left this...   \n",
       "2817  it's time my friends, it's time. we long for p...   \n",
       "2825  my friend, it's time! the heart demands a brea...   \n",
       "3528  the columns, wrapped in yellow silk, # the pec...   \n",
       "3703  good poems torment me much, # bad ones - are n...   \n",
       "3908  i'll tell you bluntly # one last time: # it's ...   \n",
       "3932  hoofs plod # seeming to sing, # grab. # rib. #...   \n",
       "3933  hoofbeats were pounding out, # seeming to sing...   \n",
       "4192  the roman orator was speaking # as citizens st...   \n",
       "5194  i give you these verses so that if my name, # ...   \n",
       "5220  singular deity, brown as the nights, # scented...   \n",
       "5256  there are strong perfumes for which all matter...   \n",
       "5258  the season is at hand when swaying on its stem...   \n",
       "5261  the sun was covered with a crape. # like him, ...   \n",
       "5265  angel full of gaiety, do you know anguish, # s...   \n",
       "5266  the devil into my high room # this morning cam...   \n",
       "5275  muse of my heart, you who love palaces, # when...   \n",
       "5280  to lift a weight so heavy, # would take your c...   \n",
       "5285  rubens, river of oblivion, garden of indolence...   \n",
       "5295  from that sky, bizarre and livid, # distorted ...   \n",
       "5301  proud as a living person of her noble stature,...   \n",
       "5302  i have not forgotten our white cottage, # smal...   \n",
       "5305  white girl with flame-red hair, # whose garmen...   \n",
       "5306  teeming, swarming city, city full of dreams, #...   \n",
       "5309  impassive clock! terrifying, sinister god, # w...   \n",
       "5314  folly, error, sin, avarice # occupy our minds ...   \n",
       "5317  hatred is the cask of the pale danaides; # bew...   \n",
       "5349  both ardent lovers and austere scholars # love...   \n",
       "5352  tell me, does your heart sometimes fly away, a...   \n",
       "5417  imagine diana in elegant attire, # roaming thr...   \n",
       "5439  when, after a decree of the supreme powers, # ...   \n",
       "5442  how many times must i shake my bauble and bell...   \n",
       "5495  what does god do with the wave of curses # tha...   \n",
       "5531  thus can my love excuse the slow offence # of ...   \n",
       "5652  often, in the red light of a street-lamp # of ...   \n",
       "6352   (fragment) # 1. # when eighty-five was seven ...   \n",
       "7112  ye good men of the commons, with loving hearts...   \n",
       "7160  [political morality differs from individual mo...   \n",
       "7901  sweet dreams, form a shade # o'er my lovely in...   \n",
       "8209  1918 # \"this is the state above the law. # the...   \n",
       "8429  [the war will change many things in art and li...   \n",
       "8729  bound for your distant home # you were leaving...   \n",
       "\n",
       "                                                     ru  \\\n",
       "1228  хорошие стихи меня томят, # плохие же так милы...   \n",
       "2216  били копыта. # пели будто: # - гриб. # грабь. ...   \n",
       "2219  били копыта. # пели будто: # - гриб. # грабь. ...   \n",
       "2614  какая ночь! мороз трескучии, # на небе ни един...   \n",
       "2722  для берегов отчизны дальнои # ты покидала краи...   \n",
       "2817  пора, мои друг, пора! [покоя] сердце просит - ...   \n",
       "2825  пора, мои друг, пора! [покоя] сердце просит - ...   \n",
       "3528  колонны, желтыми увитые шелками, # и платья pe...   \n",
       "3703  хорошие стихи меня томят, # плохие же так милы...   \n",
       "3908  ma voix aigre et fausse... # p. verlain # [мои...   \n",
       "3932  били копыта. # пели будто: # - гриб. # грабь. ...   \n",
       "3933  били копыта. # пели будто: # - гриб. # грабь. ...   \n",
       "4192  оратор римскии говорил # средь бурь граждански...   \n",
       "5194  тебе мои стихи! когда поэта имя # как легкая л...   \n",
       "5220  о странныи идол мои, чьи кудри - сумрак ночи; ...   \n",
       "5256  есть проникающии все поры аромат, # подчас в с...   \n",
       "5258  в час вечернии здесь каждыи дрожащии цветок, #...   \n",
       "5261  смотри, диск солнечныи задернут мраком крепа; ...   \n",
       "5265  ангел, радостныи ангел, ты знаешь ли муки, # б...   \n",
       "5266  сам демон в комнате высокои # сегодня посетил ...   \n",
       "5275  о муза нищая, влюбленная в чертоги! # когда ян...   \n",
       "5280  о если б в грудь мою проник, # сизиф[25], твои...   \n",
       "5285  о рубенс, лени сад, покои реки забвенья! # ты ...   \n",
       "5295  \"какие помыслы гурьбои # со свода бледного спо...   \n",
       "5301  с осанкои важною, как некогда живая, # с платк...   \n",
       "5302  средь шума города всегда передо мнои # наш дом...   \n",
       "5305  белая девушка с рыжеи головкои, # ты сквозь ло...   \n",
       "5306  о город, где плывут кишащих снов потоки, # где...   \n",
       "5309  часы! угрюмыи бог, ужасныи и бесстрастныи, # ч...   \n",
       "5314  безумье, скаредность, и алчность, и разврат # ...   \n",
       "5317  о злая ненависть, ты - бочка данаид[72], # куд...   \n",
       "5349  чета любовников в часы живои беседы, # задумчи...   \n",
       "5352  ты ночною порои улетала ль, агата[67], # из не...   \n",
       "5417  скажи, ты видел ли, как гордая диана[60] # лег...   \n",
       "5439  лишь в мир тоскующии верховных сил веленьем # ...   \n",
       "5442  не раз раздастся звон потешных бубенцов; # не ...   \n",
       "5495  творец! анафемы, как грозная волна, # несутся ...   \n",
       "5531  вот как моя любовь может оправдать медлительно...   \n",
       "5652  при свете красного, слепого фонаря, # где плам...   \n",
       "6352   (отрывок) # 1 # был восемьдесят пятыи год, # ...   \n",
       "7112  песня из времен древнего рима. # плебеи, люди ...   \n",
       "7160  [политическая нравственность # отличается от л...   \n",
       "7901  сон, сон, полог свои # свеи над детскои голово...   \n",
       "8209  1918 # \"государство служит только себе. # зако...   \n",
       "8429  [воина многое изменит в искусстве и в жизни, #...   \n",
       "8729  для берегов отчизны дальнои # ты покидала краи...   \n",
       "\n",
       "                                                    url    eb  \n",
       "1228  https://ruverses.com/vladislav-khodasevich/goo...  0.05  \n",
       "2216  https://ruverses.com/vladimir-mayakovsky/good-...  0.05  \n",
       "2219  https://ruverses.com/vladimir-mayakovsky/good-...  0.05  \n",
       "2614  https://ruverses.com/alexander-pushkin/oh-what...  0.05  \n",
       "2722  https://ruverses.com/alexander-pushkin/for-dis...  0.05  \n",
       "2817  https://ruverses.com/alexander-pushkin/it-s-ti...  0.05  \n",
       "2825  https://ruverses.com/alexander-pushkin/it-s-ti...  0.05  \n",
       "3528  https://ruverses.com/innokenty-annensky/buddhi...  0.05  \n",
       "3703  https://ruverses.com/vladislav-khodasevich/goo...  0.05  \n",
       "3908  https://ruverses.com/osip-mandelshtam/i-ll-tel...  0.05  \n",
       "3932  https://ruverses.com/vladimir-mayakovsky/good-...  0.05  \n",
       "3933  https://ruverses.com/vladimir-mayakovsky/good-...  0.05  \n",
       "4192       https://ruverses.com/fyodor-tyutchev/cicero/  0.05  \n",
       "5194  https://akyla.net/stihi-na-angliyskom/charles-...  0.00  \n",
       "5220  https://akyla.net/stihi-na-angliyskom/charles-...  0.00  \n",
       "5256  https://akyla.net/stihi-na-angliyskom/charles-...  0.00  \n",
       "5258  https://akyla.net/stihi-na-angliyskom/charles-...  0.00  \n",
       "5261  https://akyla.net/stihi-na-angliyskom/charles-...  0.00  \n",
       "5265  https://akyla.net/stihi-na-angliyskom/charles-...  0.00  \n",
       "5266  https://akyla.net/stihi-na-angliyskom/charles-...  0.00  \n",
       "5275  https://akyla.net/stihi-na-angliyskom/charles-...  0.00  \n",
       "5280  https://akyla.net/stihi-na-angliyskom/charles-...  0.00  \n",
       "5285  https://akyla.net/stihi-na-angliyskom/charles-...  0.00  \n",
       "5295  https://akyla.net/stihi-na-angliyskom/charles-...  0.00  \n",
       "5301  https://akyla.net/stihi-na-angliyskom/charles-...  0.00  \n",
       "5302  https://akyla.net/stihi-na-angliyskom/charles-...  0.00  \n",
       "5305  https://akyla.net/stihi-na-angliyskom/charles-...  0.00  \n",
       "5306  https://akyla.net/stihi-na-angliyskom/charles-...  0.00  \n",
       "5309  https://akyla.net/stihi-na-angliyskom/charles-...  0.00  \n",
       "5314  https://akyla.net/stihi-na-angliyskom/charles-...  0.00  \n",
       "5317  https://akyla.net/stihi-na-angliyskom/charles-...  0.00  \n",
       "5349  https://akyla.net/stihi-na-angliyskom/charles-...  0.00  \n",
       "5352  https://akyla.net/stihi-na-angliyskom/charles-...  0.00  \n",
       "5417  https://akyla.net/stihi-na-angliyskom/charles-...  0.00  \n",
       "5439  https://akyla.net/stihi-na-angliyskom/charles-...  0.00  \n",
       "5442  https://akyla.net/stihi-na-angliyskom/charles-...  0.00  \n",
       "5495  https://akyla.net/stihi-na-angliyskom/charles-...  0.00  \n",
       "5531  https://akyla.net/stihi-na-angliyskom/william-...  0.00  \n",
       "5652  https://akyla.net/stihi-na-angliyskom/charles-...  0.00  \n",
       "6352      http://www.eng-poetry.ru/Poem.php?PoemId=6122  0.50  \n",
       "7112      http://www.eng-poetry.ru/Poem.php?PoemId=7651  0.50  \n",
       "7160      http://www.eng-poetry.ru/Poem.php?PoemId=6234  0.50  \n",
       "7901        http://www.eng-poetry.ru/Poem.php?PoemId=30  0.50  \n",
       "8209     http://www.eng-poetry.ru/Poem.php?PoemId=10854  0.50  \n",
       "8429      http://www.eng-poetry.ru/Poem.php?PoemId=6233  0.50  \n",
       "8729  https://www.tania-soleil.com/pushkin-dlia-bere...  0.00  "
      ]
     },
     "execution_count": 229,
     "metadata": {},
     "output_type": "execute_result"
    }
   ],
   "source": [
    "df[df.ru.str.contains('\\[')]"
   ]
  },
  {
   "cell_type": "code",
   "execution_count": 225,
   "metadata": {},
   "outputs": [
    {
     "data": {
      "text/plain": [
       "0"
      ]
     },
     "execution_count": 225,
     "metadata": {},
     "output_type": "execute_result"
    }
   ],
   "source": [
    "len(df[df.en.str.contains(\"ѣ\")])"
   ]
  },
  {
   "cell_type": "code",
   "execution_count": 373,
   "metadata": {
    "scrolled": false
   },
   "outputs": [
    {
     "name": "stdout",
     "output_type": "stream",
     "text": [
      "я видел сон, который не совсем был сон. # блестящее солнце потухло, и звезды # темные блуждали по беспредельному пространству, # без пути, без лучей; и оледенелая земля # плавала, слепая и черная, в безлунном воздухе. # утро пришло и ушло - и опять пришло и не принесло дня; # люди забыли о своих страстях # в страхе и отчаянии; и все сердца # охладели в одной молитве о свете; # люди жили при огнях, и престолы, # дворцы венценосных царей, хижины, # жилища всех населенцев мира истлели вместо маяков; # города развалились в пепел, # и люди толпились вкруг домов горящих, # чтоб еще раз посмотреть друг на друга; # счастливы были жившие противу волканов, # сих горных факелов; одна боязненная надежда # поддерживала мир; леса были зажжены - # но час за часом они падали и гибли, # и треща гасли пни - и всё было мрачно. # чела людей при отчаянном свете # имели вид чего-то неземного, # когда случайно иногда искры на них упадали. # иные ложились на землю и закрывали глаза и плакали; # иные положили бороду на сложенные руки и улыбались; # а другие толпились туда и сюда, # и поддерживали в погребальных кострах пламя, # и с безумным беспокойством # устремляли очи на печальное небо, # подобно савану одевшее мертвый мир, и # потом с проклятьями снова # обращали их на пыльную землю, # и скрежетали зубами и выли; # и птицы кидали пронзительные крики, # и метались по поверхности земли, # и били тщетными крылами; # лютейшие звери сделались смирны и боязливы; # и змеи, ползая, увивались между толпы, шипели, # но не уязвляли - их убивали на съеденье люди; # и война, уснувшая на миг, с новой силой возобновилась; # пища покупалась кровью, # и каждый печально и одиноко сидел, # насыщаясь в темноте; не оставалось любви; # вся земля имела одну мысль: # это смерть близкая и бесславная; # судороги голода завладели утробами, люди умирали, # и мясо и кости их непогребенные валялись; # тощие были съедены тощими; # псы нападали даже на своих хозяев, # все, кроме одного, и он был верен его трупу # и отгонял с лаем птиц и зверей и людей голодных, # пока голод не изнурял или новый труп не привлекал их алчность; # он сам не искал пищи, но с жалобным и протяжным воем # и с пронзительным лаем лизал руку, # не отвечавшую его ласке, - и умер. # толпа постепенно редела; # лишь двое из обширного города # остались вживе - и это были враги; # они встретились у пепла алтаря, # где грудой лежали оскверненные церковные утвари; # они разгребали и, дрожа, # подымали хладными сухими руками теплый пепел, # и слабое дыханье немного продолжалось и произвело # как бы насмешливый чуть видный огонек; # тогда они подняли глаза при большем свете # и увидали друг друга - увидали, и издали вопль и умерли, # от собственного их безобразия они умерли, не зная, # на чьем лице голод начертал: враг. # мир был пуст, многолюдный и могущий # сделался громадой безвременной, # бестравной, безлесной, безлюдной, # безжизненной, громадой мертвой, # хаосом, глыбой праха; реки, озера, океан были недвижны, # и ничего не ворочалось в их молчаливой глубине; # корабли без пловцов лежали, # гния, в море, и их мачты падали кусками; # падая, засыпали на гладкой поверхности; # скончались волны; легли в гроб приливы, # луна, царица их, умерла прежде; # истлели ветры в стоячем воздухе, и облака погибли; # мрак не имел более нужды # в их помощи - он был повсеместен.\n",
      "***\n",
      "i had a dream, which was not all a dream. # the bright sun was extinguished, and the stars # did wander darkling in the eternal space, # rayless, and pathless, and the icy earth # swung blind and blackening in the moonless air; # morn came and went - and came, and brought no day, # and men forgot their passions in the dread # of this their desolation; and all hearts # were chilled into a selfish prayer for light: # and they did live by watchfires - and the thrones, # the palaces of crowned kings - the huts, # the habitations of all things which dwell, # were burnt for beacons; cities were consumed, # and men were gathered round their blazing homes # to look once more into each other's face; # happy were those who dwelt within the eye # of the volcanos, and their mountain-torch: # a fearful hope was all the world contained; # forests were set on fire - but hour by hour # they fell and faded - and the crackling trunks # extinguished with a crash - and all was black. # the brows of men by the despairing light # wore an unearthly aspect, as by fits # the flashes fell upon them; some lay down # and hid their eyes and wept; and some did rest # their chins upon their clenched hands, and smiled; # and others hurried to and fro, and fed # their funeral piles with fuel, and looked up # with mad disquietude on the dull sky, # the pall of a past world; and then again # with curses cast them down upon the dust, # and gnashed their teeth and howled: the wild birds shrieked, # and, terrified, did flutter on the ground, # and flap their useless wings; the wildest brutes # came tame and tremulous; and vipers crawled # and twined themselves among the multitude, # hissing, but stingless - they were slain for food: # and war, which for a moment was no more, # did glut himself again: - a meal was bought # with blood, and each sate sullenly apart # gorging himself in gloom: no love was left; # all earth was but one thought - and that was death, # immediate and inglorious; and the pang # of famine fed upon all entrails - men # died, and their bones were tombless as their flesh; # the meagre by the meagre were devoured, # even dogs assailed their masters, all save one, # and he was faithful to a corse, and kept # the birds and beasts and famished men at bay, # till hunger clung them, or the dropping dead # lured their lank jaws; himself sought out no food, # but with a piteous and perpetual moan, # and a quick desolate cry, licking the hand # which answered not with a caress - he died. # the crowd was famished by degrees; but two # of an enormous city did survive, # and they were enemies: they met beside # the dying embers of an altar-place # where had been heaped a mass of holy things # for an unholy usage; they raked up, # and shivering scraped with their cold skeleton hands # the feeble ashes, and their feeble breath # blew for a little life, and made a flame # which was a mockery; then they lifted up # their eyes as it grew lighter, and beheld # each other's aspects - saw, and shrieked, and died - # even of their mutual hideousness they died, # unknowing who he was upon whose brow # famine had written fiend. the world was void, # the populous and the powerful was a lump, # seasonless, herbless, treeless, manless, lifeless - # a lump of death - a chaos of hard clay. # the rivers, lakes, and ocean all stood still, # and nothing stirred within their silent depths; # ships sailorless lay rotting on the sea, # and their masts fell down piecemeal: as they dropped # they slept on the abyss without a surge - # the waves were dead; the tides were in their grave, # the moon, their mistress, had expired before; # the winds were withered in the stagnant air, # and the clouds perished; darkness had no need # of aid from them - she was the universe.\n",
      "***\n",
      "no\n"
     ]
    }
   ],
   "source": [
    "c = 8871\n",
    "print(df.loc[c].ru)\n",
    "print(\"***\")\n",
    "print(df.loc[c].en)\n",
    "print(\"***\")\n",
    "print(df.loc[c].url)"
   ]
  },
  {
   "cell_type": "code",
   "execution_count": 231,
   "metadata": {},
   "outputs": [
    {
     "data": {
      "text/html": [
       "<div>\n",
       "<style scoped>\n",
       "    .dataframe tbody tr th:only-of-type {\n",
       "        vertical-align: middle;\n",
       "    }\n",
       "\n",
       "    .dataframe tbody tr th {\n",
       "        vertical-align: top;\n",
       "    }\n",
       "\n",
       "    .dataframe thead th {\n",
       "        text-align: right;\n",
       "    }\n",
       "</style>\n",
       "<table border=\"1\" class=\"dataframe\">\n",
       "  <thead>\n",
       "    <tr style=\"text-align: right;\">\n",
       "      <th></th>\n",
       "      <th>en</th>\n",
       "      <th>ru</th>\n",
       "      <th>url</th>\n",
       "      <th>eb</th>\n",
       "    </tr>\n",
       "  </thead>\n",
       "  <tbody>\n",
       "    <tr>\n",
       "      <th>4535</th>\n",
       "      <td>from naked stones of agony # i will build a ho...</td>\n",
       "      <td>из голых камнеи душевнои боли # я дом для души...</td>\n",
       "      <td>https://akyla.net/stihi-na-angliyskom/william-...</td>\n",
       "      <td>0.0</td>\n",
       "    </tr>\n",
       "    <tr>\n",
       "      <th>4634</th>\n",
       "      <td>sigh no more, ladies, sigh no more, # men were...</td>\n",
       "      <td>к чему вздыхать, красотки, вам? # мужчины - ро...</td>\n",
       "      <td>https://akyla.net/stihi-na-angliyskom/william-...</td>\n",
       "      <td>0.0</td>\n",
       "    </tr>\n",
       "    <tr>\n",
       "      <th>4739</th>\n",
       "      <td>o mistress mine, where are you roaming? # o st...</td>\n",
       "      <td>милая, свои путь прерви # в предвкушении любви...</td>\n",
       "      <td>https://akyla.net/stihi-na-angliyskom/william-...</td>\n",
       "      <td>0.0</td>\n",
       "    </tr>\n",
       "    <tr>\n",
       "      <th>4741</th>\n",
       "      <td>let the bird of loudest lay, # on the sole ara...</td>\n",
       "      <td>пусть громкоголосая птица возляжет # на таиное...</td>\n",
       "      <td>https://akyla.net/stihi-na-angliyskom/william-...</td>\n",
       "      <td>0.0</td>\n",
       "    </tr>\n",
       "    <tr>\n",
       "      <th>4754</th>\n",
       "      <td>when that i was and a little tiny boy, # with ...</td>\n",
       "      <td>когда я был маленьким мальчиком # и еще не пис...</td>\n",
       "      <td>https://akyla.net/stihi-na-angliyskom/william-...</td>\n",
       "      <td>0.0</td>\n",
       "    </tr>\n",
       "    <tr>\n",
       "      <th>...</th>\n",
       "      <td>...</td>\n",
       "      <td>...</td>\n",
       "      <td>...</td>\n",
       "      <td>...</td>\n",
       "    </tr>\n",
       "    <tr>\n",
       "      <th>5695</th>\n",
       "      <td>then hate me when thou wilt; if ever, now; # n...</td>\n",
       "      <td>уж если ты разлюбишь - так теперь, # теперь, к...</td>\n",
       "      <td>https://akyla.net/stihi-na-angliyskom/william-...</td>\n",
       "      <td>0.0</td>\n",
       "    </tr>\n",
       "    <tr>\n",
       "      <th>5716</th>\n",
       "      <td>sweet love, renew thy force; be it not said # ...</td>\n",
       "      <td>проснись, любовь! твое ли острие # тупеи, чем ...</td>\n",
       "      <td>https://akyla.net/stihi-na-angliyskom/william-...</td>\n",
       "      <td>0.0</td>\n",
       "    </tr>\n",
       "    <tr>\n",
       "      <th>5721</th>\n",
       "      <td>let those who are in favour with their stars #...</td>\n",
       "      <td>кто под звездои счастливою рожден - # гордится...</td>\n",
       "      <td>https://akyla.net/stihi-na-angliyskom/william-...</td>\n",
       "      <td>0.0</td>\n",
       "    </tr>\n",
       "    <tr>\n",
       "      <th>5747</th>\n",
       "      <td>those lips that love's own hand did make # bre...</td>\n",
       "      <td>я ненавижу, - вот слова, # что с милых уст ее ...</td>\n",
       "      <td>https://akyla.net/stihi-na-angliyskom/william-...</td>\n",
       "      <td>0.0</td>\n",
       "    </tr>\n",
       "    <tr>\n",
       "      <th>5753</th>\n",
       "      <td>all the world's a stage, # and all the men and...</td>\n",
       "      <td>весь мир - лишь сцена, люди - лишь актеры # у ...</td>\n",
       "      <td>https://akyla.net/stihi-na-angliyskom/william-...</td>\n",
       "      <td>0.0</td>\n",
       "    </tr>\n",
       "  </tbody>\n",
       "</table>\n",
       "<p>164 rows × 4 columns</p>\n",
       "</div>"
      ],
      "text/plain": [
       "                                                     en  \\\n",
       "4535  from naked stones of agony # i will build a ho...   \n",
       "4634  sigh no more, ladies, sigh no more, # men were...   \n",
       "4739  o mistress mine, where are you roaming? # o st...   \n",
       "4741  let the bird of loudest lay, # on the sole ara...   \n",
       "4754  when that i was and a little tiny boy, # with ...   \n",
       "...                                                 ...   \n",
       "5695  then hate me when thou wilt; if ever, now; # n...   \n",
       "5716  sweet love, renew thy force; be it not said # ...   \n",
       "5721  let those who are in favour with their stars #...   \n",
       "5747  those lips that love's own hand did make # bre...   \n",
       "5753  all the world's a stage, # and all the men and...   \n",
       "\n",
       "                                                     ru  \\\n",
       "4535  из голых камнеи душевнои боли # я дом для души...   \n",
       "4634  к чему вздыхать, красотки, вам? # мужчины - ро...   \n",
       "4739  милая, свои путь прерви # в предвкушении любви...   \n",
       "4741  пусть громкоголосая птица возляжет # на таиное...   \n",
       "4754  когда я был маленьким мальчиком # и еще не пис...   \n",
       "...                                                 ...   \n",
       "5695  уж если ты разлюбишь - так теперь, # теперь, к...   \n",
       "5716  проснись, любовь! твое ли острие # тупеи, чем ...   \n",
       "5721  кто под звездои счастливою рожден - # гордится...   \n",
       "5747  я ненавижу, - вот слова, # что с милых уст ее ...   \n",
       "5753  весь мир - лишь сцена, люди - лишь актеры # у ...   \n",
       "\n",
       "                                                    url   eb  \n",
       "4535  https://akyla.net/stihi-na-angliyskom/william-...  0.0  \n",
       "4634  https://akyla.net/stihi-na-angliyskom/william-...  0.0  \n",
       "4739  https://akyla.net/stihi-na-angliyskom/william-...  0.0  \n",
       "4741  https://akyla.net/stihi-na-angliyskom/william-...  0.0  \n",
       "4754  https://akyla.net/stihi-na-angliyskom/william-...  0.0  \n",
       "...                                                 ...  ...  \n",
       "5695  https://akyla.net/stihi-na-angliyskom/william-...  0.0  \n",
       "5716  https://akyla.net/stihi-na-angliyskom/william-...  0.0  \n",
       "5721  https://akyla.net/stihi-na-angliyskom/william-...  0.0  \n",
       "5747  https://akyla.net/stihi-na-angliyskom/william-...  0.0  \n",
       "5753  https://akyla.net/stihi-na-angliyskom/william-...  0.0  \n",
       "\n",
       "[164 rows x 4 columns]"
      ]
     },
     "execution_count": 231,
     "metadata": {},
     "output_type": "execute_result"
    }
   ],
   "source": [
    "df[df.url.str.contains(\"https://akyla.net/stihi-na-angliyskom/william-shakespeare\")]"
   ]
  },
  {
   "cell_type": "code",
   "execution_count": 55,
   "metadata": {},
   "outputs": [],
   "source": [
    "import unicodedata"
   ]
  },
  {
   "cell_type": "code",
   "execution_count": 67,
   "metadata": {},
   "outputs": [],
   "source": [
    "def strip_accents(s):\n",
    "    s = re.sub('&amp;', '&', s)\n",
    "    return ''.join(c for c in unicodedata.normalize('NFD', s)\n",
    "                  if unicodedata.category(c) != 'Mn')"
   ]
  },
  {
   "cell_type": "code",
   "execution_count": 68,
   "metadata": {},
   "outputs": [
    {
     "data": {
      "text/plain": [
       "' ОБЪЯВЛЕНИЕ В ЖУРНАЛЕ «ФЛОРИСТ».\\nПро сорок градусов в тени нам объявили долы. \\nГолыш торчит, ручей журчит, и склоны с юга – голы.\\nИ колесница до оси в грязи у Феба. Зод-\\n-иак, поди, рад: Пан в пути! Весна, Весна идёт!\\nО, Пшик &amp; Теллус! Чудный дом! Сыны их – в прошлом – Боже! –\\nНам продали Зевс знает что, – и нынче будет то же.\\nПан – весь в меху, но «кто есть ху», там А́пис не спросил:\\nКозёл быка, издалека узнав, – заголосил.\\nШагает Пан, от страсти пьян. Стой, Пи́тис, ну же, ну же!\\nНу не беги, ну помоги ему в тоске и нуже!\\nКак он, облом, плясал в былом в компании Менад!\\nNumen adest! Для наших мест сыграй. Вот плата, брат.\\n(И флокс угас, и роза, – враз (прошло лишь две недели!).\\nЖурнал вещал, он обещал… И что ж теперь – на деле?\\nДа, что ж теперь? Опять поверь в гарантии – и вновь\\nКупи семян, стерпи обман, и верь, и… вся любовь!). \\nНам кажет Пан блестящий план, раскрашенную небыль.\\nЭде́мский Меч, – о чём тут речь? – сих планов ярче не был.\\nПомо́на, Ли́бер, – всяк из них лишь так чудотворит. \\n(«Ужель не вырастить и вам Упавших Гесперид?»).\\nБерёт у нас любой заказ и – не моргнёт и глазом:\\n«Вот этот сорт – пусть не апорт, но укрепляет Разум.\\nВ тех яблоках Здоровье, в тех…Что? – Золото! – А в тех…».\\n«Достаточно, любезный Пан!..» – (Лукавый пустобрех!).\\nЛюбезный Пан, лукавый Пан на нас взирает зорко,\\nЧтоб всех и каждого надуть – от Фри́ско до Нью-Йорка. \\nИ всё ж, любимая, цветы здесь в мае зацветут,\\nГде он в снегу оставил след, – и там, и там, и тут.'"
      ]
     },
     "execution_count": 68,
     "metadata": {},
     "output_type": "execute_result"
    }
   ],
   "source": [
    "string = df[df.ru.str.contains(\"&amp\")].iloc[1].ru\n",
    "string"
   ]
  },
  {
   "cell_type": "code",
   "execution_count": 69,
   "metadata": {},
   "outputs": [
    {
     "data": {
      "text/plain": [
       "' ОБЪЯВЛЕНИЕ В ЖУРНАЛЕ «ФЛОРИСТ».\\nПро сорок градусов в тени нам объявили долы. \\nГолыш торчит, ручеи журчит, и склоны с юга – голы.\\nИ колесница до оси в грязи у Феба. Зод-\\n-иак, поди, рад: Пан в пути! Весна, Весна идет!\\nО, Пшик & Теллус! Чудныи дом! Сыны их – в прошлом – Боже! –\\nНам продали Зевс знает что, – и нынче будет то же.\\nПан – весь в меху, но «кто есть ху», там Апис не спросил:\\nКозел быка, издалека узнав, – заголосил.\\nШагает Пан, от страсти пьян. Стои, Питис, ну же, ну же!\\nНу не беги, ну помоги ему в тоске и нуже!\\nКак он, облом, плясал в былом в компании Менад!\\nNumen adest! Для наших мест сыграи. Вот плата, брат.\\n(И флокс угас, и роза, – враз (прошло лишь две недели!).\\nЖурнал вещал, он обещал… И что ж теперь – на деле?\\nДа, что ж теперь? Опять поверь в гарантии – и вновь\\nКупи семян, стерпи обман, и верь, и… вся любовь!). \\nНам кажет Пан блестящии план, раскрашенную небыль.\\nЭдемскии Меч, – о чем тут речь? – сих планов ярче не был.\\nПомона, Либер, – всяк из них лишь так чудотворит. \\n(«Ужель не вырастить и вам Упавших Гесперид?»).\\nБерет у нас любои заказ и – не моргнет и глазом:\\n«Вот этот сорт – пусть не апорт, но укрепляет Разум.\\nВ тех яблоках Здоровье, в тех…Что? – Золото! – А в тех…».\\n«Достаточно, любезныи Пан!..» – (Лукавыи пустобрех!).\\nЛюбезныи Пан, лукавыи Пан на нас взирает зорко,\\nЧтоб всех и каждого надуть – от Фриско до Нью-Иорка. \\nИ все ж, любимая, цветы здесь в мае зацветут,\\nГде он в снегу оставил след, – и там, и там, и тут.'"
      ]
     },
     "execution_count": 69,
     "metadata": {},
     "output_type": "execute_result"
    }
   ],
   "source": [
    "strip_accents(string)"
   ]
  },
  {
   "cell_type": "code",
   "execution_count": 71,
   "metadata": {},
   "outputs": [
    {
     "ename": "AssertionError",
     "evalue": "",
     "output_type": "error",
     "traceback": [
      "\u001b[0;31m---------------------------------------------------------------------------\u001b[0m",
      "\u001b[0;31mAssertionError\u001b[0m                            Traceback (most recent call last)",
      "\u001b[0;32m<ipython-input-71-4b57d65ba8e9>\u001b[0m in \u001b[0;36m<module>\u001b[0;34m\u001b[0m\n\u001b[0;32m----> 1\u001b[0;31m \u001b[0mnormalize_ru\u001b[0m\u001b[0;34m(\u001b[0m\u001b[0mstring\u001b[0m\u001b[0;34m.\u001b[0m\u001b[0mreplace\u001b[0m\u001b[0;34m(\u001b[0m\u001b[0;34m\"  \"\u001b[0m\u001b[0;34m,\u001b[0m \u001b[0;34m\" \"\u001b[0m\u001b[0;34m)\u001b[0m\u001b[0;34m)\u001b[0m\u001b[0;34m\u001b[0m\u001b[0;34m\u001b[0m\u001b[0m\n\u001b[0m",
      "\u001b[0;32m~/opt/anaconda3/envs/env/lib/python3.7/site-packages/mosestokenizer/punctnormalizer.py\u001b[0m in \u001b[0;36m__call__\u001b[0;34m(self, line)\u001b[0m\n\u001b[1;32m     59\u001b[0m         \u001b[0;32massert\u001b[0m \u001b[0misinstance\u001b[0m\u001b[0;34m(\u001b[0m\u001b[0mline\u001b[0m\u001b[0;34m,\u001b[0m \u001b[0mstr\u001b[0m\u001b[0;34m)\u001b[0m\u001b[0;34m\u001b[0m\u001b[0;34m\u001b[0m\u001b[0m\n\u001b[1;32m     60\u001b[0m         \u001b[0mline\u001b[0m \u001b[0;34m=\u001b[0m \u001b[0mline\u001b[0m\u001b[0;34m.\u001b[0m\u001b[0mstrip\u001b[0m\u001b[0;34m(\u001b[0m\u001b[0;34m)\u001b[0m\u001b[0;34m\u001b[0m\u001b[0;34m\u001b[0m\u001b[0m\n\u001b[0;32m---> 61\u001b[0;31m         \u001b[0;32massert\u001b[0m \u001b[0;34m\"\\n\"\u001b[0m \u001b[0;32mnot\u001b[0m \u001b[0;32min\u001b[0m \u001b[0mline\u001b[0m\u001b[0;34m\u001b[0m\u001b[0;34m\u001b[0m\u001b[0m\n\u001b[0m\u001b[1;32m     62\u001b[0m         \u001b[0;32mif\u001b[0m \u001b[0;32mnot\u001b[0m \u001b[0mline\u001b[0m\u001b[0;34m:\u001b[0m\u001b[0;34m\u001b[0m\u001b[0;34m\u001b[0m\u001b[0m\n\u001b[1;32m     63\u001b[0m             \u001b[0;32mreturn\u001b[0m \u001b[0;34m[\u001b[0m\u001b[0;34m]\u001b[0m\u001b[0;34m\u001b[0m\u001b[0;34m\u001b[0m\u001b[0m\n",
      "\u001b[0;31mAssertionError\u001b[0m: "
     ]
    }
   ],
   "source": [
    "normalize_ru(string.replace(\"\\n\", \" / \"))"
   ]
  },
  {
   "cell_type": "code",
   "execution_count": null,
   "metadata": {},
   "outputs": [],
   "source": []
  },
  {
   "cell_type": "code",
   "execution_count": 7,
   "metadata": {},
   "outputs": [
    {
     "data": {
      "text/html": [
       "<div>\n",
       "<style scoped>\n",
       "    .dataframe tbody tr th:only-of-type {\n",
       "        vertical-align: middle;\n",
       "    }\n",
       "\n",
       "    .dataframe tbody tr th {\n",
       "        vertical-align: top;\n",
       "    }\n",
       "\n",
       "    .dataframe thead th {\n",
       "        text-align: right;\n",
       "    }\n",
       "</style>\n",
       "<table border=\"1\" class=\"dataframe\">\n",
       "  <thead>\n",
       "    <tr style=\"text-align: right;\">\n",
       "      <th></th>\n",
       "      <th>en</th>\n",
       "      <th>ru</th>\n",
       "      <th>url</th>\n",
       "      <th>ebuchest</th>\n",
       "    </tr>\n",
       "  </thead>\n",
       "  <tbody>\n",
       "    <tr>\n",
       "      <th>0</th>\n",
       "      <td>There is a freedom blissful in a twilight\\nFro...</td>\n",
       "      <td>Есть в сумерках блаженная свобода \\nот явных ч...</td>\n",
       "      <td>https://ruverses.com/bella-akhmadulina/twiligh...</td>\n",
       "      <td>0.05</td>\n",
       "    </tr>\n",
       "    <tr>\n",
       "      <th>1</th>\n",
       "      <td>Laughing, delighting, and rebelling\\nIn all he...</td>\n",
       "      <td>Смеясь, ликуя и бунтуя, \\nв своей безвыходной ...</td>\n",
       "      <td>https://ruverses.com/bella-akhmadulina/laughin...</td>\n",
       "      <td>0.05</td>\n",
       "    </tr>\n",
       "    <tr>\n",
       "      <th>2</th>\n",
       "      <td>Winter, to me your gestures are\\ncold and care...</td>\n",
       "      <td>О жест зимы ко мне, \\nхолодный и прилежный. \\n...</td>\n",
       "      <td>https://ruverses.com/bella-akhmadulina/winter/</td>\n",
       "      <td>0.05</td>\n",
       "    </tr>\n",
       "    <tr>\n",
       "      <th>3</th>\n",
       "      <td>Along my street, these steady steps resound  \\...</td>\n",
       "      <td>По улице моей который год\\nзвучат шаги — мои д...</td>\n",
       "      <td>https://ruverses.com/bella-akhmadulina/along-m...</td>\n",
       "      <td>0.05</td>\n",
       "    </tr>\n",
       "    <tr>\n",
       "      <th>4</th>\n",
       "      <td>Here're the girls — they wish to love,\\nHere'r...</td>\n",
       "      <td>Вот девочки — им хочется любви.\\nВот мальчики ...</td>\n",
       "      <td>https://ruverses.com/bella-akhmadulina/april/2...</td>\n",
       "      <td>0.05</td>\n",
       "    </tr>\n",
       "    <tr>\n",
       "      <th>...</th>\n",
       "      <td>...</td>\n",
       "      <td>...</td>\n",
       "      <td>...</td>\n",
       "      <td>...</td>\n",
       "    </tr>\n",
       "    <tr>\n",
       "      <th>8978</th>\n",
       "      <td>\\n\\nWait for me – and I'll return.\\nOnly wait ...</td>\n",
       "      <td>\\n\\nЖди меня, и я вернусь.\\nТолько очень жди,\\...</td>\n",
       "      <td>no</td>\n",
       "      <td>0.00</td>\n",
       "    </tr>\n",
       "    <tr>\n",
       "      <th>8979</th>\n",
       "      <td>\\n\\nWait for me, and I'll come back.\\nOnly wai...</td>\n",
       "      <td>\\n\\nЖди меня, и я вернусь.\\nТолько очень жди,\\...</td>\n",
       "      <td>no</td>\n",
       "      <td>0.00</td>\n",
       "    </tr>\n",
       "    <tr>\n",
       "      <th>8980</th>\n",
       "      <td>\\n\\n Not long ago, when I was at a dinner,\\nI ...</td>\n",
       "      <td>\\n\\n Недавно тост я слышал на пиру,\\nИ вот он ...</td>\n",
       "      <td>no</td>\n",
       "      <td>0.00</td>\n",
       "    </tr>\n",
       "    <tr>\n",
       "      <th>8981</th>\n",
       "      <td>\\n\\nEyes of gray—the sodden quay,\\nDriving rai...</td>\n",
       "      <td>\\n\\nСерые глаза — рассвет,\\nПароходная сирена,...</td>\n",
       "      <td>no</td>\n",
       "      <td>0.00</td>\n",
       "    </tr>\n",
       "    <tr>\n",
       "      <th>8982</th>\n",
       "      <td>\\n\\nThe Doorkeepers of Zion,\\n  They do not al...</td>\n",
       "      <td>\\n\\nПривратники Сиона\\nНе вечно на часах\\nСтоя...</td>\n",
       "      <td>no</td>\n",
       "      <td>0.00</td>\n",
       "    </tr>\n",
       "  </tbody>\n",
       "</table>\n",
       "<p>8983 rows × 4 columns</p>\n",
       "</div>"
      ],
      "text/plain": [
       "                                                     en  \\\n",
       "0     There is a freedom blissful in a twilight\\nFro...   \n",
       "1     Laughing, delighting, and rebelling\\nIn all he...   \n",
       "2     Winter, to me your gestures are\\ncold and care...   \n",
       "3     Along my street, these steady steps resound  \\...   \n",
       "4     Here're the girls — they wish to love,\\nHere'r...   \n",
       "...                                                 ...   \n",
       "8978  \\n\\nWait for me – and I'll return.\\nOnly wait ...   \n",
       "8979  \\n\\nWait for me, and I'll come back.\\nOnly wai...   \n",
       "8980  \\n\\n Not long ago, when I was at a dinner,\\nI ...   \n",
       "8981  \\n\\nEyes of gray—the sodden quay,\\nDriving rai...   \n",
       "8982  \\n\\nThe Doorkeepers of Zion,\\n  They do not al...   \n",
       "\n",
       "                                                     ru  \\\n",
       "0     Есть в сумерках блаженная свобода \\nот явных ч...   \n",
       "1     Смеясь, ликуя и бунтуя, \\nв своей безвыходной ...   \n",
       "2     О жест зимы ко мне, \\nхолодный и прилежный. \\n...   \n",
       "3     По улице моей который год\\nзвучат шаги — мои д...   \n",
       "4     Вот девочки — им хочется любви.\\nВот мальчики ...   \n",
       "...                                                 ...   \n",
       "8978  \\n\\nЖди меня, и я вернусь.\\nТолько очень жди,\\...   \n",
       "8979  \\n\\nЖди меня, и я вернусь.\\nТолько очень жди,\\...   \n",
       "8980  \\n\\n Недавно тост я слышал на пиру,\\nИ вот он ...   \n",
       "8981  \\n\\nСерые глаза — рассвет,\\nПароходная сирена,...   \n",
       "8982  \\n\\nПривратники Сиона\\nНе вечно на часах\\nСтоя...   \n",
       "\n",
       "                                                    url  ebuchest  \n",
       "0     https://ruverses.com/bella-akhmadulina/twiligh...      0.05  \n",
       "1     https://ruverses.com/bella-akhmadulina/laughin...      0.05  \n",
       "2        https://ruverses.com/bella-akhmadulina/winter/      0.05  \n",
       "3     https://ruverses.com/bella-akhmadulina/along-m...      0.05  \n",
       "4     https://ruverses.com/bella-akhmadulina/april/2...      0.05  \n",
       "...                                                 ...       ...  \n",
       "8978                                                 no      0.00  \n",
       "8979                                                 no      0.00  \n",
       "8980                                                 no      0.00  \n",
       "8981                                                 no      0.00  \n",
       "8982                                                 no      0.00  \n",
       "\n",
       "[8983 rows x 4 columns]"
      ]
     },
     "execution_count": 7,
     "metadata": {},
     "output_type": "execute_result"
    }
   ],
   "source": [
    "df.ru = df.ru.apply(lambda x: re.sub(r\"\\r\\n\", \"\\n\", x))\n",
    "df.ru = df.ru.apply(lambda x: re.sub(r\"\\n\\s+\", \"\\n\", x))\n",
    "df.ru = df.ru.apply(lambda x: re.sub(r\"\\s+\\n\", \"\\n\", x))\n",
    "df.ru = df.ru.apply(lambda x: re.sub(r\"\\n+\", \"\\n\", x))\n",
    "df.ru = df.ru.apply(lambda x: re.sub(r\"^\\n\", \"\", x))\n",
    "df.ru = df.ru.apply(lambda x: re.sub(r\"\\n$\", \"\", x))"
   ]
  },
  {
   "cell_type": "code",
   "execution_count": null,
   "metadata": {},
   "outputs": [],
   "source": []
  }
 ],
 "metadata": {
  "kernelspec": {
   "display_name": "Python 3",
   "language": "python",
   "name": "python3"
  },
  "language_info": {
   "codemirror_mode": {
    "name": "ipython",
    "version": 3
   },
   "file_extension": ".py",
   "mimetype": "text/x-python",
   "name": "python",
   "nbconvert_exporter": "python",
   "pygments_lexer": "ipython3",
   "version": "3.7.5"
  }
 },
 "nbformat": 4,
 "nbformat_minor": 2
}

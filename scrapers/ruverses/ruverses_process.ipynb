{
 "cells": [
  {
   "cell_type": "code",
   "execution_count": 1,
   "metadata": {},
   "outputs": [],
   "source": [
    "import json\n",
    "import pandas as pd\n",
    "import re"
   ]
  },
  {
   "cell_type": "code",
   "execution_count": 2,
   "metadata": {},
   "outputs": [],
   "source": [
    "file = open(\"./data/texts_ruverses.json\", \"r\")\n",
    "j = json.load(file)\n",
    "lst = []\n",
    "for i in j:\n",
    "    lst.append([i[\"article\"], i[\"original\"], i[\"text\"], i[\"url\"]])"
   ]
  },
  {
   "cell_type": "code",
   "execution_count": 3,
   "metadata": {},
   "outputs": [],
   "source": [
    "df = pd.DataFrame(lst, columns=[\"article\",\"original\",\"text\", \"url\"])\n",
    "df = df[df.text.str.contains(\"английский\")].reset_index(drop=True)"
   ]
  },
  {
   "cell_type": "code",
   "execution_count": 4,
   "metadata": {},
   "outputs": [],
   "source": [
    "df.original = df.original.apply(lambda x: re.sub(\"\\n+\", \"\\n\", x).strip())\n",
    "df.article = df.article.apply(lambda x: re.sub(\"\\n+\", \"\\n\", x).strip())"
   ]
  },
  {
   "cell_type": "code",
   "execution_count": 5,
   "metadata": {},
   "outputs": [],
   "source": [
    "df[\"diff\"] = df.article.str.split(\"\\n\").str.len() - df.original.str.split(\"\\n\").str.len()\n",
    "problem = df[abs(df.article.str.split(\"\\n\").str.len() - df.original.str.split(\"\\n\").str.len()) != 0]"
   ]
  },
  {
   "cell_type": "code",
   "execution_count": 6,
   "metadata": {},
   "outputs": [
    {
     "data": {
      "text/plain": [
       "1661"
      ]
     },
     "execution_count": 6,
     "metadata": {},
     "output_type": "execute_result"
    }
   ],
   "source": [
    "len(df)"
   ]
  },
  {
   "cell_type": "code",
   "execution_count": 7,
   "metadata": {},
   "outputs": [
    {
     "data": {
      "text/html": [
       "<div>\n",
       "<style scoped>\n",
       "    .dataframe tbody tr th:only-of-type {\n",
       "        vertical-align: middle;\n",
       "    }\n",
       "\n",
       "    .dataframe tbody tr th {\n",
       "        vertical-align: top;\n",
       "    }\n",
       "\n",
       "    .dataframe thead th {\n",
       "        text-align: right;\n",
       "    }\n",
       "</style>\n",
       "<table border=\"1\" class=\"dataframe\">\n",
       "  <thead>\n",
       "    <tr style=\"text-align: right;\">\n",
       "      <th></th>\n",
       "      <th>article</th>\n",
       "      <th>original</th>\n",
       "      <th>text</th>\n",
       "      <th>url</th>\n",
       "      <th>diff</th>\n",
       "    </tr>\n",
       "  </thead>\n",
       "  <tbody>\n",
       "    <tr>\n",
       "      <th>2</th>\n",
       "      <td>Fifteen boys — maybe more\\nmaybe less than fif...</td>\n",
       "      <td>Пятнадцать мальчиков, а может быть и больше,\\n...</td>\n",
       "      <td>Перевод стихотворения Беллы Ахмадулиной «Пятна...</td>\n",
       "      <td>https://ruverses.com/bella-akhmadulina/fifteen...</td>\n",
       "      <td>-1</td>\n",
       "    </tr>\n",
       "    <tr>\n",
       "      <th>4</th>\n",
       "      <td>Fifteen boys and maybe more,\\nor feuer than fi...</td>\n",
       "      <td>Пятнадцать мальчиков, а может быть и больше,\\n...</td>\n",
       "      <td>Перевод стихотворения Беллы Ахмадулиной «Пятна...</td>\n",
       "      <td>https://ruverses.com/bella-akhmadulina/fifteen...</td>\n",
       "      <td>-2</td>\n",
       "    </tr>\n",
       "    <tr>\n",
       "      <th>7</th>\n",
       "      <td>For how many years along this street of mine h...</td>\n",
       "      <td>По улице моей который год\\nзвучат шаги — мои д...</td>\n",
       "      <td>Перевод стихотворения Беллы Ахмадулиной «По ул...</td>\n",
       "      <td>https://ruverses.com/bella-akhmadulina/along-m...</td>\n",
       "      <td>-8</td>\n",
       "    </tr>\n",
       "    <tr>\n",
       "      <th>8</th>\n",
       "      <td>I'm fond of the old speech.\\nThere's a charm i...</td>\n",
       "      <td>Влечет меня старинный слог.\\nЕсть обаянье в др...</td>\n",
       "      <td>Перевод стихотворения Беллы Ахмадулиной «Влече...</td>\n",
       "      <td>https://ruverses.com/bella-akhmadulina/i-m-fon...</td>\n",
       "      <td>-1</td>\n",
       "    </tr>\n",
       "    <tr>\n",
       "      <th>9</th>\n",
       "      <td>Along my street for so many years \\nI hear ste...</td>\n",
       "      <td>По улице моей который год\\nзвучат шаги — мои д...</td>\n",
       "      <td>Перевод стихотворения Беллы Ахмадулиной «По ул...</td>\n",
       "      <td>https://ruverses.com/bella-akhmadulina/along-m...</td>\n",
       "      <td>-12</td>\n",
       "    </tr>\n",
       "  </tbody>\n",
       "</table>\n",
       "</div>"
      ],
      "text/plain": [
       "                                             article  \\\n",
       "2  Fifteen boys — maybe more\\nmaybe less than fif...   \n",
       "4  Fifteen boys and maybe more,\\nor feuer than fi...   \n",
       "7  For how many years along this street of mine h...   \n",
       "8  I'm fond of the old speech.\\nThere's a charm i...   \n",
       "9  Along my street for so many years \\nI hear ste...   \n",
       "\n",
       "                                            original  \\\n",
       "2  Пятнадцать мальчиков, а может быть и больше,\\n...   \n",
       "4  Пятнадцать мальчиков, а может быть и больше,\\n...   \n",
       "7  По улице моей который год\\nзвучат шаги — мои д...   \n",
       "8  Влечет меня старинный слог.\\nЕсть обаянье в др...   \n",
       "9  По улице моей который год\\nзвучат шаги — мои д...   \n",
       "\n",
       "                                                text  \\\n",
       "2  Перевод стихотворения Беллы Ахмадулиной «Пятна...   \n",
       "4  Перевод стихотворения Беллы Ахмадулиной «Пятна...   \n",
       "7  Перевод стихотворения Беллы Ахмадулиной «По ул...   \n",
       "8  Перевод стихотворения Беллы Ахмадулиной «Влече...   \n",
       "9  Перевод стихотворения Беллы Ахмадулиной «По ул...   \n",
       "\n",
       "                                                 url  diff  \n",
       "2  https://ruverses.com/bella-akhmadulina/fifteen...    -1  \n",
       "4  https://ruverses.com/bella-akhmadulina/fifteen...    -2  \n",
       "7  https://ruverses.com/bella-akhmadulina/along-m...    -8  \n",
       "8  https://ruverses.com/bella-akhmadulina/i-m-fon...    -1  \n",
       "9  https://ruverses.com/bella-akhmadulina/along-m...   -12  "
      ]
     },
     "execution_count": 7,
     "metadata": {},
     "output_type": "execute_result"
    }
   ],
   "source": [
    "problem.head()"
   ]
  },
  {
   "cell_type": "code",
   "execution_count": 14,
   "metadata": {},
   "outputs": [],
   "source": [
    "# sep = \"\\n\\n\\n#new_poem#\\n\"\n",
    "# translation_sep = \"\\n#translation#\\n\"\n",
    "# url_sep = \"\\n#url#\\n\"\n",
    "# diff_sep = \"\\n#diff#\\n\"\n",
    "# lst = []\n",
    "# with open(\"tania_lookup.txt\", \"r\") as file:\n",
    "#     text = file.read()\n",
    "#     for pack in list(filter(None, text.split(sep))):\n",
    "#         diff = pack.split(diff_sep)[0]\n",
    "#         other = pack.split(diff_sep)[1]\n",
    "#         url = other.split(url_sep)[1]\n",
    "#         en, ru = other.split(url_sep)[0].split(translation_sep)\n",
    "#         lst.append([en, ru, url])\n",
    "# add = pd.DataFrame(lst, columns=[\"en\", \"ru\", \"url\"])"
   ]
  },
  {
   "cell_type": "code",
   "execution_count": 15,
   "metadata": {},
   "outputs": [],
   "source": [
    "prefin = df[abs(df.article.str.split(\"\\n\").str.len() - df.original.str.split(\"\\n\").str.len()) == 0].copy()"
   ]
  },
  {
   "cell_type": "code",
   "execution_count": 16,
   "metadata": {},
   "outputs": [],
   "source": [
    "prefin = prefin[[\"article\", \"original\", \"url\"]]"
   ]
  },
  {
   "cell_type": "code",
   "execution_count": 23,
   "metadata": {},
   "outputs": [],
   "source": [
    "prefin.columns = [\"en\", \"ru\", \"url\"]"
   ]
  },
  {
   "cell_type": "code",
   "execution_count": 24,
   "metadata": {},
   "outputs": [],
   "source": [
    "fin = prefin"
   ]
  },
  {
   "cell_type": "code",
   "execution_count": 25,
   "metadata": {},
   "outputs": [],
   "source": [
    "fin = fin[fin.en.str.len() > 5]\n",
    "fin = fin[fin.ru.str.len() > 5]\n",
    "fin = fin.reset_index(drop=True)"
   ]
  },
  {
   "cell_type": "code",
   "execution_count": 26,
   "metadata": {},
   "outputs": [
    {
     "data": {
      "text/html": [
       "<div>\n",
       "<style scoped>\n",
       "    .dataframe tbody tr th:only-of-type {\n",
       "        vertical-align: middle;\n",
       "    }\n",
       "\n",
       "    .dataframe tbody tr th {\n",
       "        vertical-align: top;\n",
       "    }\n",
       "\n",
       "    .dataframe thead th {\n",
       "        text-align: right;\n",
       "    }\n",
       "</style>\n",
       "<table border=\"1\" class=\"dataframe\">\n",
       "  <thead>\n",
       "    <tr style=\"text-align: right;\">\n",
       "      <th></th>\n",
       "      <th>en</th>\n",
       "      <th>ru</th>\n",
       "      <th>url</th>\n",
       "    </tr>\n",
       "  </thead>\n",
       "  <tbody>\n",
       "    <tr>\n",
       "      <th>0</th>\n",
       "      <td>Laughing, delighting, and rebelling\\nIn all he...</td>\n",
       "      <td>Смеясь, ликуя и бунтуя, \\nв своей безвыходной ...</td>\n",
       "      <td>https://ruverses.com/bella-akhmadulina/laughin...</td>\n",
       "    </tr>\n",
       "    <tr>\n",
       "      <th>1</th>\n",
       "      <td>Don’t give me all of your time,\\ndon’t questio...</td>\n",
       "      <td>Не уделяй мне много времени,\\nвопросов мне не ...</td>\n",
       "      <td>https://ruverses.com/bella-akhmadulina/don-t-s...</td>\n",
       "    </tr>\n",
       "    <tr>\n",
       "      <th>2</th>\n",
       "      <td>Winter, to me your gestures are\\ncold and care...</td>\n",
       "      <td>О жест зимы ко мне, \\nхолодный и прилежный. \\n...</td>\n",
       "      <td>https://ruverses.com/bella-akhmadulina/winter/</td>\n",
       "    </tr>\n",
       "    <tr>\n",
       "      <th>3</th>\n",
       "      <td>There is a freedom blissful in a twilight\\nFro...</td>\n",
       "      <td>Есть в сумерках блаженная свобода \\nот явных ч...</td>\n",
       "      <td>https://ruverses.com/bella-akhmadulina/twiligh...</td>\n",
       "    </tr>\n",
       "    <tr>\n",
       "      <th>4</th>\n",
       "      <td>Click. The bullet was engaged.\\nThe wild candl...</td>\n",
       "      <td>Он приготовил пистолет,\\nсвеча качнулась, прод...</td>\n",
       "      <td>https://ruverses.com/bella-akhmadulina/click-t...</td>\n",
       "    </tr>\n",
       "    <tr>\n",
       "      <th>...</th>\n",
       "      <td>...</td>\n",
       "      <td>...</td>\n",
       "      <td>...</td>\n",
       "    </tr>\n",
       "    <tr>\n",
       "      <th>1435</th>\n",
       "      <td>A wondrous Moscow day in May,\\nEach cross on c...</td>\n",
       "      <td>Был чудный майский день в Москве;\\nКресты церк...</td>\n",
       "      <td>https://ruverses.com/afanasy-fet/a-wondrous-mo...</td>\n",
       "    </tr>\n",
       "    <tr>\n",
       "      <th>1436</th>\n",
       "      <td>Like a bright sun a bonfire flares up in the f...</td>\n",
       "      <td>Ярким солнцем в лесу пламенеет костёр,\\n    И,...</td>\n",
       "      <td>https://ruverses.com/afanasy-fet/like-a-bright...</td>\n",
       "    </tr>\n",
       "    <tr>\n",
       "      <th>1437</th>\n",
       "      <td>Beyond the window, it’s still bright,\\nThrough...</td>\n",
       "      <td>Ещё светло перед окном,\\nВ разрывы облак солнц...</td>\n",
       "      <td>https://ruverses.com/afanasy-fet/the-spring-rain/</td>\n",
       "    </tr>\n",
       "    <tr>\n",
       "      <th>1438</th>\n",
       "      <td>I’ll go along a familiar path to meet them,\\nT...</td>\n",
       "      <td>Пойду навстречу к ним знакомою тропою.\\nКакою ...</td>\n",
       "      <td>https://ruverses.com/afanasy-fet/i-ll-go-along/</td>\n",
       "    </tr>\n",
       "    <tr>\n",
       "      <th>1439</th>\n",
       "      <td>What a night!  How pure the air,\\nHow silvery ...</td>\n",
       "      <td>Какая ночь! Как воздух чист,\\nКак серебристый ...</td>\n",
       "      <td>https://ruverses.com/afanasy-fet/oh-what-a-nig...</td>\n",
       "    </tr>\n",
       "  </tbody>\n",
       "</table>\n",
       "<p>1440 rows × 3 columns</p>\n",
       "</div>"
      ],
      "text/plain": [
       "                                                     en  \\\n",
       "0     Laughing, delighting, and rebelling\\nIn all he...   \n",
       "1     Don’t give me all of your time,\\ndon’t questio...   \n",
       "2     Winter, to me your gestures are\\ncold and care...   \n",
       "3     There is a freedom blissful in a twilight\\nFro...   \n",
       "4     Click. The bullet was engaged.\\nThe wild candl...   \n",
       "...                                                 ...   \n",
       "1435  A wondrous Moscow day in May,\\nEach cross on c...   \n",
       "1436  Like a bright sun a bonfire flares up in the f...   \n",
       "1437  Beyond the window, it’s still bright,\\nThrough...   \n",
       "1438  I’ll go along a familiar path to meet them,\\nT...   \n",
       "1439  What a night!  How pure the air,\\nHow silvery ...   \n",
       "\n",
       "                                                     ru  \\\n",
       "0     Смеясь, ликуя и бунтуя, \\nв своей безвыходной ...   \n",
       "1     Не уделяй мне много времени,\\nвопросов мне не ...   \n",
       "2     О жест зимы ко мне, \\nхолодный и прилежный. \\n...   \n",
       "3     Есть в сумерках блаженная свобода \\nот явных ч...   \n",
       "4     Он приготовил пистолет,\\nсвеча качнулась, прод...   \n",
       "...                                                 ...   \n",
       "1435  Был чудный майский день в Москве;\\nКресты церк...   \n",
       "1436  Ярким солнцем в лесу пламенеет костёр,\\n    И,...   \n",
       "1437  Ещё светло перед окном,\\nВ разрывы облак солнц...   \n",
       "1438  Пойду навстречу к ним знакомою тропою.\\nКакою ...   \n",
       "1439  Какая ночь! Как воздух чист,\\nКак серебристый ...   \n",
       "\n",
       "                                                    url  \n",
       "0     https://ruverses.com/bella-akhmadulina/laughin...  \n",
       "1     https://ruverses.com/bella-akhmadulina/don-t-s...  \n",
       "2        https://ruverses.com/bella-akhmadulina/winter/  \n",
       "3     https://ruverses.com/bella-akhmadulina/twiligh...  \n",
       "4     https://ruverses.com/bella-akhmadulina/click-t...  \n",
       "...                                                 ...  \n",
       "1435  https://ruverses.com/afanasy-fet/a-wondrous-mo...  \n",
       "1436  https://ruverses.com/afanasy-fet/like-a-bright...  \n",
       "1437  https://ruverses.com/afanasy-fet/the-spring-rain/  \n",
       "1438    https://ruverses.com/afanasy-fet/i-ll-go-along/  \n",
       "1439  https://ruverses.com/afanasy-fet/oh-what-a-nig...  \n",
       "\n",
       "[1440 rows x 3 columns]"
      ]
     },
     "execution_count": 26,
     "metadata": {},
     "output_type": "execute_result"
    }
   ],
   "source": [
    "fin"
   ]
  },
  {
   "cell_type": "code",
   "execution_count": 27,
   "metadata": {},
   "outputs": [],
   "source": [
    "fin.to_csv(\"./data/ruverses_fin.csv\", index=False)"
   ]
  },
  {
   "cell_type": "code",
   "execution_count": null,
   "metadata": {},
   "outputs": [],
   "source": []
  }
 ],
 "metadata": {
  "kernelspec": {
   "display_name": "Python 3",
   "language": "python",
   "name": "python3"
  },
  "language_info": {
   "codemirror_mode": {
    "name": "ipython",
    "version": 3
   },
   "file_extension": ".py",
   "mimetype": "text/x-python",
   "name": "python",
   "nbconvert_exporter": "python",
   "pygments_lexer": "ipython3",
   "version": "3.7.5"
  }
 },
 "nbformat": 4,
 "nbformat_minor": 2
}
